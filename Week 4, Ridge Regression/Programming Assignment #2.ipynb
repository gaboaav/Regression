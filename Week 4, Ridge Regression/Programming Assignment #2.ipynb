{
 "cells": [
  {
   "cell_type": "markdown",
   "metadata": {},
   "source": [
    "# Import Pandas"
   ]
  },
  {
   "cell_type": "code",
   "execution_count": 1,
   "metadata": {},
   "outputs": [],
   "source": [
    "import pandas as pd"
   ]
  },
  {
   "cell_type": "markdown",
   "metadata": {},
   "source": [
    "# Import Data"
   ]
  },
  {
   "cell_type": "code",
   "execution_count": 2,
   "metadata": {},
   "outputs": [
    {
     "data": {
      "text/html": [
       "<div>\n",
       "<style scoped>\n",
       "    .dataframe tbody tr th:only-of-type {\n",
       "        vertical-align: middle;\n",
       "    }\n",
       "\n",
       "    .dataframe tbody tr th {\n",
       "        vertical-align: top;\n",
       "    }\n",
       "\n",
       "    .dataframe thead th {\n",
       "        text-align: right;\n",
       "    }\n",
       "</style>\n",
       "<table border=\"1\" class=\"dataframe\">\n",
       "  <thead>\n",
       "    <tr style=\"text-align: right;\">\n",
       "      <th></th>\n",
       "      <th>id</th>\n",
       "      <th>date</th>\n",
       "      <th>price</th>\n",
       "      <th>bedrooms</th>\n",
       "      <th>bathrooms</th>\n",
       "      <th>sqft_living</th>\n",
       "      <th>sqft_lot</th>\n",
       "      <th>floors</th>\n",
       "      <th>waterfront</th>\n",
       "      <th>view</th>\n",
       "      <th>...</th>\n",
       "      <th>grade</th>\n",
       "      <th>sqft_above</th>\n",
       "      <th>sqft_basement</th>\n",
       "      <th>yr_built</th>\n",
       "      <th>yr_renovated</th>\n",
       "      <th>zipcode</th>\n",
       "      <th>lat</th>\n",
       "      <th>long</th>\n",
       "      <th>sqft_living15</th>\n",
       "      <th>sqft_lot15</th>\n",
       "    </tr>\n",
       "  </thead>\n",
       "  <tbody>\n",
       "    <tr>\n",
       "      <th>0</th>\n",
       "      <td>7129300520</td>\n",
       "      <td>20141013T000000</td>\n",
       "      <td>221900.0</td>\n",
       "      <td>3.0</td>\n",
       "      <td>1.00</td>\n",
       "      <td>1180.0</td>\n",
       "      <td>5650</td>\n",
       "      <td>1.0</td>\n",
       "      <td>0</td>\n",
       "      <td>0</td>\n",
       "      <td>...</td>\n",
       "      <td>7</td>\n",
       "      <td>1180</td>\n",
       "      <td>0</td>\n",
       "      <td>1955</td>\n",
       "      <td>0</td>\n",
       "      <td>98178</td>\n",
       "      <td>47.5112</td>\n",
       "      <td>-122.257</td>\n",
       "      <td>1340.0</td>\n",
       "      <td>5650.0</td>\n",
       "    </tr>\n",
       "    <tr>\n",
       "      <th>1</th>\n",
       "      <td>6414100192</td>\n",
       "      <td>20141209T000000</td>\n",
       "      <td>538000.0</td>\n",
       "      <td>3.0</td>\n",
       "      <td>2.25</td>\n",
       "      <td>2570.0</td>\n",
       "      <td>7242</td>\n",
       "      <td>2.0</td>\n",
       "      <td>0</td>\n",
       "      <td>0</td>\n",
       "      <td>...</td>\n",
       "      <td>7</td>\n",
       "      <td>2170</td>\n",
       "      <td>400</td>\n",
       "      <td>1951</td>\n",
       "      <td>1991</td>\n",
       "      <td>98125</td>\n",
       "      <td>47.7210</td>\n",
       "      <td>-122.319</td>\n",
       "      <td>1690.0</td>\n",
       "      <td>7639.0</td>\n",
       "    </tr>\n",
       "    <tr>\n",
       "      <th>2</th>\n",
       "      <td>5631500400</td>\n",
       "      <td>20150225T000000</td>\n",
       "      <td>180000.0</td>\n",
       "      <td>2.0</td>\n",
       "      <td>1.00</td>\n",
       "      <td>770.0</td>\n",
       "      <td>10000</td>\n",
       "      <td>1.0</td>\n",
       "      <td>0</td>\n",
       "      <td>0</td>\n",
       "      <td>...</td>\n",
       "      <td>6</td>\n",
       "      <td>770</td>\n",
       "      <td>0</td>\n",
       "      <td>1933</td>\n",
       "      <td>0</td>\n",
       "      <td>98028</td>\n",
       "      <td>47.7379</td>\n",
       "      <td>-122.233</td>\n",
       "      <td>2720.0</td>\n",
       "      <td>8062.0</td>\n",
       "    </tr>\n",
       "    <tr>\n",
       "      <th>3</th>\n",
       "      <td>2487200875</td>\n",
       "      <td>20141209T000000</td>\n",
       "      <td>604000.0</td>\n",
       "      <td>4.0</td>\n",
       "      <td>3.00</td>\n",
       "      <td>1960.0</td>\n",
       "      <td>5000</td>\n",
       "      <td>1.0</td>\n",
       "      <td>0</td>\n",
       "      <td>0</td>\n",
       "      <td>...</td>\n",
       "      <td>7</td>\n",
       "      <td>1050</td>\n",
       "      <td>910</td>\n",
       "      <td>1965</td>\n",
       "      <td>0</td>\n",
       "      <td>98136</td>\n",
       "      <td>47.5208</td>\n",
       "      <td>-122.393</td>\n",
       "      <td>1360.0</td>\n",
       "      <td>5000.0</td>\n",
       "    </tr>\n",
       "    <tr>\n",
       "      <th>4</th>\n",
       "      <td>1954400510</td>\n",
       "      <td>20150218T000000</td>\n",
       "      <td>510000.0</td>\n",
       "      <td>3.0</td>\n",
       "      <td>2.00</td>\n",
       "      <td>1680.0</td>\n",
       "      <td>8080</td>\n",
       "      <td>1.0</td>\n",
       "      <td>0</td>\n",
       "      <td>0</td>\n",
       "      <td>...</td>\n",
       "      <td>8</td>\n",
       "      <td>1680</td>\n",
       "      <td>0</td>\n",
       "      <td>1987</td>\n",
       "      <td>0</td>\n",
       "      <td>98074</td>\n",
       "      <td>47.6168</td>\n",
       "      <td>-122.045</td>\n",
       "      <td>1800.0</td>\n",
       "      <td>7503.0</td>\n",
       "    </tr>\n",
       "    <tr>\n",
       "      <th>...</th>\n",
       "      <td>...</td>\n",
       "      <td>...</td>\n",
       "      <td>...</td>\n",
       "      <td>...</td>\n",
       "      <td>...</td>\n",
       "      <td>...</td>\n",
       "      <td>...</td>\n",
       "      <td>...</td>\n",
       "      <td>...</td>\n",
       "      <td>...</td>\n",
       "      <td>...</td>\n",
       "      <td>...</td>\n",
       "      <td>...</td>\n",
       "      <td>...</td>\n",
       "      <td>...</td>\n",
       "      <td>...</td>\n",
       "      <td>...</td>\n",
       "      <td>...</td>\n",
       "      <td>...</td>\n",
       "      <td>...</td>\n",
       "      <td>...</td>\n",
       "    </tr>\n",
       "    <tr>\n",
       "      <th>21608</th>\n",
       "      <td>0263000018</td>\n",
       "      <td>20140521T000000</td>\n",
       "      <td>360000.0</td>\n",
       "      <td>3.0</td>\n",
       "      <td>2.50</td>\n",
       "      <td>1530.0</td>\n",
       "      <td>1131</td>\n",
       "      <td>3.0</td>\n",
       "      <td>0</td>\n",
       "      <td>0</td>\n",
       "      <td>...</td>\n",
       "      <td>8</td>\n",
       "      <td>1530</td>\n",
       "      <td>0</td>\n",
       "      <td>2009</td>\n",
       "      <td>0</td>\n",
       "      <td>98103</td>\n",
       "      <td>47.6993</td>\n",
       "      <td>-122.346</td>\n",
       "      <td>1530.0</td>\n",
       "      <td>1509.0</td>\n",
       "    </tr>\n",
       "    <tr>\n",
       "      <th>21609</th>\n",
       "      <td>6600060120</td>\n",
       "      <td>20150223T000000</td>\n",
       "      <td>400000.0</td>\n",
       "      <td>4.0</td>\n",
       "      <td>2.50</td>\n",
       "      <td>2310.0</td>\n",
       "      <td>5813</td>\n",
       "      <td>2.0</td>\n",
       "      <td>0</td>\n",
       "      <td>0</td>\n",
       "      <td>...</td>\n",
       "      <td>8</td>\n",
       "      <td>2310</td>\n",
       "      <td>0</td>\n",
       "      <td>2014</td>\n",
       "      <td>0</td>\n",
       "      <td>98146</td>\n",
       "      <td>47.5107</td>\n",
       "      <td>-122.362</td>\n",
       "      <td>1830.0</td>\n",
       "      <td>7200.0</td>\n",
       "    </tr>\n",
       "    <tr>\n",
       "      <th>21610</th>\n",
       "      <td>1523300141</td>\n",
       "      <td>20140623T000000</td>\n",
       "      <td>402101.0</td>\n",
       "      <td>2.0</td>\n",
       "      <td>0.75</td>\n",
       "      <td>1020.0</td>\n",
       "      <td>1350</td>\n",
       "      <td>2.0</td>\n",
       "      <td>0</td>\n",
       "      <td>0</td>\n",
       "      <td>...</td>\n",
       "      <td>7</td>\n",
       "      <td>1020</td>\n",
       "      <td>0</td>\n",
       "      <td>2009</td>\n",
       "      <td>0</td>\n",
       "      <td>98144</td>\n",
       "      <td>47.5944</td>\n",
       "      <td>-122.299</td>\n",
       "      <td>1020.0</td>\n",
       "      <td>2007.0</td>\n",
       "    </tr>\n",
       "    <tr>\n",
       "      <th>21611</th>\n",
       "      <td>0291310100</td>\n",
       "      <td>20150116T000000</td>\n",
       "      <td>400000.0</td>\n",
       "      <td>3.0</td>\n",
       "      <td>2.50</td>\n",
       "      <td>1600.0</td>\n",
       "      <td>2388</td>\n",
       "      <td>2.0</td>\n",
       "      <td>0</td>\n",
       "      <td>0</td>\n",
       "      <td>...</td>\n",
       "      <td>8</td>\n",
       "      <td>1600</td>\n",
       "      <td>0</td>\n",
       "      <td>2004</td>\n",
       "      <td>0</td>\n",
       "      <td>98027</td>\n",
       "      <td>47.5345</td>\n",
       "      <td>-122.069</td>\n",
       "      <td>1410.0</td>\n",
       "      <td>1287.0</td>\n",
       "    </tr>\n",
       "    <tr>\n",
       "      <th>21612</th>\n",
       "      <td>1523300157</td>\n",
       "      <td>20141015T000000</td>\n",
       "      <td>325000.0</td>\n",
       "      <td>2.0</td>\n",
       "      <td>0.75</td>\n",
       "      <td>1020.0</td>\n",
       "      <td>1076</td>\n",
       "      <td>2.0</td>\n",
       "      <td>0</td>\n",
       "      <td>0</td>\n",
       "      <td>...</td>\n",
       "      <td>7</td>\n",
       "      <td>1020</td>\n",
       "      <td>0</td>\n",
       "      <td>2008</td>\n",
       "      <td>0</td>\n",
       "      <td>98144</td>\n",
       "      <td>47.5941</td>\n",
       "      <td>-122.299</td>\n",
       "      <td>1020.0</td>\n",
       "      <td>1357.0</td>\n",
       "    </tr>\n",
       "  </tbody>\n",
       "</table>\n",
       "<p>21613 rows × 21 columns</p>\n",
       "</div>"
      ],
      "text/plain": [
       "               id             date     price  bedrooms  bathrooms  \\\n",
       "0      7129300520  20141013T000000  221900.0       3.0       1.00   \n",
       "1      6414100192  20141209T000000  538000.0       3.0       2.25   \n",
       "2      5631500400  20150225T000000  180000.0       2.0       1.00   \n",
       "3      2487200875  20141209T000000  604000.0       4.0       3.00   \n",
       "4      1954400510  20150218T000000  510000.0       3.0       2.00   \n",
       "...           ...              ...       ...       ...        ...   \n",
       "21608  0263000018  20140521T000000  360000.0       3.0       2.50   \n",
       "21609  6600060120  20150223T000000  400000.0       4.0       2.50   \n",
       "21610  1523300141  20140623T000000  402101.0       2.0       0.75   \n",
       "21611  0291310100  20150116T000000  400000.0       3.0       2.50   \n",
       "21612  1523300157  20141015T000000  325000.0       2.0       0.75   \n",
       "\n",
       "       sqft_living  sqft_lot  floors  waterfront  view  ...  grade  \\\n",
       "0           1180.0      5650     1.0           0     0  ...      7   \n",
       "1           2570.0      7242     2.0           0     0  ...      7   \n",
       "2            770.0     10000     1.0           0     0  ...      6   \n",
       "3           1960.0      5000     1.0           0     0  ...      7   \n",
       "4           1680.0      8080     1.0           0     0  ...      8   \n",
       "...            ...       ...     ...         ...   ...  ...    ...   \n",
       "21608       1530.0      1131     3.0           0     0  ...      8   \n",
       "21609       2310.0      5813     2.0           0     0  ...      8   \n",
       "21610       1020.0      1350     2.0           0     0  ...      7   \n",
       "21611       1600.0      2388     2.0           0     0  ...      8   \n",
       "21612       1020.0      1076     2.0           0     0  ...      7   \n",
       "\n",
       "       sqft_above  sqft_basement  yr_built  yr_renovated  zipcode      lat  \\\n",
       "0            1180              0      1955             0    98178  47.5112   \n",
       "1            2170            400      1951          1991    98125  47.7210   \n",
       "2             770              0      1933             0    98028  47.7379   \n",
       "3            1050            910      1965             0    98136  47.5208   \n",
       "4            1680              0      1987             0    98074  47.6168   \n",
       "...           ...            ...       ...           ...      ...      ...   \n",
       "21608        1530              0      2009             0    98103  47.6993   \n",
       "21609        2310              0      2014             0    98146  47.5107   \n",
       "21610        1020              0      2009             0    98144  47.5944   \n",
       "21611        1600              0      2004             0    98027  47.5345   \n",
       "21612        1020              0      2008             0    98144  47.5941   \n",
       "\n",
       "          long  sqft_living15  sqft_lot15  \n",
       "0     -122.257         1340.0      5650.0  \n",
       "1     -122.319         1690.0      7639.0  \n",
       "2     -122.233         2720.0      8062.0  \n",
       "3     -122.393         1360.0      5000.0  \n",
       "4     -122.045         1800.0      7503.0  \n",
       "...        ...            ...         ...  \n",
       "21608 -122.346         1530.0      1509.0  \n",
       "21609 -122.362         1830.0      7200.0  \n",
       "21610 -122.299         1020.0      2007.0  \n",
       "21611 -122.069         1410.0      1287.0  \n",
       "21612 -122.299         1020.0      1357.0  \n",
       "\n",
       "[21613 rows x 21 columns]"
      ]
     },
     "execution_count": 2,
     "metadata": {},
     "output_type": "execute_result"
    }
   ],
   "source": [
    "dtype_dict = {'bathrooms':float, 'waterfront':int,\n",
    "              'sqft_above':int, 'sqft_living15':float,\n",
    "              'grade':int, 'yr_renovated':int,\n",
    "              'price':float, 'bedrooms':float,\n",
    "              'zipcode':str, 'long':float,\n",
    "              'sqft_lot15':float, 'sqft_living':float,\n",
    "              'floors':float, 'condition':int,\n",
    "              'lat':float, 'date':str, 'sqft_basement':int,\n",
    "              'yr_built':int, 'id':str, 'sqft_lot':int,\n",
    "              'view':int}\n",
    "\n",
    "sales = pd.read_csv('kc_house_data.csv', dtype=dtype_dict)\n",
    "sales"
   ]
  },
  {
   "cell_type": "markdown",
   "metadata": {},
   "source": [
    "## Converting to a Numpy"
   ]
  },
  {
   "cell_type": "code",
   "execution_count": 3,
   "metadata": {},
   "outputs": [],
   "source": [
    "import numpy as np\n",
    "def get_numpy_data(dataframe, features, output):\n",
    "    dataframe['constant'] = 1 # add a constant column to a DataFrame\n",
    "    # prepend variable 'constant' to the features list\n",
    "    features = ['constant'] + features\n",
    "    # select the columns of DataFrame given by the ‘features’ list into the DataFrame ‘features_Dataframe’\n",
    "    features_Dataframe=dataframe[features]\n",
    "    # this will convert the features_sframe into a numpy matrix:\n",
    "    features_matrix = features_Dataframe.to_numpy()\n",
    "    # assign the column of data_sframe associated with the target to the variable ‘output_sarray’\n",
    "    output_darray = dataframe[output]\n",
    "    # this will convert the SArray into a numpy array:\n",
    "    output_array = output_darray.to_numpy()\n",
    "    return(features_matrix, output_array)"
   ]
  },
  {
   "cell_type": "markdown",
   "metadata": {},
   "source": [
    "# Calculating the Derivative"
   ]
  },
  {
   "cell_type": "code",
   "execution_count": 79,
   "metadata": {},
   "outputs": [],
   "source": [
    "def predict_output(feature_matrix, weights):\n",
    "    predictions = np.dot(feature_matrix, weights)\n",
    "    predictions=np.around(predictions, decimals=2)\n",
    "    return(predictions)"
   ]
  },
  {
   "cell_type": "code",
   "execution_count": 23,
   "metadata": {},
   "outputs": [],
   "source": [
    "def derivative(error,feature,weight,alpha,constant):\n",
    "    if constant==True:\n",
    "        derivative=2*np.dot(error,feature)\n",
    "    else:\n",
    "        derivative=2*np.dot(error,feature)+2*alpha*weight\n",
    "    return derivative"
   ]
  },
  {
   "cell_type": "code",
   "execution_count": 82,
   "metadata": {},
   "outputs": [
    {
     "name": "stdout",
     "output_type": "stream",
     "text": [
      "-56554166815950.0\n",
      "-56554166815950.0\n",
      "\n",
      "-22446749330.0\n",
      "-22446749330.0\n"
     ]
    }
   ],
   "source": [
    "(features,output) = get_numpy_data(sales, ['sqft_living'], 'price')\n",
    "weights = np.array([1., 10.])\n",
    "y=predict_output(features,weights)\n",
    "error=y-output\n",
    "\n",
    "print(derivative(error,features[:,1],weights[1],1,False))\n",
    "print(np.sum(error*features[:,1])*2+20)\n",
    "print()\n",
    "\n",
    "print(derivative(error,features[:,0],weights[0],1,True))\n",
    "print(np.sum(error)*2)"
   ]
  },
  {
   "cell_type": "markdown",
   "metadata": {},
   "source": [
    "# Gradient Descent"
   ]
  },
  {
   "cell_type": "code",
   "execution_count": 107,
   "metadata": {},
   "outputs": [],
   "source": [
    "def ridge_regression_gradient_descent(features, output, initial_weights, step_size, alpha, max_iterations=100):\n",
    "    weights = np.array(initial_weights)\n",
    "    iterations=0\n",
    "    while iterations<max_iterations:\n",
    "        iterations+=1\n",
    "        y=predict_output(features,weights)\n",
    "        error=y-output\n",
    "        for i in range(len(weights)):\n",
    "            if i==0:\n",
    "                d=derivative(error,features[:,i],weights[i],alpha,True)\n",
    "                d=float(d)\n",
    "            else:\n",
    "                d=derivative(error,features[:,i],weights[i],alpha,False)\n",
    "                d=float(d)\n",
    "            weights[i]=float(weights[i])-float(step_size*d)\n",
    "        weights=np.around(weights,decimals=3)  \n",
    "    return weights"
   ]
  },
  {
   "cell_type": "code",
   "execution_count": 27,
   "metadata": {},
   "outputs": [],
   "source": [
    "test=pd.read_csv('kc_house_test_data.csv',dtype=dtype_dict)\n",
    "train=pd.read_csv('kc_house_train_data.csv',dtype=dtype_dict)"
   ]
  },
  {
   "cell_type": "markdown",
   "metadata": {},
   "source": [
    "## Simple Feature Gradient Descent"
   ]
  },
  {
   "cell_type": "code",
   "execution_count": 98,
   "metadata": {},
   "outputs": [],
   "source": [
    "simple_features=['sqft_living']\n",
    "output='price'\n",
    "(train_features,train_output)=get_numpy_data(train,simple_features,output)\n",
    "(test_features,test_output)=get_numpy_data(test,simple_features,output)"
   ]
  },
  {
   "cell_type": "code",
   "execution_count": 108,
   "metadata": {},
   "outputs": [
    {
     "data": {
      "text/plain": [
       "array([  0.098, 263.022])"
      ]
     },
     "execution_count": 108,
     "metadata": {},
     "output_type": "execute_result"
    }
   ],
   "source": [
    "initial_weights=np.array([0.0,0.0])\n",
    "step=1e-12\n",
    "iterations=1000\n",
    "alpha=0\n",
    "SW_0_alpha=ridge_regression_gradient_descent(train_features,train_output,\n",
    "                                     initial_weights,step,alpha,\n",
    "                                     iterations)\n",
    "SW_0_alpha"
   ]
  },
  {
   "cell_type": "code",
   "execution_count": 109,
   "metadata": {},
   "outputs": [
    {
     "data": {
      "text/plain": [
       "array([ 10.021, 124.573])"
      ]
     },
     "execution_count": 109,
     "metadata": {},
     "output_type": "execute_result"
    }
   ],
   "source": [
    "alpha=1e11\n",
    "SW_High_alpha=ridge_regression_gradient_descent(train_features,train_output,\n",
    "                                     initial_weights,step,alpha,\n",
    "                                     iterations)\n",
    "SW_High_alpha"
   ]
  },
  {
   "cell_type": "code",
   "execution_count": 110,
   "metadata": {},
   "outputs": [
    {
     "data": {
      "text/plain": [
       "[<matplotlib.lines.Line2D at 0x23e98bbe220>,\n",
       " <matplotlib.lines.Line2D at 0x23e98bbe5b0>,\n",
       " <matplotlib.lines.Line2D at 0x23e98bbe100>,\n",
       " <matplotlib.lines.Line2D at 0x23e98bbe6a0>,\n",
       " <matplotlib.lines.Line2D at 0x23e98bbefd0>,\n",
       " <matplotlib.lines.Line2D at 0x23e98bbed30>]"
      ]
     },
     "execution_count": 110,
     "metadata": {},
     "output_type": "execute_result"
    },
    {
     "data": {
      "image/png": "[encoded data removed]",
      "text/plain": [
       "<Figure size 432x288 with 1 Axes>"
      ]
     },
     "metadata": {
      "needs_background": "light"
     },
     "output_type": "display_data"
    }
   ],
   "source": [
    "import matplotlib.pyplot as plt\n",
    "%matplotlib inline\n",
    "plt.plot(train_features,train_output,'k.',\n",
    "        train_features,predict_output(train_features, SW_0_alpha),'b-',\n",
    "        train_features,predict_output(train_features, SW_High_alpha),'r-')"
   ]
  },
  {
   "cell_type": "code",
   "execution_count": 111,
   "metadata": {},
   "outputs": [
    {
     "data": {
      "text/plain": [
       "1784273286136298.0"
      ]
     },
     "execution_count": 111,
     "metadata": {},
     "output_type": "execute_result"
    }
   ],
   "source": [
    "test_y=predict_output(test_features,initial_weights)\n",
    "RSS=((test_y-test_output)**2).sum()\n",
    "RSS"
   ]
  },
  {
   "cell_type": "code",
   "execution_count": 112,
   "metadata": {},
   "outputs": [
    {
     "data": {
      "text/plain": [
       "275723675155888.44"
      ]
     },
     "execution_count": 112,
     "metadata": {},
     "output_type": "execute_result"
    }
   ],
   "source": [
    "test_y=predict_output(test_features,SW_0_alpha)\n",
    "RSS=((test_y-test_output)**2).sum()\n",
    "RSS"
   ]
  },
  {
   "cell_type": "code",
   "execution_count": 113,
   "metadata": {},
   "outputs": [
    {
     "data": {
      "text/plain": [
       "694636517874681.4"
      ]
     },
     "execution_count": 113,
     "metadata": {},
     "output_type": "execute_result"
    }
   ],
   "source": [
    "test_y=predict_output(test_features,SW_High_alpha)\n",
    "RSS=((test_y-test_output)**2).sum()\n",
    "RSS"
   ]
  },
  {
   "cell_type": "markdown",
   "metadata": {},
   "source": [
    "## 2-Features Gradient Descent"
   ]
  },
  {
   "cell_type": "code",
   "execution_count": 114,
   "metadata": {},
   "outputs": [],
   "source": [
    "features=['sqft_living','sqft_living15']\n",
    "output='price'\n",
    "(train_features,train_output)=get_numpy_data(train,features,output)\n",
    "(test_features,test_output)=get_numpy_data(test,features,output)"
   ]
  },
  {
   "cell_type": "code",
   "execution_count": 115,
   "metadata": {},
   "outputs": [
    {
     "data": {
      "text/plain": [
       "array([ -0.06 , 243.048,  22.422])"
      ]
     },
     "execution_count": 115,
     "metadata": {},
     "output_type": "execute_result"
    }
   ],
   "source": [
    "i_weights=np.array([0.0,0.0,0.0])\n",
    "step=1e-12\n",
    "iterations=1000\n",
    "alpha=0\n",
    "MW_0_alpha=ridge_regression_gradient_descent(train_features,train_output,\n",
    "                                     i_weights,step,alpha,\n",
    "                                     iterations)\n",
    "MW_0_alpha"
   ]
  },
  {
   "cell_type": "code",
   "execution_count": 116,
   "metadata": {},
   "outputs": [
    {
     "data": {
      "text/plain": [
       "array([ 7.02 , 91.489, 78.438])"
      ]
     },
     "execution_count": 116,
     "metadata": {},
     "output_type": "execute_result"
    }
   ],
   "source": [
    "alpha=1e11\n",
    "MW_High_alpha=ridge_regression_gradient_descent(train_features,train_output,\n",
    "                                     i_weights,step,alpha,\n",
    "                                     iterations)\n",
    "MW_High_alpha"
   ]
  },
  {
   "cell_type": "code",
   "execution_count": 117,
   "metadata": {},
   "outputs": [
    {
     "data": {
      "text/plain": [
       "1784273286136298.0"
      ]
     },
     "execution_count": 117,
     "metadata": {},
     "output_type": "execute_result"
    }
   ],
   "source": [
    "test_y=predict_output(test_features,i_weights)\n",
    "RSS=((test_y-test_output)**2).sum()\n",
    "RSS"
   ]
  },
  {
   "cell_type": "code",
   "execution_count": 118,
   "metadata": {},
   "outputs": [
    {
     "data": {
      "text/plain": [
       "274067305195105.25"
      ]
     },
     "execution_count": 118,
     "metadata": {},
     "output_type": "execute_result"
    }
   ],
   "source": [
    "test_y=predict_output(test_features,MW_0_alpha)\n",
    "RSS=((test_y-test_output)**2).sum()\n",
    "RSS"
   ]
  },
  {
   "cell_type": "code",
   "execution_count": 119,
   "metadata": {},
   "outputs": [
    {
     "data": {
      "text/plain": [
       "500400097422317.5"
      ]
     },
     "execution_count": 119,
     "metadata": {},
     "output_type": "execute_result"
    }
   ],
   "source": [
    "test_y=predict_output(test_features,MW_High_alpha)\n",
    "RSS=((test_y-test_output)**2).sum()\n",
    "RSS"
   ]
  },
  {
   "cell_type": "code",
   "execution_count": 120,
   "metadata": {},
   "outputs": [
    {
     "data": {
      "text/plain": [
       "[<matplotlib.lines.Line2D at 0x23e98a4a790>,\n",
       " <matplotlib.lines.Line2D at 0x23e98a4a7c0>,\n",
       " <matplotlib.lines.Line2D at 0x23e98a4a820>,\n",
       " <matplotlib.lines.Line2D at 0x23e98a4a640>,\n",
       " <matplotlib.lines.Line2D at 0x23e98a4a8e0>,\n",
       " <matplotlib.lines.Line2D at 0x23e98a4aa90>,\n",
       " <matplotlib.lines.Line2D at 0x23e98a4ab50>,\n",
       " <matplotlib.lines.Line2D at 0x23e98a4ac10>,\n",
       " <matplotlib.lines.Line2D at 0x23e98a4acd0>]"
      ]
     },
     "execution_count": 120,
     "metadata": {},
     "output_type": "execute_result"
    },
    {
     "data": {
      "image/png": "[encoded data removed]",
      "text/plain": [
       "<Figure size 432x288 with 1 Axes>"
      ]
     },
     "metadata": {
      "needs_background": "light"
     },
     "output_type": "display_data"
    }
   ],
   "source": [
    "plt.plot(train_features,train_output,'k.',\n",
    "        train_features,predict_output(train_features, MW_0_alpha),'b-',\n",
    "        train_features,predict_output(train_features, MW_High_alpha),'r-')"
   ]
  },
  {
   "cell_type": "code",
   "execution_count": 121,
   "metadata": {},
   "outputs": [
    {
     "name": "stdout",
     "output_type": "stream",
     "text": [
      "77469.73999999999\n"
     ]
    },
    {
     "data": {
      "text/plain": [
       "387469.74"
      ]
     },
     "execution_count": 121,
     "metadata": {},
     "output_type": "execute_result"
    }
   ],
   "source": [
    "test_y=predict_output(test_features[0],MW_0_alpha)\n",
    "print(test_y-test_output[0])\n",
    "test_y"
   ]
  },
  {
   "cell_type": "code",
   "execution_count": 122,
   "metadata": {},
   "outputs": [
    {
     "name": "stdout",
     "output_type": "stream",
     "text": [
      "-39544.07000000001\n"
     ]
    },
    {
     "data": {
      "text/plain": [
       "270455.93"
      ]
     },
     "execution_count": 122,
     "metadata": {},
     "output_type": "execute_result"
    }
   ],
   "source": [
    "test_y=predict_output(test_features[0],MW_High_alpha)\n",
    "print(test_y-test_output[0])\n",
    "test_y"
   ]
  },
  {
   "cell_type": "code",
   "execution_count": 123,
   "metadata": {},
   "outputs": [
    {
     "data": {
      "text/plain": [
       "id                    0114101516\n",
       "date             20140528T000000\n",
       "price                     310000\n",
       "bedrooms                       3\n",
       "bathrooms                      1\n",
       "sqft_living                 1430\n",
       "sqft_lot                   19901\n",
       "floors                       1.5\n",
       "waterfront                     0\n",
       "view                           0\n",
       "condition                      4\n",
       "grade                          7\n",
       "sqft_above                  1430\n",
       "sqft_basement                  0\n",
       "yr_built                    1927\n",
       "yr_renovated                   0\n",
       "zipcode                    98028\n",
       "lat                      47.7558\n",
       "long                    -122.229\n",
       "sqft_living15               1780\n",
       "sqft_lot15                 12697\n",
       "constant                       1\n",
       "Name: 0, dtype: object"
      ]
     },
     "execution_count": 123,
     "metadata": {},
     "output_type": "execute_result"
    }
   ],
   "source": [
    "test.iloc[0]"
   ]
  }
 ],
 "metadata": {
  "kernelspec": {
   "display_name": "Python 3",
   "language": "python",
   "name": "python3"
  },
  "language_info": {
   "codemirror_mode": {
    "name": "ipython",
    "version": 3
   },
   "file_extension": ".py",
   "mimetype": "text/x-python",
   "name": "python",
   "nbconvert_exporter": "python",
   "pygments_lexer": "ipython3",
   "version": "3.8.5"
  }
 },
 "nbformat": 4,
 "nbformat_minor": 4
}
