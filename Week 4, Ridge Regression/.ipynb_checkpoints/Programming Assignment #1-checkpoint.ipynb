{
 "cells": [
  {
   "cell_type": "markdown",
   "metadata": {},
   "source": [
    "# Import Pandas"
   ]
  },
  {
   "cell_type": "code",
   "execution_count": 1,
   "metadata": {},
   "outputs": [],
   "source": [
    "import pandas as pd"
   ]
  },
  {
   "cell_type": "markdown",
   "metadata": {},
   "source": [
    "# Polynomial Function"
   ]
  },
  {
   "cell_type": "code",
   "execution_count": 2,
   "metadata": {},
   "outputs": [],
   "source": [
    "def polynomial_DF(feature, degree): # feature is pandas.Series type\n",
    "    poly_DF = pd.DataFrame()\n",
    "    poly_DF['power_1']=feature\n",
    "    if degree > 1:\n",
    "        for power in range(2, degree+1):\n",
    "            name = 'power_' + str(power)\n",
    "            temp=feature.apply(lambda x:x**power)\n",
    "            poly_DF[name]=temp\n",
    "    return poly_DF"
   ]
  },
  {
   "cell_type": "markdown",
   "metadata": {},
   "source": [
    "# Import Data"
   ]
  },
  {
   "cell_type": "code",
   "execution_count": 4,
   "metadata": {},
   "outputs": [
    {
     "data": {
      "text/html": [
       "<div>\n",
       "<style scoped>\n",
       "    .dataframe tbody tr th:only-of-type {\n",
       "        vertical-align: middle;\n",
       "    }\n",
       "\n",
       "    .dataframe tbody tr th {\n",
       "        vertical-align: top;\n",
       "    }\n",
       "\n",
       "    .dataframe thead th {\n",
       "        text-align: right;\n",
       "    }\n",
       "</style>\n",
       "<table border=\"1\" class=\"dataframe\">\n",
       "  <thead>\n",
       "    <tr style=\"text-align: right;\">\n",
       "      <th></th>\n",
       "      <th>id</th>\n",
       "      <th>date</th>\n",
       "      <th>price</th>\n",
       "      <th>bedrooms</th>\n",
       "      <th>bathrooms</th>\n",
       "      <th>sqft_living</th>\n",
       "      <th>sqft_lot</th>\n",
       "      <th>floors</th>\n",
       "      <th>waterfront</th>\n",
       "      <th>view</th>\n",
       "      <th>...</th>\n",
       "      <th>grade</th>\n",
       "      <th>sqft_above</th>\n",
       "      <th>sqft_basement</th>\n",
       "      <th>yr_built</th>\n",
       "      <th>yr_renovated</th>\n",
       "      <th>zipcode</th>\n",
       "      <th>lat</th>\n",
       "      <th>long</th>\n",
       "      <th>sqft_living15</th>\n",
       "      <th>sqft_lot15</th>\n",
       "    </tr>\n",
       "  </thead>\n",
       "  <tbody>\n",
       "    <tr>\n",
       "      <th>19452</th>\n",
       "      <td>3980300371</td>\n",
       "      <td>20140926T000000</td>\n",
       "      <td>142000.0</td>\n",
       "      <td>0.0</td>\n",
       "      <td>0.00</td>\n",
       "      <td>290.0</td>\n",
       "      <td>20875</td>\n",
       "      <td>1.0</td>\n",
       "      <td>0</td>\n",
       "      <td>0</td>\n",
       "      <td>...</td>\n",
       "      <td>1</td>\n",
       "      <td>290</td>\n",
       "      <td>0</td>\n",
       "      <td>1963</td>\n",
       "      <td>0</td>\n",
       "      <td>98024</td>\n",
       "      <td>47.5308</td>\n",
       "      <td>-121.888</td>\n",
       "      <td>1620.0</td>\n",
       "      <td>22850.0</td>\n",
       "    </tr>\n",
       "    <tr>\n",
       "      <th>15381</th>\n",
       "      <td>2856101479</td>\n",
       "      <td>20140701T000000</td>\n",
       "      <td>276000.0</td>\n",
       "      <td>1.0</td>\n",
       "      <td>0.75</td>\n",
       "      <td>370.0</td>\n",
       "      <td>1801</td>\n",
       "      <td>1.0</td>\n",
       "      <td>0</td>\n",
       "      <td>0</td>\n",
       "      <td>...</td>\n",
       "      <td>5</td>\n",
       "      <td>370</td>\n",
       "      <td>0</td>\n",
       "      <td>1923</td>\n",
       "      <td>0</td>\n",
       "      <td>98117</td>\n",
       "      <td>47.6778</td>\n",
       "      <td>-122.389</td>\n",
       "      <td>1340.0</td>\n",
       "      <td>5000.0</td>\n",
       "    </tr>\n",
       "    <tr>\n",
       "      <th>860</th>\n",
       "      <td>1723049033</td>\n",
       "      <td>20140620T000000</td>\n",
       "      <td>245000.0</td>\n",
       "      <td>1.0</td>\n",
       "      <td>0.75</td>\n",
       "      <td>380.0</td>\n",
       "      <td>15000</td>\n",
       "      <td>1.0</td>\n",
       "      <td>0</td>\n",
       "      <td>0</td>\n",
       "      <td>...</td>\n",
       "      <td>5</td>\n",
       "      <td>380</td>\n",
       "      <td>0</td>\n",
       "      <td>1963</td>\n",
       "      <td>0</td>\n",
       "      <td>98168</td>\n",
       "      <td>47.4810</td>\n",
       "      <td>-122.323</td>\n",
       "      <td>1170.0</td>\n",
       "      <td>15000.0</td>\n",
       "    </tr>\n",
       "    <tr>\n",
       "      <th>18379</th>\n",
       "      <td>1222029077</td>\n",
       "      <td>20141029T000000</td>\n",
       "      <td>265000.0</td>\n",
       "      <td>0.0</td>\n",
       "      <td>0.75</td>\n",
       "      <td>384.0</td>\n",
       "      <td>213444</td>\n",
       "      <td>1.0</td>\n",
       "      <td>0</td>\n",
       "      <td>0</td>\n",
       "      <td>...</td>\n",
       "      <td>4</td>\n",
       "      <td>384</td>\n",
       "      <td>0</td>\n",
       "      <td>2003</td>\n",
       "      <td>0</td>\n",
       "      <td>98070</td>\n",
       "      <td>47.4177</td>\n",
       "      <td>-122.491</td>\n",
       "      <td>1920.0</td>\n",
       "      <td>224341.0</td>\n",
       "    </tr>\n",
       "    <tr>\n",
       "      <th>4868</th>\n",
       "      <td>6896300380</td>\n",
       "      <td>20141002T000000</td>\n",
       "      <td>228000.0</td>\n",
       "      <td>0.0</td>\n",
       "      <td>1.00</td>\n",
       "      <td>390.0</td>\n",
       "      <td>5900</td>\n",
       "      <td>1.0</td>\n",
       "      <td>0</td>\n",
       "      <td>0</td>\n",
       "      <td>...</td>\n",
       "      <td>4</td>\n",
       "      <td>390</td>\n",
       "      <td>0</td>\n",
       "      <td>1953</td>\n",
       "      <td>0</td>\n",
       "      <td>98118</td>\n",
       "      <td>47.5260</td>\n",
       "      <td>-122.261</td>\n",
       "      <td>2170.0</td>\n",
       "      <td>6000.0</td>\n",
       "    </tr>\n",
       "    <tr>\n",
       "      <th>...</th>\n",
       "      <td>...</td>\n",
       "      <td>...</td>\n",
       "      <td>...</td>\n",
       "      <td>...</td>\n",
       "      <td>...</td>\n",
       "      <td>...</td>\n",
       "      <td>...</td>\n",
       "      <td>...</td>\n",
       "      <td>...</td>\n",
       "      <td>...</td>\n",
       "      <td>...</td>\n",
       "      <td>...</td>\n",
       "      <td>...</td>\n",
       "      <td>...</td>\n",
       "      <td>...</td>\n",
       "      <td>...</td>\n",
       "      <td>...</td>\n",
       "      <td>...</td>\n",
       "      <td>...</td>\n",
       "      <td>...</td>\n",
       "      <td>...</td>\n",
       "    </tr>\n",
       "    <tr>\n",
       "      <th>8092</th>\n",
       "      <td>1924059029</td>\n",
       "      <td>20140617T000000</td>\n",
       "      <td>4668000.0</td>\n",
       "      <td>5.0</td>\n",
       "      <td>6.75</td>\n",
       "      <td>9640.0</td>\n",
       "      <td>13068</td>\n",
       "      <td>1.0</td>\n",
       "      <td>1</td>\n",
       "      <td>4</td>\n",
       "      <td>...</td>\n",
       "      <td>12</td>\n",
       "      <td>4820</td>\n",
       "      <td>4820</td>\n",
       "      <td>1983</td>\n",
       "      <td>2009</td>\n",
       "      <td>98040</td>\n",
       "      <td>47.5570</td>\n",
       "      <td>-122.210</td>\n",
       "      <td>3270.0</td>\n",
       "      <td>10454.0</td>\n",
       "    </tr>\n",
       "    <tr>\n",
       "      <th>9254</th>\n",
       "      <td>9208900037</td>\n",
       "      <td>20140919T000000</td>\n",
       "      <td>6885000.0</td>\n",
       "      <td>6.0</td>\n",
       "      <td>7.75</td>\n",
       "      <td>9890.0</td>\n",
       "      <td>31374</td>\n",
       "      <td>2.0</td>\n",
       "      <td>0</td>\n",
       "      <td>4</td>\n",
       "      <td>...</td>\n",
       "      <td>13</td>\n",
       "      <td>8860</td>\n",
       "      <td>1030</td>\n",
       "      <td>2001</td>\n",
       "      <td>0</td>\n",
       "      <td>98039</td>\n",
       "      <td>47.6305</td>\n",
       "      <td>-122.240</td>\n",
       "      <td>4540.0</td>\n",
       "      <td>42730.0</td>\n",
       "    </tr>\n",
       "    <tr>\n",
       "      <th>3914</th>\n",
       "      <td>9808700762</td>\n",
       "      <td>20140611T000000</td>\n",
       "      <td>7062500.0</td>\n",
       "      <td>5.0</td>\n",
       "      <td>4.50</td>\n",
       "      <td>10040.0</td>\n",
       "      <td>37325</td>\n",
       "      <td>2.0</td>\n",
       "      <td>1</td>\n",
       "      <td>2</td>\n",
       "      <td>...</td>\n",
       "      <td>11</td>\n",
       "      <td>7680</td>\n",
       "      <td>2360</td>\n",
       "      <td>1940</td>\n",
       "      <td>2001</td>\n",
       "      <td>98004</td>\n",
       "      <td>47.6500</td>\n",
       "      <td>-122.214</td>\n",
       "      <td>3930.0</td>\n",
       "      <td>25449.0</td>\n",
       "    </tr>\n",
       "    <tr>\n",
       "      <th>7252</th>\n",
       "      <td>6762700020</td>\n",
       "      <td>20141013T000000</td>\n",
       "      <td>7700000.0</td>\n",
       "      <td>6.0</td>\n",
       "      <td>8.00</td>\n",
       "      <td>12050.0</td>\n",
       "      <td>27600</td>\n",
       "      <td>2.5</td>\n",
       "      <td>0</td>\n",
       "      <td>3</td>\n",
       "      <td>...</td>\n",
       "      <td>13</td>\n",
       "      <td>8570</td>\n",
       "      <td>3480</td>\n",
       "      <td>1910</td>\n",
       "      <td>1987</td>\n",
       "      <td>98102</td>\n",
       "      <td>47.6298</td>\n",
       "      <td>-122.323</td>\n",
       "      <td>3940.0</td>\n",
       "      <td>8800.0</td>\n",
       "    </tr>\n",
       "    <tr>\n",
       "      <th>12777</th>\n",
       "      <td>1225069038</td>\n",
       "      <td>20140505T000000</td>\n",
       "      <td>2280000.0</td>\n",
       "      <td>7.0</td>\n",
       "      <td>8.00</td>\n",
       "      <td>13540.0</td>\n",
       "      <td>307752</td>\n",
       "      <td>3.0</td>\n",
       "      <td>0</td>\n",
       "      <td>4</td>\n",
       "      <td>...</td>\n",
       "      <td>12</td>\n",
       "      <td>9410</td>\n",
       "      <td>4130</td>\n",
       "      <td>1999</td>\n",
       "      <td>0</td>\n",
       "      <td>98053</td>\n",
       "      <td>47.6675</td>\n",
       "      <td>-121.986</td>\n",
       "      <td>4850.0</td>\n",
       "      <td>217800.0</td>\n",
       "    </tr>\n",
       "  </tbody>\n",
       "</table>\n",
       "<p>21613 rows × 21 columns</p>\n",
       "</div>"
      ],
      "text/plain": [
       "               id             date      price  bedrooms  bathrooms  \\\n",
       "19452  3980300371  20140926T000000   142000.0       0.0       0.00   \n",
       "15381  2856101479  20140701T000000   276000.0       1.0       0.75   \n",
       "860    1723049033  20140620T000000   245000.0       1.0       0.75   \n",
       "18379  1222029077  20141029T000000   265000.0       0.0       0.75   \n",
       "4868   6896300380  20141002T000000   228000.0       0.0       1.00   \n",
       "...           ...              ...        ...       ...        ...   \n",
       "8092   1924059029  20140617T000000  4668000.0       5.0       6.75   \n",
       "9254   9208900037  20140919T000000  6885000.0       6.0       7.75   \n",
       "3914   9808700762  20140611T000000  7062500.0       5.0       4.50   \n",
       "7252   6762700020  20141013T000000  7700000.0       6.0       8.00   \n",
       "12777  1225069038  20140505T000000  2280000.0       7.0       8.00   \n",
       "\n",
       "       sqft_living  sqft_lot  floors  waterfront  view  ...  grade  \\\n",
       "19452        290.0     20875     1.0           0     0  ...      1   \n",
       "15381        370.0      1801     1.0           0     0  ...      5   \n",
       "860          380.0     15000     1.0           0     0  ...      5   \n",
       "18379        384.0    213444     1.0           0     0  ...      4   \n",
       "4868         390.0      5900     1.0           0     0  ...      4   \n",
       "...            ...       ...     ...         ...   ...  ...    ...   \n",
       "8092        9640.0     13068     1.0           1     4  ...     12   \n",
       "9254        9890.0     31374     2.0           0     4  ...     13   \n",
       "3914       10040.0     37325     2.0           1     2  ...     11   \n",
       "7252       12050.0     27600     2.5           0     3  ...     13   \n",
       "12777      13540.0    307752     3.0           0     4  ...     12   \n",
       "\n",
       "       sqft_above  sqft_basement  yr_built  yr_renovated  zipcode      lat  \\\n",
       "19452         290              0      1963             0    98024  47.5308   \n",
       "15381         370              0      1923             0    98117  47.6778   \n",
       "860           380              0      1963             0    98168  47.4810   \n",
       "18379         384              0      2003             0    98070  47.4177   \n",
       "4868          390              0      1953             0    98118  47.5260   \n",
       "...           ...            ...       ...           ...      ...      ...   \n",
       "8092         4820           4820      1983          2009    98040  47.5570   \n",
       "9254         8860           1030      2001             0    98039  47.6305   \n",
       "3914         7680           2360      1940          2001    98004  47.6500   \n",
       "7252         8570           3480      1910          1987    98102  47.6298   \n",
       "12777        9410           4130      1999             0    98053  47.6675   \n",
       "\n",
       "          long  sqft_living15  sqft_lot15  \n",
       "19452 -121.888         1620.0     22850.0  \n",
       "15381 -122.389         1340.0      5000.0  \n",
       "860   -122.323         1170.0     15000.0  \n",
       "18379 -122.491         1920.0    224341.0  \n",
       "4868  -122.261         2170.0      6000.0  \n",
       "...        ...            ...         ...  \n",
       "8092  -122.210         3270.0     10454.0  \n",
       "9254  -122.240         4540.0     42730.0  \n",
       "3914  -122.214         3930.0     25449.0  \n",
       "7252  -122.323         3940.0      8800.0  \n",
       "12777 -121.986         4850.0    217800.0  \n",
       "\n",
       "[21613 rows x 21 columns]"
      ]
     },
     "execution_count": 4,
     "metadata": {},
     "output_type": "execute_result"
    }
   ],
   "source": [
    "dtype_dict = {'bathrooms':float, 'waterfront':int,\n",
    "              'sqft_above':int, 'sqft_living15':float,\n",
    "              'grade':int, 'yr_renovated':int,\n",
    "              'price':float, 'bedrooms':float,\n",
    "              'zipcode':str, 'long':float,\n",
    "              'sqft_lot15':float, 'sqft_living':float,\n",
    "              'floors':float, 'condition':int,\n",
    "              'lat':float, 'date':str, 'sqft_basement':int,\n",
    "              'yr_built':int, 'id':str, 'sqft_lot':int,\n",
    "              'view':int}\n",
    "\n",
    "sales = pd.read_csv('kc_house_data.csv', dtype=dtype_dict)\n",
    "sales = sales.sort_values(['sqft_living','price'])\n",
    "sales"
   ]
  },
  {
   "cell_type": "markdown",
   "metadata": {},
   "source": [
    "## Ridge Regression "
   ]
  },
  {
   "cell_type": "code",
   "execution_count": 15,
   "metadata": {},
   "outputs": [],
   "source": [
    "from sklearn.linear_model import Ridge\n",
    "from matplotlib import pyplot as plt\n",
    "import numpy as np"
   ]
  },
  {
   "cell_type": "code",
   "execution_count": 9,
   "metadata": {},
   "outputs": [],
   "source": [
    "def PCoeff(model):\n",
    "    deg=len(model.coef_)\n",
    "    w=list(model.coef_)\n",
    "    print('Learned polynomial for degree '+str(deg)+':')\n",
    "    w.reverse()\n",
    "    w.append(model.intercept_)\n",
    "    print(np.poly1d(w))"
   ]
  },
  {
   "cell_type": "code",
   "execution_count": 7,
   "metadata": {},
   "outputs": [
    {
     "data": {
      "text/plain": [
       "Ridge(alpha=1.5e-05, normalize=True)"
      ]
     },
     "execution_count": 7,
     "metadata": {},
     "output_type": "execute_result"
    }
   ],
   "source": [
    "alpha=1.5e-5\n",
    "poly15 = polynomial_DF(sales['sqft_living'], 15) # use equivalent of `polynomial_sframe`\n",
    "model = Ridge(alpha, normalize=True)\n",
    "model.fit(poly15, sales['price'])"
   ]
  },
  {
   "cell_type": "code",
   "execution_count": 27,
   "metadata": {},
   "outputs": [
    {
     "name": "stdout",
     "output_type": "stream",
     "text": [
      "Learned polynomial for degree 15:\n",
      "           15             14             13             12\n",
      "1.398e-54 x  + 3.782e-51 x  - 1.078e-46 x  - 2.724e-42 x \n",
      "             11             10             9            8             7\n",
      " - 3.88e-38 x  - 3.279e-34 x  + 6.526e-31 x + 8.28e-26 x + 1.511e-21 x\n",
      "              6             5             4             3           2\n",
      " + 8.541e-18 x - 1.942e-13 x - 2.444e-09 x + 3.014e-05 x - 0.04774 x + 124.9 x + 2.207e+05\n"
     ]
    },
    {
     "data": {
      "text/plain": [
       "[<matplotlib.lines.Line2D at 0x29279397820>,\n",
       " <matplotlib.lines.Line2D at 0x29279397880>]"
      ]
     },
     "execution_count": 27,
     "metadata": {},
     "output_type": "execute_result"
    },
    {
     "data": {
      "image/png": "[encoded data removed]",
      "text/plain": [
       "<Figure size 432x288 with 1 Axes>"
      ]
     },
     "metadata": {
      "needs_background": "light"
     },
     "output_type": "display_data"
    }
   ],
   "source": [
    "PCoeff(model)\n",
    "plt.plot(poly15['power_1'],sales['price'],'.',\n",
    "         poly15['power_1'],model.predict(poly15))"
   ]
  },
  {
   "cell_type": "code",
   "execution_count": 28,
   "metadata": {},
   "outputs": [],
   "source": [
    "set_1 = pd.read_csv('wk3_kc_house_set_1_data.csv', dtype=dtype_dict)\n",
    "set_2 = pd.read_csv('wk3_kc_house_set_2_data.csv', dtype=dtype_dict)\n",
    "set_3 = pd.read_csv('wk3_kc_house_set_3_data.csv', dtype=dtype_dict)\n",
    "set_4 = pd.read_csv('wk3_kc_house_set_4_data.csv', dtype=dtype_dict)"
   ]
  },
  {
   "cell_type": "markdown",
   "metadata": {},
   "source": [
    "# Alpha =1e-9"
   ]
  },
  {
   "cell_type": "markdown",
   "metadata": {},
   "source": [
    "## Set 1"
   ]
  },
  {
   "cell_type": "code",
   "execution_count": 30,
   "metadata": {},
   "outputs": [
    {
     "name": "stdout",
     "output_type": "stream",
     "text": [
      "Learned polynomial for degree 15:\n",
      "            15             14             13           12\n",
      "-3.352e-53 x  + 2.538e-49 x  + 5.566e-45 x  + 3.4e-41 x \n",
      "              11             10             9             8\n",
      " - 3.718e-37 x  - 1.041e-32 x  - 7.572e-29 x + 6.875e-25 x\n",
      "              7             6             5             4             3\n",
      " + 1.479e-20 x - 1.391e-17 x - 3.905e-13 x - 1.172e-08 x + 0.0001224 x\n",
      "           2\n",
      " - 0.3554 x + 544.7 x + 2.389e+04\n"
     ]
    },
    {
     "data": {
      "text/plain": [
       "[<matplotlib.lines.Line2D at 0x292792def70>,\n",
       " <matplotlib.lines.Line2D at 0x292792dec70>]"
      ]
     },
     "execution_count": 30,
     "metadata": {},
     "output_type": "execute_result"
    },
    {
     "data": {
      "image/png": "[encoded data removed]",
      "text/plain": [
       "<Figure size 432x288 with 1 Axes>"
      ]
     },
     "metadata": {
      "needs_background": "light"
     },
     "output_type": "display_data"
    }
   ],
   "source": [
    "alpha=1e-9\n",
    "set_1 = set_1.sort_values(['sqft_living','price'])\n",
    "poly15 = polynomial_DF(set_1['sqft_living'], 15) # use equivalent of `polynomial_sframe`\n",
    "model = Ridge(alpha, normalize=True)\n",
    "model.fit(poly15, set_1['price'])\n",
    "PCoeff(model)\n",
    "plt.plot(poly15['power_1'],set_1['price'],'.',\n",
    "         poly15['power_1'],model.predict(poly15))"
   ]
  },
  {
   "cell_type": "markdown",
   "metadata": {},
   "source": [
    "## Set 2"
   ]
  },
  {
   "cell_type": "code",
   "execution_count": 31,
   "metadata": {},
   "outputs": [
    {
     "name": "stdout",
     "output_type": "stream",
     "text": [
      "Learned polynomial for degree 15:\n",
      "           15             14             13            12\n",
      "1.665e-50 x  - 1.388e-46 x  - 1.295e-42 x  + 3.28e-41 x \n",
      "              11             10             9             8\n",
      " + 9.259e-35 x  + 7.443e-31 x  - 1.446e-27 x - 6.308e-23 x\n",
      "              7            6             5             4             3\n",
      " - 1.427e-19 x + 3.74e-15 x - 2.696e-12 x - 9.128e-08 x + 0.0004289 x\n",
      "           2\n",
      " - 0.8181 x + 859.4 x - 5.561e+04\n"
     ]
    },
    {
     "data": {
      "text/plain": [
       "[<matplotlib.lines.Line2D at 0x29279400640>,\n",
       " <matplotlib.lines.Line2D at 0x292794006a0>]"
      ]
     },
     "execution_count": 31,
     "metadata": {},
     "output_type": "execute_result"
    },
    {
     "data": {
      "image/png": "[encoded data removed]",
      "text/plain": [
       "<Figure size 432x288 with 1 Axes>"
      ]
     },
     "metadata": {
      "needs_background": "light"
     },
     "output_type": "display_data"
    }
   ],
   "source": [
    "set_2 = set_2.sort_values(['sqft_living','price'])\n",
    "poly15 = polynomial_DF(set_2['sqft_living'], 15) # use equivalent of `polynomial_sframe`\n",
    "model = Ridge(alpha, normalize=True)\n",
    "model.fit(poly15, set_2['price'])\n",
    "PCoeff(model)\n",
    "plt.plot(poly15['power_1'],set_2['price'],'.',\n",
    "         poly15['power_1'],model.predict(poly15))"
   ]
  },
  {
   "cell_type": "markdown",
   "metadata": {},
   "source": [
    "## Set 3"
   ]
  },
  {
   "cell_type": "code",
   "execution_count": 32,
   "metadata": {},
   "outputs": [
    {
     "name": "stdout",
     "output_type": "stream",
     "text": [
      "Learned polynomial for degree 15:\n",
      "            15             14             13             12\n",
      "-3.933e-51 x  + 5.085e-47 x  + 3.191e-43 x  - 1.802e-39 x \n",
      "             11             10             9             8\n",
      " - 4.16e-35 x  - 1.971e-31 x  + 2.192e-27 x + 3.381e-23 x\n",
      "              7             6            5            4             3\n",
      " - 2.137e-20 x - 2.886e-15 x + 7.15e-12 x + 7.78e-08 x - 0.0004589 x\n",
      "           2\n",
      " + 0.9756 x - 755.4 x + 4.71e+05\n"
     ]
    },
    {
     "data": {
      "text/plain": [
       "[<matplotlib.lines.Line2D at 0x29279475eb0>,\n",
       " <matplotlib.lines.Line2D at 0x29279475f10>]"
      ]
     },
     "execution_count": 32,
     "metadata": {},
     "output_type": "execute_result"
    },
    {
     "data": {
      "image/png": "[encoded data removed]",
      "text/plain": [
       "<Figure size 432x288 with 1 Axes>"
      ]
     },
     "metadata": {
      "needs_background": "light"
     },
     "output_type": "display_data"
    }
   ],
   "source": [
    "set_3 = set_3.sort_values(['sqft_living','price'])\n",
    "poly15 = polynomial_DF(set_3['sqft_living'], 15) # use equivalent of `polynomial_sframe`\n",
    "model = Ridge(alpha, normalize=True)\n",
    "model.fit(poly15, set_3['price'])\n",
    "PCoeff(model)\n",
    "plt.plot(poly15['power_1'],set_3['price'],'.',\n",
    "         poly15['power_1'],model.predict(poly15))"
   ]
  },
  {
   "cell_type": "markdown",
   "metadata": {},
   "source": [
    "## Set 4"
   ]
  },
  {
   "cell_type": "code",
   "execution_count": 33,
   "metadata": {},
   "outputs": [
    {
     "name": "stdout",
     "output_type": "stream",
     "text": [
      "Learned polynomial for degree 15:\n",
      "           15             14            13             12            11\n",
      "6.446e-50 x  - 8.796e-46 x  - 2.43e-42 x  + 3.477e-38 x  + 3.31e-34 x \n",
      "              10            9             8             7             6\n",
      " - 2.109e-32 x  - 1.96e-26 x - 9.493e-23 x + 7.668e-19 x + 5.772e-15 x\n",
      "              5             4             3          2\n",
      " - 4.378e-11 x + 3.604e-08 x + 0.0003388 x - 0.9838 x + 1119 x - 1.457e+05\n"
     ]
    },
    {
     "data": {
      "text/plain": [
       "[<matplotlib.lines.Line2D at 0x292794e06d0>,\n",
       " <matplotlib.lines.Line2D at 0x292794e0730>]"
      ]
     },
     "execution_count": 33,
     "metadata": {},
     "output_type": "execute_result"
    },
    {
     "data": {
      "image/png": "[encoded data removed]",
      "text/plain": [
       "<Figure size 432x288 with 1 Axes>"
      ]
     },
     "metadata": {
      "needs_background": "light"
     },
     "output_type": "display_data"
    }
   ],
   "source": [
    "set_4 = set_4.sort_values(['sqft_living','price'])\n",
    "poly15 = polynomial_DF(set_4['sqft_living'], 15) # use equivalent of `polynomial_sframe`\n",
    "model = Ridge(alpha, normalize=True)\n",
    "model.fit(poly15, set_4['price'])\n",
    "PCoeff(model)\n",
    "plt.plot(poly15['power_1'],set_4['price'],'.',\n",
    "         poly15['power_1'],model.predict(poly15))"
   ]
  },
  {
   "cell_type": "markdown",
   "metadata": {},
   "source": [
    "# Alpha=1.23e2"
   ]
  },
  {
   "cell_type": "markdown",
   "metadata": {},
   "source": [
    "## Set 1"
   ]
  },
  {
   "cell_type": "code",
   "execution_count": 34,
   "metadata": {},
   "outputs": [
    {
     "name": "stdout",
     "output_type": "stream",
     "text": [
      "Learned polynomial for degree 15:\n",
      "           15             14             13             12\n",
      "1.995e-58 x  + 2.855e-54 x  + 4.095e-50 x  + 5.895e-46 x \n",
      "              11             10             9             8\n",
      " + 8.519e-42 x  + 1.238e-37 x  + 1.816e-33 x + 2.704e-29 x\n",
      "              7             6             5             4            3\n",
      " + 4.129e-25 x + 6.578e-21 x + 1.115e-16 x + 2.001e-12 x + 3.32e-08 x\n",
      "              2\n",
      " + 0.0003536 x + 2.328 x + 5.391e+05\n"
     ]
    },
    {
     "data": {
      "text/plain": [
       "[<matplotlib.lines.Line2D at 0x2927a678460>,\n",
       " <matplotlib.lines.Line2D at 0x2927a6784c0>]"
      ]
     },
     "execution_count": 34,
     "metadata": {},
     "output_type": "execute_result"
    },
    {
     "data": {
      "image/png": "[encoded data removed]",
      "text/plain": [
       "<Figure size 432x288 with 1 Axes>"
      ]
     },
     "metadata": {
      "needs_background": "light"
     },
     "output_type": "display_data"
    }
   ],
   "source": [
    "alpha=1.23e2\n",
    "set_1 = set_1.sort_values(['sqft_living','price'])\n",
    "poly15 = polynomial_DF(set_1['sqft_living'], 15) # use equivalent of `polynomial_sframe`\n",
    "model = Ridge(alpha, normalize=True)\n",
    "model.fit(poly15, set_1['price'])\n",
    "PCoeff(model)\n",
    "plt.plot(poly15['power_1'],set_1['price'],'.',\n",
    "         poly15['power_1'],model.predict(poly15))"
   ]
  },
  {
   "cell_type": "markdown",
   "metadata": {},
   "source": [
    "## Set 2"
   ]
  },
  {
   "cell_type": "code",
   "execution_count": 35,
   "metadata": {},
   "outputs": [
    {
     "name": "stdout",
     "output_type": "stream",
     "text": [
      "Learned polynomial for degree 15:\n",
      "          15             14             13             12\n",
      "1.32e-55 x  + 1.232e-51 x  + 1.155e-47 x  + 1.087e-43 x \n",
      "              11             10             9             8\n",
      " + 1.031e-39 x  + 9.869e-36 x  + 9.572e-32 x + 9.445e-28 x\n",
      "              7             6             5           4             3\n",
      " + 9.506e-24 x + 9.697e-20 x + 9.726e-16 x + 8.9e-12 x + 6.672e-08 x\n",
      "              2\n",
      " + 0.0003908 x + 2.098 x + 5.299e+05\n"
     ]
    },
    {
     "data": {
      "text/plain": [
       "[<matplotlib.lines.Line2D at 0x2927a705b80>,\n",
       " <matplotlib.lines.Line2D at 0x2927a705be0>]"
      ]
     },
     "execution_count": 35,
     "metadata": {},
     "output_type": "execute_result"
    },
    {
     "data": {
      "image/png": "[encoded data removed]",
      "text/plain": [
       "<Figure size 432x288 with 1 Axes>"
      ]
     },
     "metadata": {
      "needs_background": "light"
     },
     "output_type": "display_data"
    }
   ],
   "source": [
    "set_2 = set_2.sort_values(['sqft_living','price'])\n",
    "poly15 = polynomial_DF(set_2['sqft_living'], 15) # use equivalent of `polynomial_sframe`\n",
    "model = Ridge(alpha, normalize=True)\n",
    "model.fit(poly15, set_2['price'])\n",
    "PCoeff(model)\n",
    "plt.plot(poly15['power_1'],set_2['price'],'.',\n",
    "         poly15['power_1'],model.predict(poly15))"
   ]
  },
  {
   "cell_type": "markdown",
   "metadata": {},
   "source": [
    "## Set 3"
   ]
  },
  {
   "cell_type": "code",
   "execution_count": 36,
   "metadata": {},
   "outputs": [
    {
     "name": "stdout",
     "output_type": "stream",
     "text": [
      "Learned polynomial for degree 15:\n",
      "           15             14             13             12\n",
      "4.876e-56 x  + 4.859e-52 x  + 4.846e-48 x  + 4.842e-44 x \n",
      "             11            10             9             8             7\n",
      " + 4.85e-40 x  + 4.88e-36 x  + 4.947e-32 x + 5.071e-28 x + 5.288e-24 x\n",
      "              6             5             4             3             2\n",
      " + 5.644e-20 x + 6.153e-16 x + 6.586e-12 x + 6.088e-08 x + 0.0004125 x + 2.289 x + 5.336e+05\n"
     ]
    },
    {
     "data": {
      "text/plain": [
       "[<matplotlib.lines.Line2D at 0x2927a7363a0>,\n",
       " <matplotlib.lines.Line2D at 0x2927a736400>]"
      ]
     },
     "execution_count": 36,
     "metadata": {},
     "output_type": "execute_result"
    },
    {
     "data": {
      "image/png": "[encoded data removed]",
      "text/plain": [
       "<Figure size 432x288 with 1 Axes>"
      ]
     },
     "metadata": {
      "needs_background": "light"
     },
     "output_type": "display_data"
    }
   ],
   "source": [
    "set_3 = set_3.sort_values(['sqft_living','price'])\n",
    "poly15 = polynomial_DF(set_3['sqft_living'], 15) # use equivalent of `polynomial_sframe`\n",
    "model = Ridge(alpha, normalize=True)\n",
    "model.fit(poly15, set_3['price'])\n",
    "PCoeff(model)\n",
    "plt.plot(poly15['power_1'],set_3['price'],'.',\n",
    "         poly15['power_1'],model.predict(poly15))"
   ]
  },
  {
   "cell_type": "markdown",
   "metadata": {},
   "source": [
    "## Set 4"
   ]
  },
  {
   "cell_type": "code",
   "execution_count": 37,
   "metadata": {},
   "outputs": [
    {
     "name": "stdout",
     "output_type": "stream",
     "text": [
      "Learned polynomial for degree 15:\n",
      "           15            14             13             12            11\n",
      "8.308e-55 x  + 6.86e-51 x  + 5.672e-47 x  + 4.701e-43 x  + 3.91e-39 x \n",
      "             10             9             8             7             6\n",
      " + 3.27e-35 x  + 2.756e-31 x + 2.346e-27 x + 2.016e-23 x + 1.736e-19 x\n",
      "              5             4             3            2\n",
      " + 1.459e-15 x + 1.131e-11 x + 7.469e-08 x + 0.000405 x + 2.086 x + 5.246e+05\n"
     ]
    },
    {
     "data": {
      "text/plain": [
       "[<matplotlib.lines.Line2D at 0x2927a76baf0>,\n",
       " <matplotlib.lines.Line2D at 0x2927a76bb50>]"
      ]
     },
     "execution_count": 37,
     "metadata": {},
     "output_type": "execute_result"
    },
    {
     "data": {
      "image/png": "[encoded data removed]",
      "text/plain": [
       "<Figure size 432x288 with 1 Axes>"
      ]
     },
     "metadata": {
      "needs_background": "light"
     },
     "output_type": "display_data"
    }
   ],
   "source": [
    "set_4 = set_4.sort_values(['sqft_living','price'])\n",
    "poly15 = polynomial_DF(set_4['sqft_living'], 15) # use equivalent of `polynomial_sframe`\n",
    "model = Ridge(alpha, normalize=True)\n",
    "model.fit(poly15, set_4['price'])\n",
    "PCoeff(model)\n",
    "plt.plot(poly15['power_1'],set_4['price'],'.',\n",
    "         poly15['power_1'],model.predict(poly15))"
   ]
  },
  {
   "cell_type": "code",
   "execution_count": null,
   "metadata": {},
   "outputs": [],
   "source": []
  }
 ],
 "metadata": {
  "kernelspec": {
   "display_name": "Python 3",
   "language": "python",
   "name": "python3"
  },
  "language_info": {
   "codemirror_mode": {
    "name": "ipython",
    "version": 3
   },
   "file_extension": ".py",
   "mimetype": "text/x-python",
   "name": "python",
   "nbconvert_exporter": "python",
   "pygments_lexer": "ipython3",
   "version": "3.8.5"
  }
 },
 "nbformat": 4,
 "nbformat_minor": 4
}
