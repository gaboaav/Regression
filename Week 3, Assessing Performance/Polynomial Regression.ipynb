{
 "cells": [
  {
   "cell_type": "markdown",
   "metadata": {},
   "source": [
    "# Import Pandas"
   ]
  },
  {
   "cell_type": "code",
   "execution_count": 1,
   "metadata": {},
   "outputs": [],
   "source": [
    "import pandas as pd"
   ]
  },
  {
   "cell_type": "markdown",
   "metadata": {},
   "source": [
    "## Polynomial Function"
   ]
  },
  {
   "cell_type": "code",
   "execution_count": 2,
   "metadata": {},
   "outputs": [],
   "source": [
    "def polynomial_DF(feature, degree): # feature is pandas.Series type\n",
    "    poly_DF = pd.DataFrame()\n",
    "    poly_DF['power_1']=feature\n",
    "    if degree > 1:\n",
    "        for power in range(2, degree+1):\n",
    "            name = 'power_' + str(power)\n",
    "            temp=feature.apply(lambda x:x**power)\n",
    "            poly_DF[name]=temp\n",
    "    return poly_DF"
   ]
  },
  {
   "cell_type": "code",
   "execution_count": 3,
   "metadata": {},
   "outputs": [
    {
     "name": "stdout",
     "output_type": "stream",
     "text": [
      "   power_1  power_2  power_3\n",
      "0        1        1        1\n",
      "1        2        4        8\n",
      "2        3        9       27\n"
     ]
    }
   ],
   "source": [
    "tmp=pd.Series([1,2,3])\n",
    "print(polynomial_DF(tmp,3))"
   ]
  },
  {
   "cell_type": "markdown",
   "metadata": {},
   "source": [
    "# Import Data"
   ]
  },
  {
   "cell_type": "code",
   "execution_count": 4,
   "metadata": {},
   "outputs": [
    {
     "data": {
      "text/html": [
       "<div>\n",
       "<style scoped>\n",
       "    .dataframe tbody tr th:only-of-type {\n",
       "        vertical-align: middle;\n",
       "    }\n",
       "\n",
       "    .dataframe tbody tr th {\n",
       "        vertical-align: top;\n",
       "    }\n",
       "\n",
       "    .dataframe thead th {\n",
       "        text-align: right;\n",
       "    }\n",
       "</style>\n",
       "<table border=\"1\" class=\"dataframe\">\n",
       "  <thead>\n",
       "    <tr style=\"text-align: right;\">\n",
       "      <th></th>\n",
       "      <th>id</th>\n",
       "      <th>date</th>\n",
       "      <th>price</th>\n",
       "      <th>bedrooms</th>\n",
       "      <th>bathrooms</th>\n",
       "      <th>sqft_living</th>\n",
       "      <th>sqft_lot</th>\n",
       "      <th>floors</th>\n",
       "      <th>waterfront</th>\n",
       "      <th>view</th>\n",
       "      <th>...</th>\n",
       "      <th>grade</th>\n",
       "      <th>sqft_above</th>\n",
       "      <th>sqft_basement</th>\n",
       "      <th>yr_built</th>\n",
       "      <th>yr_renovated</th>\n",
       "      <th>zipcode</th>\n",
       "      <th>lat</th>\n",
       "      <th>long</th>\n",
       "      <th>sqft_living15</th>\n",
       "      <th>sqft_lot15</th>\n",
       "    </tr>\n",
       "  </thead>\n",
       "  <tbody>\n",
       "    <tr>\n",
       "      <th>19452</th>\n",
       "      <td>3980300371</td>\n",
       "      <td>20140926T000000</td>\n",
       "      <td>142000.0</td>\n",
       "      <td>0.0</td>\n",
       "      <td>0.00</td>\n",
       "      <td>290.0</td>\n",
       "      <td>20875</td>\n",
       "      <td>1</td>\n",
       "      <td>0</td>\n",
       "      <td>0</td>\n",
       "      <td>...</td>\n",
       "      <td>1</td>\n",
       "      <td>290</td>\n",
       "      <td>0</td>\n",
       "      <td>1963</td>\n",
       "      <td>0</td>\n",
       "      <td>98024</td>\n",
       "      <td>47.5308</td>\n",
       "      <td>-121.888</td>\n",
       "      <td>1620.0</td>\n",
       "      <td>22850.0</td>\n",
       "    </tr>\n",
       "    <tr>\n",
       "      <th>15381</th>\n",
       "      <td>2856101479</td>\n",
       "      <td>20140701T000000</td>\n",
       "      <td>276000.0</td>\n",
       "      <td>1.0</td>\n",
       "      <td>0.75</td>\n",
       "      <td>370.0</td>\n",
       "      <td>1801</td>\n",
       "      <td>1</td>\n",
       "      <td>0</td>\n",
       "      <td>0</td>\n",
       "      <td>...</td>\n",
       "      <td>5</td>\n",
       "      <td>370</td>\n",
       "      <td>0</td>\n",
       "      <td>1923</td>\n",
       "      <td>0</td>\n",
       "      <td>98117</td>\n",
       "      <td>47.6778</td>\n",
       "      <td>-122.389</td>\n",
       "      <td>1340.0</td>\n",
       "      <td>5000.0</td>\n",
       "    </tr>\n",
       "    <tr>\n",
       "      <th>860</th>\n",
       "      <td>1723049033</td>\n",
       "      <td>20140620T000000</td>\n",
       "      <td>245000.0</td>\n",
       "      <td>1.0</td>\n",
       "      <td>0.75</td>\n",
       "      <td>380.0</td>\n",
       "      <td>15000</td>\n",
       "      <td>1</td>\n",
       "      <td>0</td>\n",
       "      <td>0</td>\n",
       "      <td>...</td>\n",
       "      <td>5</td>\n",
       "      <td>380</td>\n",
       "      <td>0</td>\n",
       "      <td>1963</td>\n",
       "      <td>0</td>\n",
       "      <td>98168</td>\n",
       "      <td>47.4810</td>\n",
       "      <td>-122.323</td>\n",
       "      <td>1170.0</td>\n",
       "      <td>15000.0</td>\n",
       "    </tr>\n",
       "    <tr>\n",
       "      <th>18379</th>\n",
       "      <td>1222029077</td>\n",
       "      <td>20141029T000000</td>\n",
       "      <td>265000.0</td>\n",
       "      <td>0.0</td>\n",
       "      <td>0.75</td>\n",
       "      <td>384.0</td>\n",
       "      <td>213444</td>\n",
       "      <td>1</td>\n",
       "      <td>0</td>\n",
       "      <td>0</td>\n",
       "      <td>...</td>\n",
       "      <td>4</td>\n",
       "      <td>384</td>\n",
       "      <td>0</td>\n",
       "      <td>2003</td>\n",
       "      <td>0</td>\n",
       "      <td>98070</td>\n",
       "      <td>47.4177</td>\n",
       "      <td>-122.491</td>\n",
       "      <td>1920.0</td>\n",
       "      <td>224341.0</td>\n",
       "    </tr>\n",
       "    <tr>\n",
       "      <th>4868</th>\n",
       "      <td>6896300380</td>\n",
       "      <td>20141002T000000</td>\n",
       "      <td>228000.0</td>\n",
       "      <td>0.0</td>\n",
       "      <td>1.00</td>\n",
       "      <td>390.0</td>\n",
       "      <td>5900</td>\n",
       "      <td>1</td>\n",
       "      <td>0</td>\n",
       "      <td>0</td>\n",
       "      <td>...</td>\n",
       "      <td>4</td>\n",
       "      <td>390</td>\n",
       "      <td>0</td>\n",
       "      <td>1953</td>\n",
       "      <td>0</td>\n",
       "      <td>98118</td>\n",
       "      <td>47.5260</td>\n",
       "      <td>-122.261</td>\n",
       "      <td>2170.0</td>\n",
       "      <td>6000.0</td>\n",
       "    </tr>\n",
       "    <tr>\n",
       "      <th>...</th>\n",
       "      <td>...</td>\n",
       "      <td>...</td>\n",
       "      <td>...</td>\n",
       "      <td>...</td>\n",
       "      <td>...</td>\n",
       "      <td>...</td>\n",
       "      <td>...</td>\n",
       "      <td>...</td>\n",
       "      <td>...</td>\n",
       "      <td>...</td>\n",
       "      <td>...</td>\n",
       "      <td>...</td>\n",
       "      <td>...</td>\n",
       "      <td>...</td>\n",
       "      <td>...</td>\n",
       "      <td>...</td>\n",
       "      <td>...</td>\n",
       "      <td>...</td>\n",
       "      <td>...</td>\n",
       "      <td>...</td>\n",
       "      <td>...</td>\n",
       "    </tr>\n",
       "    <tr>\n",
       "      <th>8092</th>\n",
       "      <td>1924059029</td>\n",
       "      <td>20140617T000000</td>\n",
       "      <td>4668000.0</td>\n",
       "      <td>5.0</td>\n",
       "      <td>6.75</td>\n",
       "      <td>9640.0</td>\n",
       "      <td>13068</td>\n",
       "      <td>1</td>\n",
       "      <td>1</td>\n",
       "      <td>4</td>\n",
       "      <td>...</td>\n",
       "      <td>12</td>\n",
       "      <td>4820</td>\n",
       "      <td>4820</td>\n",
       "      <td>1983</td>\n",
       "      <td>2009</td>\n",
       "      <td>98040</td>\n",
       "      <td>47.5570</td>\n",
       "      <td>-122.210</td>\n",
       "      <td>3270.0</td>\n",
       "      <td>10454.0</td>\n",
       "    </tr>\n",
       "    <tr>\n",
       "      <th>9254</th>\n",
       "      <td>9208900037</td>\n",
       "      <td>20140919T000000</td>\n",
       "      <td>6885000.0</td>\n",
       "      <td>6.0</td>\n",
       "      <td>7.75</td>\n",
       "      <td>9890.0</td>\n",
       "      <td>31374</td>\n",
       "      <td>2</td>\n",
       "      <td>0</td>\n",
       "      <td>4</td>\n",
       "      <td>...</td>\n",
       "      <td>13</td>\n",
       "      <td>8860</td>\n",
       "      <td>1030</td>\n",
       "      <td>2001</td>\n",
       "      <td>0</td>\n",
       "      <td>98039</td>\n",
       "      <td>47.6305</td>\n",
       "      <td>-122.240</td>\n",
       "      <td>4540.0</td>\n",
       "      <td>42730.0</td>\n",
       "    </tr>\n",
       "    <tr>\n",
       "      <th>3914</th>\n",
       "      <td>9808700762</td>\n",
       "      <td>20140611T000000</td>\n",
       "      <td>7062500.0</td>\n",
       "      <td>5.0</td>\n",
       "      <td>4.50</td>\n",
       "      <td>10040.0</td>\n",
       "      <td>37325</td>\n",
       "      <td>2</td>\n",
       "      <td>1</td>\n",
       "      <td>2</td>\n",
       "      <td>...</td>\n",
       "      <td>11</td>\n",
       "      <td>7680</td>\n",
       "      <td>2360</td>\n",
       "      <td>1940</td>\n",
       "      <td>2001</td>\n",
       "      <td>98004</td>\n",
       "      <td>47.6500</td>\n",
       "      <td>-122.214</td>\n",
       "      <td>3930.0</td>\n",
       "      <td>25449.0</td>\n",
       "    </tr>\n",
       "    <tr>\n",
       "      <th>7252</th>\n",
       "      <td>6762700020</td>\n",
       "      <td>20141013T000000</td>\n",
       "      <td>7700000.0</td>\n",
       "      <td>6.0</td>\n",
       "      <td>8.00</td>\n",
       "      <td>12050.0</td>\n",
       "      <td>27600</td>\n",
       "      <td>2.5</td>\n",
       "      <td>0</td>\n",
       "      <td>3</td>\n",
       "      <td>...</td>\n",
       "      <td>13</td>\n",
       "      <td>8570</td>\n",
       "      <td>3480</td>\n",
       "      <td>1910</td>\n",
       "      <td>1987</td>\n",
       "      <td>98102</td>\n",
       "      <td>47.6298</td>\n",
       "      <td>-122.323</td>\n",
       "      <td>3940.0</td>\n",
       "      <td>8800.0</td>\n",
       "    </tr>\n",
       "    <tr>\n",
       "      <th>12777</th>\n",
       "      <td>1225069038</td>\n",
       "      <td>20140505T000000</td>\n",
       "      <td>2280000.0</td>\n",
       "      <td>7.0</td>\n",
       "      <td>8.00</td>\n",
       "      <td>13540.0</td>\n",
       "      <td>307752</td>\n",
       "      <td>3</td>\n",
       "      <td>0</td>\n",
       "      <td>4</td>\n",
       "      <td>...</td>\n",
       "      <td>12</td>\n",
       "      <td>9410</td>\n",
       "      <td>4130</td>\n",
       "      <td>1999</td>\n",
       "      <td>0</td>\n",
       "      <td>98053</td>\n",
       "      <td>47.6675</td>\n",
       "      <td>-121.986</td>\n",
       "      <td>4850.0</td>\n",
       "      <td>217800.0</td>\n",
       "    </tr>\n",
       "  </tbody>\n",
       "</table>\n",
       "<p>21613 rows × 21 columns</p>\n",
       "</div>"
      ],
      "text/plain": [
       "               id             date      price  bedrooms  bathrooms  \\\n",
       "19452  3980300371  20140926T000000   142000.0       0.0       0.00   \n",
       "15381  2856101479  20140701T000000   276000.0       1.0       0.75   \n",
       "860    1723049033  20140620T000000   245000.0       1.0       0.75   \n",
       "18379  1222029077  20141029T000000   265000.0       0.0       0.75   \n",
       "4868   6896300380  20141002T000000   228000.0       0.0       1.00   \n",
       "...           ...              ...        ...       ...        ...   \n",
       "8092   1924059029  20140617T000000  4668000.0       5.0       6.75   \n",
       "9254   9208900037  20140919T000000  6885000.0       6.0       7.75   \n",
       "3914   9808700762  20140611T000000  7062500.0       5.0       4.50   \n",
       "7252   6762700020  20141013T000000  7700000.0       6.0       8.00   \n",
       "12777  1225069038  20140505T000000  2280000.0       7.0       8.00   \n",
       "\n",
       "       sqft_living  sqft_lot floors  waterfront  view  ...  grade  sqft_above  \\\n",
       "19452        290.0     20875      1           0     0  ...      1         290   \n",
       "15381        370.0      1801      1           0     0  ...      5         370   \n",
       "860          380.0     15000      1           0     0  ...      5         380   \n",
       "18379        384.0    213444      1           0     0  ...      4         384   \n",
       "4868         390.0      5900      1           0     0  ...      4         390   \n",
       "...            ...       ...    ...         ...   ...  ...    ...         ...   \n",
       "8092        9640.0     13068      1           1     4  ...     12        4820   \n",
       "9254        9890.0     31374      2           0     4  ...     13        8860   \n",
       "3914       10040.0     37325      2           1     2  ...     11        7680   \n",
       "7252       12050.0     27600    2.5           0     3  ...     13        8570   \n",
       "12777      13540.0    307752      3           0     4  ...     12        9410   \n",
       "\n",
       "       sqft_basement  yr_built  yr_renovated  zipcode      lat     long  \\\n",
       "19452              0      1963             0    98024  47.5308 -121.888   \n",
       "15381              0      1923             0    98117  47.6778 -122.389   \n",
       "860                0      1963             0    98168  47.4810 -122.323   \n",
       "18379              0      2003             0    98070  47.4177 -122.491   \n",
       "4868               0      1953             0    98118  47.5260 -122.261   \n",
       "...              ...       ...           ...      ...      ...      ...   \n",
       "8092            4820      1983          2009    98040  47.5570 -122.210   \n",
       "9254            1030      2001             0    98039  47.6305 -122.240   \n",
       "3914            2360      1940          2001    98004  47.6500 -122.214   \n",
       "7252            3480      1910          1987    98102  47.6298 -122.323   \n",
       "12777           4130      1999             0    98053  47.6675 -121.986   \n",
       "\n",
       "       sqft_living15  sqft_lot15  \n",
       "19452         1620.0     22850.0  \n",
       "15381         1340.0      5000.0  \n",
       "860           1170.0     15000.0  \n",
       "18379         1920.0    224341.0  \n",
       "4868          2170.0      6000.0  \n",
       "...              ...         ...  \n",
       "8092          3270.0     10454.0  \n",
       "9254          4540.0     42730.0  \n",
       "3914          3930.0     25449.0  \n",
       "7252          3940.0      8800.0  \n",
       "12777         4850.0    217800.0  \n",
       "\n",
       "[21613 rows x 21 columns]"
      ]
     },
     "execution_count": 4,
     "metadata": {},
     "output_type": "execute_result"
    }
   ],
   "source": [
    "dtype_dict = {'bathrooms':float, 'waterfront':int, 'sqft_above':int, 'sqft_living15':float, 'grade':int, 'yr_renovated':int, 'price':float, 'bedrooms':float, 'zipcode':str, 'long':float, 'sqft_lot15':float, 'sqft_living':float, 'floors':str, 'condition':int, 'lat':float, 'date':str, 'sqft_basement':int, 'yr_built':int, 'id':str, 'sqft_lot':int, 'view':int}\n",
    "sales=pd.read_csv('kc_house_data.csv',dtype=dtype_dict)\n",
    "sales=sales.sort_values(['sqft_living','price'])\n",
    "sales"
   ]
  },
  {
   "cell_type": "code",
   "execution_count": 5,
   "metadata": {},
   "outputs": [
    {
     "data": {
      "text/html": [
       "<div>\n",
       "<style scoped>\n",
       "    .dataframe tbody tr th:only-of-type {\n",
       "        vertical-align: middle;\n",
       "    }\n",
       "\n",
       "    .dataframe tbody tr th {\n",
       "        vertical-align: top;\n",
       "    }\n",
       "\n",
       "    .dataframe thead th {\n",
       "        text-align: right;\n",
       "    }\n",
       "</style>\n",
       "<table border=\"1\" class=\"dataframe\">\n",
       "  <thead>\n",
       "    <tr style=\"text-align: right;\">\n",
       "      <th></th>\n",
       "      <th>power_1</th>\n",
       "      <th>price</th>\n",
       "    </tr>\n",
       "  </thead>\n",
       "  <tbody>\n",
       "    <tr>\n",
       "      <th>19452</th>\n",
       "      <td>290.0</td>\n",
       "      <td>142000.0</td>\n",
       "    </tr>\n",
       "    <tr>\n",
       "      <th>15381</th>\n",
       "      <td>370.0</td>\n",
       "      <td>276000.0</td>\n",
       "    </tr>\n",
       "    <tr>\n",
       "      <th>860</th>\n",
       "      <td>380.0</td>\n",
       "      <td>245000.0</td>\n",
       "    </tr>\n",
       "    <tr>\n",
       "      <th>18379</th>\n",
       "      <td>384.0</td>\n",
       "      <td>265000.0</td>\n",
       "    </tr>\n",
       "    <tr>\n",
       "      <th>4868</th>\n",
       "      <td>390.0</td>\n",
       "      <td>228000.0</td>\n",
       "    </tr>\n",
       "    <tr>\n",
       "      <th>...</th>\n",
       "      <td>...</td>\n",
       "      <td>...</td>\n",
       "    </tr>\n",
       "    <tr>\n",
       "      <th>8092</th>\n",
       "      <td>9640.0</td>\n",
       "      <td>4668000.0</td>\n",
       "    </tr>\n",
       "    <tr>\n",
       "      <th>9254</th>\n",
       "      <td>9890.0</td>\n",
       "      <td>6885000.0</td>\n",
       "    </tr>\n",
       "    <tr>\n",
       "      <th>3914</th>\n",
       "      <td>10040.0</td>\n",
       "      <td>7062500.0</td>\n",
       "    </tr>\n",
       "    <tr>\n",
       "      <th>7252</th>\n",
       "      <td>12050.0</td>\n",
       "      <td>7700000.0</td>\n",
       "    </tr>\n",
       "    <tr>\n",
       "      <th>12777</th>\n",
       "      <td>13540.0</td>\n",
       "      <td>2280000.0</td>\n",
       "    </tr>\n",
       "  </tbody>\n",
       "</table>\n",
       "<p>21613 rows × 2 columns</p>\n",
       "</div>"
      ],
      "text/plain": [
       "       power_1      price\n",
       "19452    290.0   142000.0\n",
       "15381    370.0   276000.0\n",
       "860      380.0   245000.0\n",
       "18379    384.0   265000.0\n",
       "4868     390.0   228000.0\n",
       "...        ...        ...\n",
       "8092    9640.0  4668000.0\n",
       "9254    9890.0  6885000.0\n",
       "3914   10040.0  7062500.0\n",
       "7252   12050.0  7700000.0\n",
       "12777  13540.0  2280000.0\n",
       "\n",
       "[21613 rows x 2 columns]"
      ]
     },
     "execution_count": 5,
     "metadata": {},
     "output_type": "execute_result"
    }
   ],
   "source": [
    "poly1=polynomial_DF(sales['sqft_living'],1)\n",
    "poly1['price']=sales['price']\n",
    "poly1"
   ]
  },
  {
   "cell_type": "markdown",
   "metadata": {},
   "source": [
    "## Exploring Data"
   ]
  },
  {
   "cell_type": "code",
   "execution_count": 6,
   "metadata": {},
   "outputs": [
    {
     "data": {
      "image/png": "[encoded data removed]",
      "text/plain": [
       "<Figure size 1008x720 with 1 Axes>"
      ]
     },
     "metadata": {
      "needs_background": "light"
     },
     "output_type": "display_data"
    }
   ],
   "source": [
    "import matplotlib.pyplot as plt\n",
    "%matplotlib inline\n",
    "plt.ion()\n",
    "sales.plot(x='sqft_living',y='price', kind='scatter',figsize=(14,10),grid=True, xlim=(0,15000),ylim=(0,3500000))\n",
    "plt.show()"
   ]
  },
  {
   "cell_type": "markdown",
   "metadata": {},
   "source": [
    "# Linear Model"
   ]
  },
  {
   "cell_type": "markdown",
   "metadata": {},
   "source": [
    "## First Order Polynomial"
   ]
  },
  {
   "cell_type": "code",
   "execution_count": 7,
   "metadata": {},
   "outputs": [
    {
     "data": {
      "text/plain": [
       "array([280.6235679])"
      ]
     },
     "execution_count": 7,
     "metadata": {},
     "output_type": "execute_result"
    }
   ],
   "source": [
    "from sklearn.linear_model import LinearRegression\n",
    "x=poly1.iloc[:,:-1].values\n",
    "y=poly1.iloc[:,1].values\n",
    "Model1=LinearRegression()\n",
    "Model1.fit(x,y)\n",
    "coef=Model1.coef_\n",
    "coef"
   ]
  },
  {
   "cell_type": "code",
   "execution_count": 8,
   "metadata": {},
   "outputs": [
    {
     "data": {
      "text/plain": [
       "[<matplotlib.lines.Line2D at 0x2a4a7774b50>,\n",
       " <matplotlib.lines.Line2D at 0x2a4a7774b20>]"
      ]
     },
     "execution_count": 8,
     "metadata": {},
     "output_type": "execute_result"
    },
    {
     "data": {
      "image/png": "[encoded data removed]",
      "text/plain": [
       "<Figure size 432x288 with 1 Axes>"
      ]
     },
     "metadata": {
      "needs_background": "light"
     },
     "output_type": "display_data"
    }
   ],
   "source": [
    "plt.plot(poly1['power_1'],poly1['price'],'.',\n",
    "         poly1['power_1'],Model1.predict(x),'-')"
   ]
  },
  {
   "cell_type": "markdown",
   "metadata": {},
   "source": [
    "## Second Order Polynomial"
   ]
  },
  {
   "cell_type": "code",
   "execution_count": 9,
   "metadata": {},
   "outputs": [],
   "source": [
    "poly2=polynomial_DF(sales['sqft_living'],2)\n",
    "feats=poly2.columns\n",
    "poly2['price']=sales['price']\n",
    "x=poly2[feats]\n",
    "y=poly2['price']"
   ]
  },
  {
   "cell_type": "code",
   "execution_count": 11,
   "metadata": {},
   "outputs": [
    {
     "data": {
      "text/html": [
       "<div>\n",
       "<style scoped>\n",
       "    .dataframe tbody tr th:only-of-type {\n",
       "        vertical-align: middle;\n",
       "    }\n",
       "\n",
       "    .dataframe tbody tr th {\n",
       "        vertical-align: top;\n",
       "    }\n",
       "\n",
       "    .dataframe thead th {\n",
       "        text-align: right;\n",
       "    }\n",
       "</style>\n",
       "<table border=\"1\" class=\"dataframe\">\n",
       "  <thead>\n",
       "    <tr style=\"text-align: right;\">\n",
       "      <th></th>\n",
       "      <th>Coefficient</th>\n",
       "    </tr>\n",
       "  </thead>\n",
       "  <tbody>\n",
       "    <tr>\n",
       "      <th>power_1</th>\n",
       "      <td>67.994095</td>\n",
       "    </tr>\n",
       "    <tr>\n",
       "      <th>power_2</th>\n",
       "      <td>0.038581</td>\n",
       "    </tr>\n",
       "  </tbody>\n",
       "</table>\n",
       "</div>"
      ],
      "text/plain": [
       "         Coefficient\n",
       "power_1    67.994095\n",
       "power_2     0.038581"
      ]
     },
     "execution_count": 11,
     "metadata": {},
     "output_type": "execute_result"
    }
   ],
   "source": [
    "Model2=LinearRegression()\n",
    "Model2.fit(x,y)\n",
    "coef=pd.DataFrame(Model2.coef_,x.columns,columns=['Coefficient'])\n",
    "coef"
   ]
  },
  {
   "cell_type": "code",
   "execution_count": 11,
   "metadata": {},
   "outputs": [
    {
     "data": {
      "text/plain": [
       "[<matplotlib.lines.Line2D at 0x270870aa0a0>,\n",
       " <matplotlib.lines.Line2D at 0x270870aa130>]"
      ]
     },
     "execution_count": 11,
     "metadata": {},
     "output_type": "execute_result"
    },
    {
     "data": {
      "image/png": "[encoded data removed]",
      "text/plain": [
       "<Figure size 432x288 with 1 Axes>"
      ]
     },
     "metadata": {
      "needs_background": "light"
     },
     "output_type": "display_data"
    }
   ],
   "source": [
    "plt.plot(poly2['power_1'],poly2['price'],'.',\n",
    "         poly2['power_1'],Model2.predict(x),'-')"
   ]
  },
  {
   "cell_type": "markdown",
   "metadata": {},
   "source": [
    "## Third Order Polynomial"
   ]
  },
  {
   "cell_type": "code",
   "execution_count": 12,
   "metadata": {},
   "outputs": [],
   "source": [
    "poly3=polynomial_DF(sales['sqft_living'],3)\n",
    "feats=poly3.columns\n",
    "poly3['price']=sales['price']\n",
    "x=poly3[feats]\n",
    "y=poly3['price']"
   ]
  },
  {
   "cell_type": "code",
   "execution_count": 13,
   "metadata": {},
   "outputs": [
    {
     "data": {
      "text/html": [
       "<div>\n",
       "<style scoped>\n",
       "    .dataframe tbody tr th:only-of-type {\n",
       "        vertical-align: middle;\n",
       "    }\n",
       "\n",
       "    .dataframe tbody tr th {\n",
       "        vertical-align: top;\n",
       "    }\n",
       "\n",
       "    .dataframe thead th {\n",
       "        text-align: right;\n",
       "    }\n",
       "</style>\n",
       "<table border=\"1\" class=\"dataframe\">\n",
       "  <thead>\n",
       "    <tr style=\"text-align: right;\">\n",
       "      <th></th>\n",
       "      <th>Coefficient</th>\n",
       "    </tr>\n",
       "  </thead>\n",
       "  <tbody>\n",
       "    <tr>\n",
       "      <th>power_1</th>\n",
       "      <td>-90.181986</td>\n",
       "    </tr>\n",
       "    <tr>\n",
       "      <th>power_2</th>\n",
       "      <td>0.087047</td>\n",
       "    </tr>\n",
       "    <tr>\n",
       "      <th>power_3</th>\n",
       "      <td>-0.000004</td>\n",
       "    </tr>\n",
       "  </tbody>\n",
       "</table>\n",
       "</div>"
      ],
      "text/plain": [
       "         Coefficient\n",
       "power_1   -90.181986\n",
       "power_2     0.087047\n",
       "power_3    -0.000004"
      ]
     },
     "execution_count": 13,
     "metadata": {},
     "output_type": "execute_result"
    }
   ],
   "source": [
    "Model3=LinearRegression()\n",
    "Model3.fit(x,y)\n",
    "coef=pd.DataFrame(Model3.coef_,x.columns,columns=['Coefficient'])\n",
    "coef"
   ]
  },
  {
   "cell_type": "code",
   "execution_count": 14,
   "metadata": {},
   "outputs": [
    {
     "data": {
      "text/plain": [
       "[<matplotlib.lines.Line2D at 0x270870680a0>,\n",
       " <matplotlib.lines.Line2D at 0x27087068130>]"
      ]
     },
     "execution_count": 14,
     "metadata": {},
     "output_type": "execute_result"
    },
    {
     "data": {
      "image/png": "[encoded data removed]",
      "text/plain": [
       "<Figure size 432x288 with 1 Axes>"
      ]
     },
     "metadata": {
      "needs_background": "light"
     },
     "output_type": "display_data"
    }
   ],
   "source": [
    "plt.plot(poly3['power_1'],poly3['price'],'.',\n",
    "         poly3['power_1'],Model3.predict(x),'-')"
   ]
  },
  {
   "cell_type": "markdown",
   "metadata": {},
   "source": [
    "## 15th Order Polynomial"
   ]
  },
  {
   "cell_type": "code",
   "execution_count": 15,
   "metadata": {},
   "outputs": [],
   "source": [
    "poly15=polynomial_DF(sales['sqft_living'],15)\n",
    "feats=poly15.columns\n",
    "poly15['price']=sales['price']\n",
    "x=poly15[feats]\n",
    "y=poly15['price']"
   ]
  },
  {
   "cell_type": "code",
   "execution_count": 16,
   "metadata": {},
   "outputs": [
    {
     "data": {
      "text/html": [
       "<div>\n",
       "<style scoped>\n",
       "    .dataframe tbody tr th:only-of-type {\n",
       "        vertical-align: middle;\n",
       "    }\n",
       "\n",
       "    .dataframe tbody tr th {\n",
       "        vertical-align: top;\n",
       "    }\n",
       "\n",
       "    .dataframe thead th {\n",
       "        text-align: right;\n",
       "    }\n",
       "</style>\n",
       "<table border=\"1\" class=\"dataframe\">\n",
       "  <thead>\n",
       "    <tr style=\"text-align: right;\">\n",
       "      <th></th>\n",
       "      <th>Coefficient</th>\n",
       "    </tr>\n",
       "  </thead>\n",
       "  <tbody>\n",
       "    <tr>\n",
       "      <th>power_1</th>\n",
       "      <td>4.564042e-91</td>\n",
       "    </tr>\n",
       "    <tr>\n",
       "      <th>power_2</th>\n",
       "      <td>6.917121e-51</td>\n",
       "    </tr>\n",
       "    <tr>\n",
       "      <th>power_3</th>\n",
       "      <td>2.577326e-56</td>\n",
       "    </tr>\n",
       "    <tr>\n",
       "      <th>power_4</th>\n",
       "      <td>2.781979e-88</td>\n",
       "    </tr>\n",
       "    <tr>\n",
       "      <th>power_5</th>\n",
       "      <td>1.198639e-74</td>\n",
       "    </tr>\n",
       "    <tr>\n",
       "      <th>power_6</th>\n",
       "      <td>2.685755e-71</td>\n",
       "    </tr>\n",
       "    <tr>\n",
       "      <th>power_7</th>\n",
       "      <td>2.261476e-67</td>\n",
       "    </tr>\n",
       "    <tr>\n",
       "      <th>power_8</th>\n",
       "      <td>1.859003e-63</td>\n",
       "    </tr>\n",
       "    <tr>\n",
       "      <th>power_9</th>\n",
       "      <td>1.471441e-59</td>\n",
       "    </tr>\n",
       "    <tr>\n",
       "      <th>power_10</th>\n",
       "      <td>1.097710e-55</td>\n",
       "    </tr>\n",
       "    <tr>\n",
       "      <th>power_11</th>\n",
       "      <td>7.435090e-52</td>\n",
       "    </tr>\n",
       "    <tr>\n",
       "      <th>power_12</th>\n",
       "      <td>4.230156e-48</td>\n",
       "    </tr>\n",
       "    <tr>\n",
       "      <th>power_13</th>\n",
       "      <td>1.616186e-44</td>\n",
       "    </tr>\n",
       "    <tr>\n",
       "      <th>power_14</th>\n",
       "      <td>-2.492838e-48</td>\n",
       "    </tr>\n",
       "    <tr>\n",
       "      <th>power_15</th>\n",
       "      <td>9.597183e-53</td>\n",
       "    </tr>\n",
       "  </tbody>\n",
       "</table>\n",
       "</div>"
      ],
      "text/plain": [
       "           Coefficient\n",
       "power_1   4.564042e-91\n",
       "power_2   6.917121e-51\n",
       "power_3   2.577326e-56\n",
       "power_4   2.781979e-88\n",
       "power_5   1.198639e-74\n",
       "power_6   2.685755e-71\n",
       "power_7   2.261476e-67\n",
       "power_8   1.859003e-63\n",
       "power_9   1.471441e-59\n",
       "power_10  1.097710e-55\n",
       "power_11  7.435090e-52\n",
       "power_12  4.230156e-48\n",
       "power_13  1.616186e-44\n",
       "power_14 -2.492838e-48\n",
       "power_15  9.597183e-53"
      ]
     },
     "execution_count": 16,
     "metadata": {},
     "output_type": "execute_result"
    }
   ],
   "source": [
    "Model4=LinearRegression()\n",
    "Model4.fit(x,y)\n",
    "coef=pd.DataFrame(Model4.coef_,x.columns,columns=['Coefficient'])\n",
    "coef"
   ]
  },
  {
   "cell_type": "code",
   "execution_count": 17,
   "metadata": {},
   "outputs": [
    {
     "data": {
      "text/plain": [
       "[<matplotlib.lines.Line2D at 0x2708722b0d0>,\n",
       " <matplotlib.lines.Line2D at 0x2708722b160>]"
      ]
     },
     "execution_count": 17,
     "metadata": {},
     "output_type": "execute_result"
    },
    {
     "data": {
      "image/png": "[encoded data removed]",
      "text/plain": [
       "<Figure size 432x288 with 1 Axes>"
      ]
     },
     "metadata": {
      "needs_background": "light"
     },
     "output_type": "display_data"
    }
   ],
   "source": [
    "plt.plot(poly15['power_1'],poly15['price'],'.',\n",
    "         poly15['power_1'],Model4.predict(x),'-')"
   ]
  },
  {
   "cell_type": "markdown",
   "metadata": {},
   "source": [
    "# Using Other Data Sets"
   ]
  },
  {
   "cell_type": "code",
   "execution_count": 18,
   "metadata": {},
   "outputs": [],
   "source": [
    "sales1=pd.read_csv('wk3_kc_house_set_1_data.csv',dtype=dtype_dict)\n",
    "sales2=pd.read_csv('wk3_kc_house_set_2_data.csv',dtype=dtype_dict)\n",
    "sales3=pd.read_csv('wk3_kc_house_set_3_data.csv',dtype=dtype_dict)\n",
    "sales4=pd.read_csv('wk3_kc_house_set_4_data.csv',dtype=dtype_dict)"
   ]
  },
  {
   "cell_type": "markdown",
   "metadata": {},
   "source": [
    "## Sales 1"
   ]
  },
  {
   "cell_type": "code",
   "execution_count": 19,
   "metadata": {},
   "outputs": [],
   "source": [
    "poly15=polynomial_DF(sales1['sqft_living'],15)\n",
    "feats=poly15.columns\n",
    "poly15['price']=sales['price']\n",
    "x=poly15[feats]\n",
    "y=poly15['price']"
   ]
  },
  {
   "cell_type": "code",
   "execution_count": 20,
   "metadata": {},
   "outputs": [
    {
     "data": {
      "text/html": [
       "<div>\n",
       "<style scoped>\n",
       "    .dataframe tbody tr th:only-of-type {\n",
       "        vertical-align: middle;\n",
       "    }\n",
       "\n",
       "    .dataframe tbody tr th {\n",
       "        vertical-align: top;\n",
       "    }\n",
       "\n",
       "    .dataframe thead th {\n",
       "        text-align: right;\n",
       "    }\n",
       "</style>\n",
       "<table border=\"1\" class=\"dataframe\">\n",
       "  <thead>\n",
       "    <tr style=\"text-align: right;\">\n",
       "      <th></th>\n",
       "      <th>Coefficient</th>\n",
       "    </tr>\n",
       "  </thead>\n",
       "  <tbody>\n",
       "    <tr>\n",
       "      <th>power_1</th>\n",
       "      <td>-1.274739e-91</td>\n",
       "    </tr>\n",
       "    <tr>\n",
       "      <th>power_2</th>\n",
       "      <td>7.061428e-51</td>\n",
       "    </tr>\n",
       "    <tr>\n",
       "      <th>power_3</th>\n",
       "      <td>-9.834146e-57</td>\n",
       "    </tr>\n",
       "    <tr>\n",
       "      <th>power_4</th>\n",
       "      <td>-5.062072e-90</td>\n",
       "    </tr>\n",
       "    <tr>\n",
       "      <th>power_5</th>\n",
       "      <td>-1.346809e-75</td>\n",
       "    </tr>\n",
       "    <tr>\n",
       "      <th>power_6</th>\n",
       "      <td>-4.600419e-72</td>\n",
       "    </tr>\n",
       "    <tr>\n",
       "      <th>power_7</th>\n",
       "      <td>-3.492153e-68</td>\n",
       "    </tr>\n",
       "    <tr>\n",
       "      <th>power_8</th>\n",
       "      <td>-2.598767e-64</td>\n",
       "    </tr>\n",
       "    <tr>\n",
       "      <th>power_9</th>\n",
       "      <td>-1.872362e-60</td>\n",
       "    </tr>\n",
       "    <tr>\n",
       "      <th>power_10</th>\n",
       "      <td>-1.279511e-56</td>\n",
       "    </tr>\n",
       "    <tr>\n",
       "      <th>power_11</th>\n",
       "      <td>-7.993298e-53</td>\n",
       "    </tr>\n",
       "    <tr>\n",
       "      <th>power_12</th>\n",
       "      <td>-4.224278e-49</td>\n",
       "    </tr>\n",
       "    <tr>\n",
       "      <th>power_13</th>\n",
       "      <td>-1.509778e-45</td>\n",
       "    </tr>\n",
       "    <tr>\n",
       "      <th>power_14</th>\n",
       "      <td>2.349305e-49</td>\n",
       "    </tr>\n",
       "    <tr>\n",
       "      <th>power_15</th>\n",
       "      <td>-9.116045e-54</td>\n",
       "    </tr>\n",
       "  </tbody>\n",
       "</table>\n",
       "</div>"
      ],
      "text/plain": [
       "           Coefficient\n",
       "power_1  -1.274739e-91\n",
       "power_2   7.061428e-51\n",
       "power_3  -9.834146e-57\n",
       "power_4  -5.062072e-90\n",
       "power_5  -1.346809e-75\n",
       "power_6  -4.600419e-72\n",
       "power_7  -3.492153e-68\n",
       "power_8  -2.598767e-64\n",
       "power_9  -1.872362e-60\n",
       "power_10 -1.279511e-56\n",
       "power_11 -7.993298e-53\n",
       "power_12 -4.224278e-49\n",
       "power_13 -1.509778e-45\n",
       "power_14  2.349305e-49\n",
       "power_15 -9.116045e-54"
      ]
     },
     "execution_count": 20,
     "metadata": {},
     "output_type": "execute_result"
    }
   ],
   "source": [
    "Model5=LinearRegression()\n",
    "Model5.fit(x,y)\n",
    "coef=pd.DataFrame(Model5.coef_,x.columns,columns=['Coefficient'])\n",
    "coef"
   ]
  },
  {
   "cell_type": "code",
   "execution_count": 21,
   "metadata": {},
   "outputs": [
    {
     "data": {
      "text/plain": [
       "[<matplotlib.lines.Line2D at 0x2708877e0d0>,\n",
       " <matplotlib.lines.Line2D at 0x2708877e160>]"
      ]
     },
     "execution_count": 21,
     "metadata": {},
     "output_type": "execute_result"
    },
    {
     "data": {
      "image/png": "[encoded data removed]",
      "text/plain": [
       "<Figure size 432x288 with 1 Axes>"
      ]
     },
     "metadata": {
      "needs_background": "light"
     },
     "output_type": "display_data"
    }
   ],
   "source": [
    "plt.plot(poly15['power_1'],poly15['price'],'.',\n",
    "         poly15['power_1'],Model5.predict(x),'-')"
   ]
  },
  {
   "cell_type": "markdown",
   "metadata": {},
   "source": [
    "## Sales 2"
   ]
  },
  {
   "cell_type": "code",
   "execution_count": 22,
   "metadata": {},
   "outputs": [],
   "source": [
    "poly15=polynomial_DF(sales2['sqft_living'],15)\n",
    "feats=poly15.columns\n",
    "poly15['price']=sales['price']\n",
    "x=poly15[feats]\n",
    "y=poly15['price']"
   ]
  },
  {
   "cell_type": "code",
   "execution_count": 23,
   "metadata": {},
   "outputs": [
    {
     "data": {
      "text/html": [
       "<div>\n",
       "<style scoped>\n",
       "    .dataframe tbody tr th:only-of-type {\n",
       "        vertical-align: middle;\n",
       "    }\n",
       "\n",
       "    .dataframe tbody tr th {\n",
       "        vertical-align: top;\n",
       "    }\n",
       "\n",
       "    .dataframe thead th {\n",
       "        text-align: right;\n",
       "    }\n",
       "</style>\n",
       "<table border=\"1\" class=\"dataframe\">\n",
       "  <thead>\n",
       "    <tr style=\"text-align: right;\">\n",
       "      <th></th>\n",
       "      <th>Coefficient</th>\n",
       "    </tr>\n",
       "  </thead>\n",
       "  <tbody>\n",
       "    <tr>\n",
       "      <th>power_1</th>\n",
       "      <td>-9.796418e-79</td>\n",
       "    </tr>\n",
       "    <tr>\n",
       "      <th>power_2</th>\n",
       "      <td>-2.648410e-40</td>\n",
       "    </tr>\n",
       "    <tr>\n",
       "      <th>power_3</th>\n",
       "      <td>6.681206e-46</td>\n",
       "    </tr>\n",
       "    <tr>\n",
       "      <th>power_4</th>\n",
       "      <td>-5.025990e-51</td>\n",
       "    </tr>\n",
       "    <tr>\n",
       "      <th>power_5</th>\n",
       "      <td>-2.987112e-72</td>\n",
       "    </tr>\n",
       "    <tr>\n",
       "      <th>power_6</th>\n",
       "      <td>-5.485520e-60</td>\n",
       "    </tr>\n",
       "    <tr>\n",
       "      <th>power_7</th>\n",
       "      <td>-1.316184e-56</td>\n",
       "    </tr>\n",
       "    <tr>\n",
       "      <th>power_8</th>\n",
       "      <td>-5.430687e-53</td>\n",
       "    </tr>\n",
       "    <tr>\n",
       "      <th>power_9</th>\n",
       "      <td>-2.079669e-49</td>\n",
       "    </tr>\n",
       "    <tr>\n",
       "      <th>power_10</th>\n",
       "      <td>-7.068174e-46</td>\n",
       "    </tr>\n",
       "    <tr>\n",
       "      <th>power_11</th>\n",
       "      <td>-1.947458e-42</td>\n",
       "    </tr>\n",
       "    <tr>\n",
       "      <th>power_12</th>\n",
       "      <td>-3.395171e-39</td>\n",
       "    </tr>\n",
       "    <tr>\n",
       "      <th>power_13</th>\n",
       "      <td>1.254256e-42</td>\n",
       "    </tr>\n",
       "    <tr>\n",
       "      <th>power_14</th>\n",
       "      <td>-1.538064e-46</td>\n",
       "    </tr>\n",
       "    <tr>\n",
       "      <th>power_15</th>\n",
       "      <td>6.258282e-51</td>\n",
       "    </tr>\n",
       "  </tbody>\n",
       "</table>\n",
       "</div>"
      ],
      "text/plain": [
       "           Coefficient\n",
       "power_1  -9.796418e-79\n",
       "power_2  -2.648410e-40\n",
       "power_3   6.681206e-46\n",
       "power_4  -5.025990e-51\n",
       "power_5  -2.987112e-72\n",
       "power_6  -5.485520e-60\n",
       "power_7  -1.316184e-56\n",
       "power_8  -5.430687e-53\n",
       "power_9  -2.079669e-49\n",
       "power_10 -7.068174e-46\n",
       "power_11 -1.947458e-42\n",
       "power_12 -3.395171e-39\n",
       "power_13  1.254256e-42\n",
       "power_14 -1.538064e-46\n",
       "power_15  6.258282e-51"
      ]
     },
     "execution_count": 23,
     "metadata": {},
     "output_type": "execute_result"
    }
   ],
   "source": [
    "Model6=LinearRegression()\n",
    "Model6.fit(x,y)\n",
    "coef=pd.DataFrame(Model6.coef_,x.columns,columns=['Coefficient'])\n",
    "coef"
   ]
  },
  {
   "cell_type": "code",
   "execution_count": 24,
   "metadata": {},
   "outputs": [
    {
     "data": {
      "text/plain": [
       "[<matplotlib.lines.Line2D at 0x27087009d90>,\n",
       " <matplotlib.lines.Line2D at 0x27087009f10>]"
      ]
     },
     "execution_count": 24,
     "metadata": {},
     "output_type": "execute_result"
    },
    {
     "data": {
      "image/png": "[encoded data removed]",
      "text/plain": [
       "<Figure size 432x288 with 1 Axes>"
      ]
     },
     "metadata": {
      "needs_background": "light"
     },
     "output_type": "display_data"
    }
   ],
   "source": [
    "plt.plot(poly15['power_1'],poly15['price'],'.',\n",
    "         poly15['power_1'],Model6.predict(x),'-')"
   ]
  },
  {
   "cell_type": "markdown",
   "metadata": {},
   "source": [
    "## Sales 3"
   ]
  },
  {
   "cell_type": "code",
   "execution_count": 25,
   "metadata": {},
   "outputs": [],
   "source": [
    "poly15=polynomial_DF(sales3['sqft_living'],15)\n",
    "feats=poly15.columns\n",
    "poly15['price']=sales['price']\n",
    "x=poly15[feats]\n",
    "y=poly15['price']"
   ]
  },
  {
   "cell_type": "code",
   "execution_count": 26,
   "metadata": {},
   "outputs": [
    {
     "data": {
      "text/html": [
       "<div>\n",
       "<style scoped>\n",
       "    .dataframe tbody tr th:only-of-type {\n",
       "        vertical-align: middle;\n",
       "    }\n",
       "\n",
       "    .dataframe tbody tr th {\n",
       "        vertical-align: top;\n",
       "    }\n",
       "\n",
       "    .dataframe thead th {\n",
       "        text-align: right;\n",
       "    }\n",
       "</style>\n",
       "<table border=\"1\" class=\"dataframe\">\n",
       "  <thead>\n",
       "    <tr style=\"text-align: right;\">\n",
       "      <th></th>\n",
       "      <th>Coefficient</th>\n",
       "    </tr>\n",
       "  </thead>\n",
       "  <tbody>\n",
       "    <tr>\n",
       "      <th>power_1</th>\n",
       "      <td>-1.529190e-89</td>\n",
       "    </tr>\n",
       "    <tr>\n",
       "      <th>power_2</th>\n",
       "      <td>4.204768e-50</td>\n",
       "    </tr>\n",
       "    <tr>\n",
       "      <th>power_3</th>\n",
       "      <td>7.478372e-57</td>\n",
       "    </tr>\n",
       "    <tr>\n",
       "      <th>power_4</th>\n",
       "      <td>-2.489206e-60</td>\n",
       "    </tr>\n",
       "    <tr>\n",
       "      <th>power_5</th>\n",
       "      <td>-8.470182e-74</td>\n",
       "    </tr>\n",
       "    <tr>\n",
       "      <th>power_6</th>\n",
       "      <td>-2.306002e-70</td>\n",
       "    </tr>\n",
       "    <tr>\n",
       "      <th>power_7</th>\n",
       "      <td>-1.444352e-66</td>\n",
       "    </tr>\n",
       "    <tr>\n",
       "      <th>power_8</th>\n",
       "      <td>-8.833477e-63</td>\n",
       "    </tr>\n",
       "    <tr>\n",
       "      <th>power_9</th>\n",
       "      <td>-5.208292e-59</td>\n",
       "    </tr>\n",
       "    <tr>\n",
       "      <th>power_10</th>\n",
       "      <td>-2.899619e-55</td>\n",
       "    </tr>\n",
       "    <tr>\n",
       "      <th>power_11</th>\n",
       "      <td>-1.468894e-51</td>\n",
       "    </tr>\n",
       "    <tr>\n",
       "      <th>power_12</th>\n",
       "      <td>-6.265096e-48</td>\n",
       "    </tr>\n",
       "    <tr>\n",
       "      <th>power_13</th>\n",
       "      <td>-1.798672e-44</td>\n",
       "    </tr>\n",
       "    <tr>\n",
       "      <th>power_14</th>\n",
       "      <td>3.665523e-48</td>\n",
       "    </tr>\n",
       "    <tr>\n",
       "      <th>power_15</th>\n",
       "      <td>-1.869737e-52</td>\n",
       "    </tr>\n",
       "  </tbody>\n",
       "</table>\n",
       "</div>"
      ],
      "text/plain": [
       "           Coefficient\n",
       "power_1  -1.529190e-89\n",
       "power_2   4.204768e-50\n",
       "power_3   7.478372e-57\n",
       "power_4  -2.489206e-60\n",
       "power_5  -8.470182e-74\n",
       "power_6  -2.306002e-70\n",
       "power_7  -1.444352e-66\n",
       "power_8  -8.833477e-63\n",
       "power_9  -5.208292e-59\n",
       "power_10 -2.899619e-55\n",
       "power_11 -1.468894e-51\n",
       "power_12 -6.265096e-48\n",
       "power_13 -1.798672e-44\n",
       "power_14  3.665523e-48\n",
       "power_15 -1.869737e-52"
      ]
     },
     "execution_count": 26,
     "metadata": {},
     "output_type": "execute_result"
    }
   ],
   "source": [
    "Model7=LinearRegression()\n",
    "Model7.fit(x,y)\n",
    "coef=pd.DataFrame(Model7.coef_,x.columns,columns=['Coefficient'])\n",
    "coef"
   ]
  },
  {
   "cell_type": "code",
   "execution_count": 27,
   "metadata": {},
   "outputs": [
    {
     "data": {
      "text/plain": [
       "[<matplotlib.lines.Line2D at 0x2708825ed90>,\n",
       " <matplotlib.lines.Line2D at 0x2708825ee20>]"
      ]
     },
     "execution_count": 27,
     "metadata": {},
     "output_type": "execute_result"
    },
    {
     "data": {
      "image/png": "[encoded data removed]",
      "text/plain": [
       "<Figure size 432x288 with 1 Axes>"
      ]
     },
     "metadata": {
      "needs_background": "light"
     },
     "output_type": "display_data"
    }
   ],
   "source": [
    "plt.plot(poly15['power_1'],poly15['price'],'.',\n",
    "         poly15['power_1'],Model7.predict(x),'-')"
   ]
  },
  {
   "cell_type": "markdown",
   "metadata": {},
   "source": [
    "## Sales 4"
   ]
  },
  {
   "cell_type": "code",
   "execution_count": 28,
   "metadata": {},
   "outputs": [],
   "source": [
    "poly15=polynomial_DF(sales3['sqft_living'],15)\n",
    "feats=poly15.columns\n",
    "poly15['price']=sales['price']\n",
    "x=poly15[feats]\n",
    "y=poly15['price']"
   ]
  },
  {
   "cell_type": "code",
   "execution_count": 29,
   "metadata": {},
   "outputs": [
    {
     "data": {
      "text/html": [
       "<div>\n",
       "<style scoped>\n",
       "    .dataframe tbody tr th:only-of-type {\n",
       "        vertical-align: middle;\n",
       "    }\n",
       "\n",
       "    .dataframe tbody tr th {\n",
       "        vertical-align: top;\n",
       "    }\n",
       "\n",
       "    .dataframe thead th {\n",
       "        text-align: right;\n",
       "    }\n",
       "</style>\n",
       "<table border=\"1\" class=\"dataframe\">\n",
       "  <thead>\n",
       "    <tr style=\"text-align: right;\">\n",
       "      <th></th>\n",
       "      <th>Coefficient</th>\n",
       "    </tr>\n",
       "  </thead>\n",
       "  <tbody>\n",
       "    <tr>\n",
       "      <th>power_1</th>\n",
       "      <td>-1.529190e-89</td>\n",
       "    </tr>\n",
       "    <tr>\n",
       "      <th>power_2</th>\n",
       "      <td>4.204768e-50</td>\n",
       "    </tr>\n",
       "    <tr>\n",
       "      <th>power_3</th>\n",
       "      <td>7.478372e-57</td>\n",
       "    </tr>\n",
       "    <tr>\n",
       "      <th>power_4</th>\n",
       "      <td>-2.489206e-60</td>\n",
       "    </tr>\n",
       "    <tr>\n",
       "      <th>power_5</th>\n",
       "      <td>-8.470182e-74</td>\n",
       "    </tr>\n",
       "    <tr>\n",
       "      <th>power_6</th>\n",
       "      <td>-2.306002e-70</td>\n",
       "    </tr>\n",
       "    <tr>\n",
       "      <th>power_7</th>\n",
       "      <td>-1.444352e-66</td>\n",
       "    </tr>\n",
       "    <tr>\n",
       "      <th>power_8</th>\n",
       "      <td>-8.833477e-63</td>\n",
       "    </tr>\n",
       "    <tr>\n",
       "      <th>power_9</th>\n",
       "      <td>-5.208292e-59</td>\n",
       "    </tr>\n",
       "    <tr>\n",
       "      <th>power_10</th>\n",
       "      <td>-2.899619e-55</td>\n",
       "    </tr>\n",
       "    <tr>\n",
       "      <th>power_11</th>\n",
       "      <td>-1.468894e-51</td>\n",
       "    </tr>\n",
       "    <tr>\n",
       "      <th>power_12</th>\n",
       "      <td>-6.265096e-48</td>\n",
       "    </tr>\n",
       "    <tr>\n",
       "      <th>power_13</th>\n",
       "      <td>-1.798672e-44</td>\n",
       "    </tr>\n",
       "    <tr>\n",
       "      <th>power_14</th>\n",
       "      <td>3.665523e-48</td>\n",
       "    </tr>\n",
       "    <tr>\n",
       "      <th>power_15</th>\n",
       "      <td>-1.869737e-52</td>\n",
       "    </tr>\n",
       "  </tbody>\n",
       "</table>\n",
       "</div>"
      ],
      "text/plain": [
       "           Coefficient\n",
       "power_1  -1.529190e-89\n",
       "power_2   4.204768e-50\n",
       "power_3   7.478372e-57\n",
       "power_4  -2.489206e-60\n",
       "power_5  -8.470182e-74\n",
       "power_6  -2.306002e-70\n",
       "power_7  -1.444352e-66\n",
       "power_8  -8.833477e-63\n",
       "power_9  -5.208292e-59\n",
       "power_10 -2.899619e-55\n",
       "power_11 -1.468894e-51\n",
       "power_12 -6.265096e-48\n",
       "power_13 -1.798672e-44\n",
       "power_14  3.665523e-48\n",
       "power_15 -1.869737e-52"
      ]
     },
     "execution_count": 29,
     "metadata": {},
     "output_type": "execute_result"
    }
   ],
   "source": [
    "Model8=LinearRegression()\n",
    "Model8.fit(x,y)\n",
    "coef=pd.DataFrame(Model8.coef_,x.columns,columns=['Coefficient'])\n",
    "coef"
   ]
  },
  {
   "cell_type": "code",
   "execution_count": 30,
   "metadata": {},
   "outputs": [
    {
     "data": {
      "text/plain": [
       "[<matplotlib.lines.Line2D at 0x270882e3c10>,\n",
       " <matplotlib.lines.Line2D at 0x270882e3ca0>]"
      ]
     },
     "execution_count": 30,
     "metadata": {},
     "output_type": "execute_result"
    },
    {
     "data": {
      "image/png": "[encoded data removed]",
      "text/plain": [
       "<Figure size 432x288 with 1 Axes>"
      ]
     },
     "metadata": {
      "needs_background": "light"
     },
     "output_type": "display_data"
    }
   ],
   "source": [
    "plt.plot(poly15['power_1'],poly15['price'],'.',\n",
    "         poly15['power_1'],Model8.predict(x),'-')"
   ]
  },
  {
   "cell_type": "markdown",
   "metadata": {},
   "source": [
    "# Cross Validation"
   ]
  },
  {
   "cell_type": "markdown",
   "metadata": {},
   "source": [
    "## Import Given Training and Test Data Sets"
   ]
  },
  {
   "cell_type": "code",
   "execution_count": 31,
   "metadata": {},
   "outputs": [],
   "source": [
    "Test_Set=pd.read_csv('wk3_kc_house_test_data.csv',dtype=dtype_dict)\n",
    "Train_Set=pd.read_csv('wk3_kc_house_train_data.csv',dtype=dtype_dict)\n",
    "Validation_Set=pd.read_csv('wk3_kc_house_valid_data.csv',dtype=dtype_dict)"
   ]
  },
  {
   "cell_type": "markdown",
   "metadata": {},
   "source": [
    "## Polynomial Data Sets Using the Training Data"
   ]
  },
  {
   "cell_type": "code",
   "execution_count": 32,
   "metadata": {},
   "outputs": [
    {
     "data": {
      "text/html": [
       "<div>\n",
       "<style scoped>\n",
       "    .dataframe tbody tr th:only-of-type {\n",
       "        vertical-align: middle;\n",
       "    }\n",
       "\n",
       "    .dataframe tbody tr th {\n",
       "        vertical-align: top;\n",
       "    }\n",
       "\n",
       "    .dataframe thead th {\n",
       "        text-align: right;\n",
       "    }\n",
       "</style>\n",
       "<table border=\"1\" class=\"dataframe\">\n",
       "  <thead>\n",
       "    <tr style=\"text-align: right;\">\n",
       "      <th></th>\n",
       "      <th>power_1</th>\n",
       "      <th>power_2</th>\n",
       "      <th>power_3</th>\n",
       "      <th>power_4</th>\n",
       "      <th>power_5</th>\n",
       "      <th>power_6</th>\n",
       "      <th>power_7</th>\n",
       "      <th>power_8</th>\n",
       "      <th>power_9</th>\n",
       "      <th>power_10</th>\n",
       "      <th>power_11</th>\n",
       "      <th>power_12</th>\n",
       "      <th>power_13</th>\n",
       "      <th>power_14</th>\n",
       "      <th>power_15</th>\n",
       "    </tr>\n",
       "  </thead>\n",
       "  <tbody>\n",
       "    <tr>\n",
       "      <th>0</th>\n",
       "      <td>1960.0</td>\n",
       "      <td>3841600.0</td>\n",
       "      <td>7.529536e+09</td>\n",
       "      <td>1.475789e+13</td>\n",
       "      <td>2.892547e+16</td>\n",
       "      <td>5.669391e+19</td>\n",
       "      <td>1.111201e+23</td>\n",
       "      <td>2.177953e+26</td>\n",
       "      <td>4.268789e+29</td>\n",
       "      <td>8.366826e+32</td>\n",
       "      <td>1.639898e+36</td>\n",
       "      <td>3.214200e+39</td>\n",
       "      <td>6.299831e+42</td>\n",
       "      <td>1.234767e+46</td>\n",
       "      <td>2.420143e+49</td>\n",
       "    </tr>\n",
       "    <tr>\n",
       "      <th>1</th>\n",
       "      <td>5420.0</td>\n",
       "      <td>29376400.0</td>\n",
       "      <td>1.592201e+11</td>\n",
       "      <td>8.629729e+14</td>\n",
       "      <td>4.677313e+18</td>\n",
       "      <td>2.535104e+22</td>\n",
       "      <td>1.374026e+26</td>\n",
       "      <td>7.447222e+29</td>\n",
       "      <td>4.036394e+33</td>\n",
       "      <td>2.187726e+37</td>\n",
       "      <td>1.185747e+41</td>\n",
       "      <td>6.426750e+44</td>\n",
       "      <td>3.483299e+48</td>\n",
       "      <td>1.887948e+52</td>\n",
       "      <td>1.023268e+56</td>\n",
       "    </tr>\n",
       "    <tr>\n",
       "      <th>2</th>\n",
       "      <td>1160.0</td>\n",
       "      <td>1345600.0</td>\n",
       "      <td>1.560896e+09</td>\n",
       "      <td>1.810639e+12</td>\n",
       "      <td>2.100342e+15</td>\n",
       "      <td>2.436396e+18</td>\n",
       "      <td>2.826220e+21</td>\n",
       "      <td>3.278415e+24</td>\n",
       "      <td>3.802961e+27</td>\n",
       "      <td>4.411435e+30</td>\n",
       "      <td>5.117265e+33</td>\n",
       "      <td>5.936027e+36</td>\n",
       "      <td>6.885791e+39</td>\n",
       "      <td>7.987518e+42</td>\n",
       "      <td>9.265521e+45</td>\n",
       "    </tr>\n",
       "    <tr>\n",
       "      <th>3</th>\n",
       "      <td>1430.0</td>\n",
       "      <td>2044900.0</td>\n",
       "      <td>2.924207e+09</td>\n",
       "      <td>4.181616e+12</td>\n",
       "      <td>5.979711e+15</td>\n",
       "      <td>8.550987e+18</td>\n",
       "      <td>1.222791e+22</td>\n",
       "      <td>1.748591e+25</td>\n",
       "      <td>2.500485e+28</td>\n",
       "      <td>3.575694e+31</td>\n",
       "      <td>5.113243e+34</td>\n",
       "      <td>7.311937e+37</td>\n",
       "      <td>1.045607e+41</td>\n",
       "      <td>1.495218e+44</td>\n",
       "      <td>2.138162e+47</td>\n",
       "    </tr>\n",
       "    <tr>\n",
       "      <th>4</th>\n",
       "      <td>1370.0</td>\n",
       "      <td>1876900.0</td>\n",
       "      <td>2.571353e+09</td>\n",
       "      <td>3.522754e+12</td>\n",
       "      <td>4.826172e+15</td>\n",
       "      <td>6.611856e+18</td>\n",
       "      <td>9.058243e+21</td>\n",
       "      <td>1.240979e+25</td>\n",
       "      <td>1.700142e+28</td>\n",
       "      <td>2.329194e+31</td>\n",
       "      <td>3.190996e+34</td>\n",
       "      <td>4.371664e+37</td>\n",
       "      <td>5.989180e+40</td>\n",
       "      <td>8.205177e+43</td>\n",
       "      <td>1.124109e+47</td>\n",
       "    </tr>\n",
       "    <tr>\n",
       "      <th>...</th>\n",
       "      <td>...</td>\n",
       "      <td>...</td>\n",
       "      <td>...</td>\n",
       "      <td>...</td>\n",
       "      <td>...</td>\n",
       "      <td>...</td>\n",
       "      <td>...</td>\n",
       "      <td>...</td>\n",
       "      <td>...</td>\n",
       "      <td>...</td>\n",
       "      <td>...</td>\n",
       "      <td>...</td>\n",
       "      <td>...</td>\n",
       "      <td>...</td>\n",
       "      <td>...</td>\n",
       "    </tr>\n",
       "    <tr>\n",
       "      <th>9756</th>\n",
       "      <td>1490.0</td>\n",
       "      <td>2220100.0</td>\n",
       "      <td>3.307949e+09</td>\n",
       "      <td>4.928844e+12</td>\n",
       "      <td>7.343978e+15</td>\n",
       "      <td>1.094253e+19</td>\n",
       "      <td>1.630436e+22</td>\n",
       "      <td>2.429350e+25</td>\n",
       "      <td>3.619732e+28</td>\n",
       "      <td>5.393401e+31</td>\n",
       "      <td>8.036167e+34</td>\n",
       "      <td>1.197389e+38</td>\n",
       "      <td>1.784109e+41</td>\n",
       "      <td>2.658323e+44</td>\n",
       "      <td>3.960901e+47</td>\n",
       "    </tr>\n",
       "    <tr>\n",
       "      <th>9757</th>\n",
       "      <td>2520.0</td>\n",
       "      <td>6350400.0</td>\n",
       "      <td>1.600301e+10</td>\n",
       "      <td>4.032758e+13</td>\n",
       "      <td>1.016255e+17</td>\n",
       "      <td>2.560963e+20</td>\n",
       "      <td>6.453626e+23</td>\n",
       "      <td>1.626314e+27</td>\n",
       "      <td>4.098311e+30</td>\n",
       "      <td>1.032774e+34</td>\n",
       "      <td>2.602591e+37</td>\n",
       "      <td>6.558530e+40</td>\n",
       "      <td>1.652749e+44</td>\n",
       "      <td>4.164929e+47</td>\n",
       "      <td>1.049562e+51</td>\n",
       "    </tr>\n",
       "    <tr>\n",
       "      <th>9758</th>\n",
       "      <td>3510.0</td>\n",
       "      <td>12320100.0</td>\n",
       "      <td>4.324355e+10</td>\n",
       "      <td>1.517849e+14</td>\n",
       "      <td>5.327649e+17</td>\n",
       "      <td>1.870005e+21</td>\n",
       "      <td>6.563717e+24</td>\n",
       "      <td>2.303864e+28</td>\n",
       "      <td>8.086564e+31</td>\n",
       "      <td>2.838384e+35</td>\n",
       "      <td>9.962728e+38</td>\n",
       "      <td>3.496918e+42</td>\n",
       "      <td>1.227418e+46</td>\n",
       "      <td>4.308237e+49</td>\n",
       "      <td>1.512191e+53</td>\n",
       "    </tr>\n",
       "    <tr>\n",
       "      <th>9759</th>\n",
       "      <td>1020.0</td>\n",
       "      <td>1040400.0</td>\n",
       "      <td>1.061208e+09</td>\n",
       "      <td>1.082432e+12</td>\n",
       "      <td>1.104081e+15</td>\n",
       "      <td>1.126162e+18</td>\n",
       "      <td>1.148686e+21</td>\n",
       "      <td>1.171659e+24</td>\n",
       "      <td>1.195093e+27</td>\n",
       "      <td>1.218994e+30</td>\n",
       "      <td>1.243374e+33</td>\n",
       "      <td>1.268242e+36</td>\n",
       "      <td>1.293607e+39</td>\n",
       "      <td>1.319479e+42</td>\n",
       "      <td>1.345868e+45</td>\n",
       "    </tr>\n",
       "    <tr>\n",
       "      <th>9760</th>\n",
       "      <td>1020.0</td>\n",
       "      <td>1040400.0</td>\n",
       "      <td>1.061208e+09</td>\n",
       "      <td>1.082432e+12</td>\n",
       "      <td>1.104081e+15</td>\n",
       "      <td>1.126162e+18</td>\n",
       "      <td>1.148686e+21</td>\n",
       "      <td>1.171659e+24</td>\n",
       "      <td>1.195093e+27</td>\n",
       "      <td>1.218994e+30</td>\n",
       "      <td>1.243374e+33</td>\n",
       "      <td>1.268242e+36</td>\n",
       "      <td>1.293607e+39</td>\n",
       "      <td>1.319479e+42</td>\n",
       "      <td>1.345868e+45</td>\n",
       "    </tr>\n",
       "  </tbody>\n",
       "</table>\n",
       "<p>9761 rows × 15 columns</p>\n",
       "</div>"
      ],
      "text/plain": [
       "      power_1     power_2       power_3       power_4       power_5  \\\n",
       "0      1960.0   3841600.0  7.529536e+09  1.475789e+13  2.892547e+16   \n",
       "1      5420.0  29376400.0  1.592201e+11  8.629729e+14  4.677313e+18   \n",
       "2      1160.0   1345600.0  1.560896e+09  1.810639e+12  2.100342e+15   \n",
       "3      1430.0   2044900.0  2.924207e+09  4.181616e+12  5.979711e+15   \n",
       "4      1370.0   1876900.0  2.571353e+09  3.522754e+12  4.826172e+15   \n",
       "...       ...         ...           ...           ...           ...   \n",
       "9756   1490.0   2220100.0  3.307949e+09  4.928844e+12  7.343978e+15   \n",
       "9757   2520.0   6350400.0  1.600301e+10  4.032758e+13  1.016255e+17   \n",
       "9758   3510.0  12320100.0  4.324355e+10  1.517849e+14  5.327649e+17   \n",
       "9759   1020.0   1040400.0  1.061208e+09  1.082432e+12  1.104081e+15   \n",
       "9760   1020.0   1040400.0  1.061208e+09  1.082432e+12  1.104081e+15   \n",
       "\n",
       "           power_6       power_7       power_8       power_9      power_10  \\\n",
       "0     5.669391e+19  1.111201e+23  2.177953e+26  4.268789e+29  8.366826e+32   \n",
       "1     2.535104e+22  1.374026e+26  7.447222e+29  4.036394e+33  2.187726e+37   \n",
       "2     2.436396e+18  2.826220e+21  3.278415e+24  3.802961e+27  4.411435e+30   \n",
       "3     8.550987e+18  1.222791e+22  1.748591e+25  2.500485e+28  3.575694e+31   \n",
       "4     6.611856e+18  9.058243e+21  1.240979e+25  1.700142e+28  2.329194e+31   \n",
       "...            ...           ...           ...           ...           ...   \n",
       "9756  1.094253e+19  1.630436e+22  2.429350e+25  3.619732e+28  5.393401e+31   \n",
       "9757  2.560963e+20  6.453626e+23  1.626314e+27  4.098311e+30  1.032774e+34   \n",
       "9758  1.870005e+21  6.563717e+24  2.303864e+28  8.086564e+31  2.838384e+35   \n",
       "9759  1.126162e+18  1.148686e+21  1.171659e+24  1.195093e+27  1.218994e+30   \n",
       "9760  1.126162e+18  1.148686e+21  1.171659e+24  1.195093e+27  1.218994e+30   \n",
       "\n",
       "          power_11      power_12      power_13      power_14      power_15  \n",
       "0     1.639898e+36  3.214200e+39  6.299831e+42  1.234767e+46  2.420143e+49  \n",
       "1     1.185747e+41  6.426750e+44  3.483299e+48  1.887948e+52  1.023268e+56  \n",
       "2     5.117265e+33  5.936027e+36  6.885791e+39  7.987518e+42  9.265521e+45  \n",
       "3     5.113243e+34  7.311937e+37  1.045607e+41  1.495218e+44  2.138162e+47  \n",
       "4     3.190996e+34  4.371664e+37  5.989180e+40  8.205177e+43  1.124109e+47  \n",
       "...            ...           ...           ...           ...           ...  \n",
       "9756  8.036167e+34  1.197389e+38  1.784109e+41  2.658323e+44  3.960901e+47  \n",
       "9757  2.602591e+37  6.558530e+40  1.652749e+44  4.164929e+47  1.049562e+51  \n",
       "9758  9.962728e+38  3.496918e+42  1.227418e+46  4.308237e+49  1.512191e+53  \n",
       "9759  1.243374e+33  1.268242e+36  1.293607e+39  1.319479e+42  1.345868e+45  \n",
       "9760  1.243374e+33  1.268242e+36  1.293607e+39  1.319479e+42  1.345868e+45  \n",
       "\n",
       "[9761 rows x 15 columns]"
      ]
     },
     "execution_count": 32,
     "metadata": {},
     "output_type": "execute_result"
    }
   ],
   "source": [
    "poly15=polynomial_DF(Train_Set['sqft_living'],15)\n",
    "poly15"
   ]
  },
  {
   "cell_type": "code",
   "execution_count": 33,
   "metadata": {},
   "outputs": [],
   "source": [
    "poly14=poly15.iloc[:,:14]\n",
    "poly13=poly15.iloc[:,:13]\n",
    "poly12=poly15.iloc[:,:12]\n",
    "poly11=poly15.iloc[:,:11]\n",
    "poly10=poly15.iloc[:,:10]\n",
    "poly9=poly15.iloc[:,:9]\n",
    "poly8=poly15.iloc[:,:8]\n",
    "poly7=poly15.iloc[:,:7]\n",
    "poly6=poly15.iloc[:,:6]\n",
    "poly5=poly15.iloc[:,:5]\n",
    "poly4=poly15.iloc[:,:4]\n",
    "poly3=poly15.iloc[:,:3]\n",
    "poly2=poly15.iloc[:,:2]\n",
    "poly1=poly15.iloc[:,:1]"
   ]
  },
  {
   "cell_type": "markdown",
   "metadata": {},
   "source": [
    "## Polynomial Data Sets Using the Validation Data"
   ]
  },
  {
   "cell_type": "code",
   "execution_count": 34,
   "metadata": {},
   "outputs": [],
   "source": [
    "Vpoly15=polynomial_DF(Validation_Set['sqft_living'],15)\n",
    "Vpoly14=Vpoly15.iloc[:,:14]\n",
    "Vpoly13=Vpoly15.iloc[:,:13]\n",
    "Vpoly12=Vpoly15.iloc[:,:12]\n",
    "Vpoly11=Vpoly15.iloc[:,:11]\n",
    "Vpoly10=Vpoly15.iloc[:,:10]\n",
    "Vpoly9=Vpoly15.iloc[:,:9]\n",
    "Vpoly8=Vpoly15.iloc[:,:8]\n",
    "Vpoly7=Vpoly15.iloc[:,:7]\n",
    "Vpoly6=Vpoly15.iloc[:,:6]\n",
    "Vpoly5=Vpoly15.iloc[:,:5]\n",
    "Vpoly4=Vpoly15.iloc[:,:4]\n",
    "Vpoly3=Vpoly15.iloc[:,:3]\n",
    "Vpoly2=Vpoly15.iloc[:,:2]\n",
    "Vpoly1=Vpoly15.iloc[:,:1]"
   ]
  },
  {
   "cell_type": "markdown",
   "metadata": {},
   "source": [
    "## Models"
   ]
  },
  {
   "cell_type": "markdown",
   "metadata": {},
   "source": [
    "### 1st Order"
   ]
  },
  {
   "cell_type": "code",
   "execution_count": 35,
   "metadata": {},
   "outputs": [
    {
     "name": "stdout",
     "output_type": "stream",
     "text": [
      "Coefficient: [280.6235679]\n"
     ]
    },
    {
     "name": "stderr",
     "output_type": "stream",
     "text": [
      "<ipython-input-35-4529b8766b88>:1: SettingWithCopyWarning: \n",
      "A value is trying to be set on a copy of a slice from a DataFrame.\n",
      "Try using .loc[row_indexer,col_indexer] = value instead\n",
      "\n",
      "See the caveats in the documentation: https://pandas.pydata.org/pandas-docs/stable/user_guide/indexing.html#returning-a-view-versus-a-copy\n",
      "  poly1['price']=Train_Set['price']\n"
     ]
    }
   ],
   "source": [
    "poly1['price']=Train_Set['price']\n",
    "x=poly1.iloc[:,:-1].values\n",
    "y=poly1.iloc[:,1].values\n",
    "Model=LinearRegression()\n",
    "Model.fit(x,y)\n",
    "coef=Model1.coef_\n",
    "print('Coefficient: '+str(coef))"
   ]
  },
  {
   "cell_type": "code",
   "execution_count": 36,
   "metadata": {},
   "outputs": [
    {
     "name": "stdout",
     "output_type": "stream",
     "text": [
      "RSS: 629097886299585.8\n"
     ]
    },
    {
     "name": "stderr",
     "output_type": "stream",
     "text": [
      "<ipython-input-36-2bd0bd4d6443>:2: SettingWithCopyWarning: \n",
      "A value is trying to be set on a copy of a slice from a DataFrame.\n",
      "Try using .loc[row_indexer,col_indexer] = value instead\n",
      "\n",
      "See the caveats in the documentation: https://pandas.pydata.org/pandas-docs/stable/user_guide/indexing.html#returning-a-view-versus-a-copy\n",
      "  Vpoly1['price']=Validation_Set['price']\n"
     ]
    }
   ],
   "source": [
    "RSS_List=[]\n",
    "Vpoly1['price']=Validation_Set['price']\n",
    "x=Vpoly1.iloc[:,:-1].values\n",
    "y=Vpoly1.iloc[:,1].values\n",
    "RSS=((Model.predict(x)-y)**2).sum()\n",
    "RSS_List.append(RSS)\n",
    "print('RSS: {}'.format(RSS))"
   ]
  },
  {
   "cell_type": "markdown",
   "metadata": {},
   "source": [
    "### 2nd Order"
   ]
  },
  {
   "cell_type": "code",
   "execution_count": 37,
   "metadata": {},
   "outputs": [
    {
     "data": {
      "text/html": [
       "<div>\n",
       "<style scoped>\n",
       "    .dataframe tbody tr th:only-of-type {\n",
       "        vertical-align: middle;\n",
       "    }\n",
       "\n",
       "    .dataframe tbody tr th {\n",
       "        vertical-align: top;\n",
       "    }\n",
       "\n",
       "    .dataframe thead th {\n",
       "        text-align: right;\n",
       "    }\n",
       "</style>\n",
       "<table border=\"1\" class=\"dataframe\">\n",
       "  <thead>\n",
       "    <tr style=\"text-align: right;\">\n",
       "      <th></th>\n",
       "      <th>Coefficient</th>\n",
       "    </tr>\n",
       "  </thead>\n",
       "  <tbody>\n",
       "    <tr>\n",
       "      <th>power_1</th>\n",
       "      <td>67.994095</td>\n",
       "    </tr>\n",
       "    <tr>\n",
       "      <th>power_2</th>\n",
       "      <td>0.038581</td>\n",
       "    </tr>\n",
       "  </tbody>\n",
       "</table>\n",
       "</div>"
      ],
      "text/plain": [
       "         Coefficient\n",
       "power_1    67.994095\n",
       "power_2     0.038581"
      ]
     },
     "execution_count": 37,
     "metadata": {},
     "output_type": "execute_result"
    }
   ],
   "source": [
    "feats=poly2.columns\n",
    "poly2['price']=Train_Set['price']\n",
    "x=poly2[feats]\n",
    "y=poly2['price']\n",
    "Model=LinearRegression()\n",
    "Model.fit(x,y)\n",
    "coef=pd.DataFrame(Model2.coef_,x.columns,columns=['Coefficient'])\n",
    "coef"
   ]
  },
  {
   "cell_type": "code",
   "execution_count": 38,
   "metadata": {},
   "outputs": [
    {
     "name": "stdout",
     "output_type": "stream",
     "text": [
      "RSS: 623955062706518.1\n"
     ]
    }
   ],
   "source": [
    "feats=Vpoly2.columns\n",
    "Vpoly2['price']=Validation_Set['price']\n",
    "x=Vpoly2[feats]\n",
    "y=Vpoly2['price']\n",
    "RSS=((Model.predict(x)-y)**2).sum()\n",
    "RSS_List.append(RSS)\n",
    "print('RSS: {}'.format(RSS))"
   ]
  },
  {
   "cell_type": "markdown",
   "metadata": {},
   "source": [
    "### 3rd Order"
   ]
  },
  {
   "cell_type": "code",
   "execution_count": 39,
   "metadata": {},
   "outputs": [
    {
     "data": {
      "text/html": [
       "<div>\n",
       "<style scoped>\n",
       "    .dataframe tbody tr th:only-of-type {\n",
       "        vertical-align: middle;\n",
       "    }\n",
       "\n",
       "    .dataframe tbody tr th {\n",
       "        vertical-align: top;\n",
       "    }\n",
       "\n",
       "    .dataframe thead th {\n",
       "        text-align: right;\n",
       "    }\n",
       "</style>\n",
       "<table border=\"1\" class=\"dataframe\">\n",
       "  <thead>\n",
       "    <tr style=\"text-align: right;\">\n",
       "      <th></th>\n",
       "      <th>Coefficient</th>\n",
       "    </tr>\n",
       "  </thead>\n",
       "  <tbody>\n",
       "    <tr>\n",
       "      <th>power_1</th>\n",
       "      <td>7.502921e+00</td>\n",
       "    </tr>\n",
       "    <tr>\n",
       "      <th>power_2</th>\n",
       "      <td>5.030636e-02</td>\n",
       "    </tr>\n",
       "    <tr>\n",
       "      <th>power_3</th>\n",
       "      <td>1.670907e-07</td>\n",
       "    </tr>\n",
       "  </tbody>\n",
       "</table>\n",
       "</div>"
      ],
      "text/plain": [
       "          Coefficient\n",
       "power_1  7.502921e+00\n",
       "power_2  5.030636e-02\n",
       "power_3  1.670907e-07"
      ]
     },
     "execution_count": 39,
     "metadata": {},
     "output_type": "execute_result"
    }
   ],
   "source": [
    "feats=poly3.columns\n",
    "poly3['price']=Train_Set['price']\n",
    "x=poly3[feats]\n",
    "y=poly3['price']\n",
    "Model=LinearRegression()\n",
    "Model.fit(x,y)\n",
    "coef=pd.DataFrame(Model.coef_,x.columns,columns=['Coefficient'])\n",
    "coef"
   ]
  },
  {
   "cell_type": "code",
   "execution_count": 40,
   "metadata": {},
   "outputs": [
    {
     "name": "stdout",
     "output_type": "stream",
     "text": [
      "RSS: 625820280251530.8\n"
     ]
    }
   ],
   "source": [
    "feats=Vpoly3.columns\n",
    "Vpoly3['price']=Validation_Set['price']\n",
    "x=Vpoly3[feats]\n",
    "y=Vpoly3['price']\n",
    "RSS=((Model.predict(x)-y)**2).sum()\n",
    "RSS_List.append(RSS)\n",
    "print('RSS: {}'.format(RSS))"
   ]
  },
  {
   "cell_type": "markdown",
   "metadata": {},
   "source": [
    "### 4th Order"
   ]
  },
  {
   "cell_type": "code",
   "execution_count": 41,
   "metadata": {},
   "outputs": [
    {
     "data": {
      "text/html": [
       "<div>\n",
       "<style scoped>\n",
       "    .dataframe tbody tr th:only-of-type {\n",
       "        vertical-align: middle;\n",
       "    }\n",
       "\n",
       "    .dataframe tbody tr th {\n",
       "        vertical-align: top;\n",
       "    }\n",
       "\n",
       "    .dataframe thead th {\n",
       "        text-align: right;\n",
       "    }\n",
       "</style>\n",
       "<table border=\"1\" class=\"dataframe\">\n",
       "  <thead>\n",
       "    <tr style=\"text-align: right;\">\n",
       "      <th></th>\n",
       "      <th>Coefficient</th>\n",
       "    </tr>\n",
       "  </thead>\n",
       "  <tbody>\n",
       "    <tr>\n",
       "      <th>power_1</th>\n",
       "      <td>-1.538527e+01</td>\n",
       "    </tr>\n",
       "    <tr>\n",
       "      <th>power_2</th>\n",
       "      <td>6.089709e-02</td>\n",
       "    </tr>\n",
       "    <tr>\n",
       "      <th>power_3</th>\n",
       "      <td>-1.614966e-06</td>\n",
       "    </tr>\n",
       "    <tr>\n",
       "      <th>power_4</th>\n",
       "      <td>9.117252e-11</td>\n",
       "    </tr>\n",
       "  </tbody>\n",
       "</table>\n",
       "</div>"
      ],
      "text/plain": [
       "          Coefficient\n",
       "power_1 -1.538527e+01\n",
       "power_2  6.089709e-02\n",
       "power_3 -1.614966e-06\n",
       "power_4  9.117252e-11"
      ]
     },
     "execution_count": 41,
     "metadata": {},
     "output_type": "execute_result"
    }
   ],
   "source": [
    "feats=poly4.columns\n",
    "poly4['price']=Train_Set['price']\n",
    "x=poly4[feats]\n",
    "y=poly4['price']\n",
    "Model=LinearRegression()\n",
    "Model.fit(x,y)\n",
    "coef=pd.DataFrame(Model.coef_,x.columns,columns=['Coefficient'])\n",
    "coef"
   ]
  },
  {
   "cell_type": "code",
   "execution_count": 42,
   "metadata": {},
   "outputs": [
    {
     "name": "stdout",
     "output_type": "stream",
     "text": [
      "RSS: 629987335647053.1\n"
     ]
    }
   ],
   "source": [
    "feats=Vpoly4.columns\n",
    "Vpoly4['price']=Validation_Set['price']\n",
    "x=Vpoly4[feats]\n",
    "y=Vpoly4['price']\n",
    "RSS=((Model.predict(x)-y)**2).sum()\n",
    "RSS_List.append(RSS)\n",
    "print('RSS: {}'.format(RSS))"
   ]
  },
  {
   "cell_type": "markdown",
   "metadata": {},
   "source": [
    "### 5th Order"
   ]
  },
  {
   "cell_type": "code",
   "execution_count": 43,
   "metadata": {},
   "outputs": [
    {
     "data": {
      "text/html": [
       "<div>\n",
       "<style scoped>\n",
       "    .dataframe tbody tr th:only-of-type {\n",
       "        vertical-align: middle;\n",
       "    }\n",
       "\n",
       "    .dataframe tbody tr th {\n",
       "        vertical-align: top;\n",
       "    }\n",
       "\n",
       "    .dataframe thead th {\n",
       "        text-align: right;\n",
       "    }\n",
       "</style>\n",
       "<table border=\"1\" class=\"dataframe\">\n",
       "  <thead>\n",
       "    <tr style=\"text-align: right;\">\n",
       "      <th></th>\n",
       "      <th>Coefficient</th>\n",
       "    </tr>\n",
       "  </thead>\n",
       "  <tbody>\n",
       "    <tr>\n",
       "      <th>power_1</th>\n",
       "      <td>3.198019e-05</td>\n",
       "    </tr>\n",
       "    <tr>\n",
       "      <th>power_2</th>\n",
       "      <td>5.445531e-02</td>\n",
       "    </tr>\n",
       "    <tr>\n",
       "      <th>power_3</th>\n",
       "      <td>-6.430073e-07</td>\n",
       "    </tr>\n",
       "    <tr>\n",
       "      <th>power_4</th>\n",
       "      <td>4.830002e-11</td>\n",
       "    </tr>\n",
       "    <tr>\n",
       "      <th>power_5</th>\n",
       "      <td>-2.303489e-16</td>\n",
       "    </tr>\n",
       "  </tbody>\n",
       "</table>\n",
       "</div>"
      ],
      "text/plain": [
       "          Coefficient\n",
       "power_1  3.198019e-05\n",
       "power_2  5.445531e-02\n",
       "power_3 -6.430073e-07\n",
       "power_4  4.830002e-11\n",
       "power_5 -2.303489e-16"
      ]
     },
     "execution_count": 43,
     "metadata": {},
     "output_type": "execute_result"
    }
   ],
   "source": [
    "feats=poly5.columns\n",
    "poly5['price']=Train_Set['price']\n",
    "x=poly5[feats]\n",
    "y=poly5['price']\n",
    "Model=LinearRegression()\n",
    "Model.fit(x,y)\n",
    "coef=pd.DataFrame(Model.coef_,x.columns,columns=['Coefficient'])\n",
    "coef"
   ]
  },
  {
   "cell_type": "code",
   "execution_count": 44,
   "metadata": {},
   "outputs": [
    {
     "name": "stdout",
     "output_type": "stream",
     "text": [
      "RSS: 628238442032656.4\n"
     ]
    }
   ],
   "source": [
    "feats=Vpoly5.columns\n",
    "Vpoly5['price']=Validation_Set['price']\n",
    "x=Vpoly5[feats]\n",
    "y=Vpoly5['price']\n",
    "RSS=((Model.predict(x)-y)**2).sum()\n",
    "RSS_List.append(RSS)\n",
    "print('RSS: {}'.format(RSS))"
   ]
  },
  {
   "cell_type": "markdown",
   "metadata": {},
   "source": [
    "### 6th Order"
   ]
  },
  {
   "cell_type": "code",
   "execution_count": 45,
   "metadata": {},
   "outputs": [
    {
     "data": {
      "text/html": [
       "<div>\n",
       "<style scoped>\n",
       "    .dataframe tbody tr th:only-of-type {\n",
       "        vertical-align: middle;\n",
       "    }\n",
       "\n",
       "    .dataframe tbody tr th {\n",
       "        vertical-align: top;\n",
       "    }\n",
       "\n",
       "    .dataframe thead th {\n",
       "        text-align: right;\n",
       "    }\n",
       "</style>\n",
       "<table border=\"1\" class=\"dataframe\">\n",
       "  <thead>\n",
       "    <tr style=\"text-align: right;\">\n",
       "      <th></th>\n",
       "      <th>Coefficient</th>\n",
       "    </tr>\n",
       "  </thead>\n",
       "  <tbody>\n",
       "    <tr>\n",
       "      <th>power_1</th>\n",
       "      <td>8.500633e-12</td>\n",
       "    </tr>\n",
       "    <tr>\n",
       "      <th>power_2</th>\n",
       "      <td>1.432643e-08</td>\n",
       "    </tr>\n",
       "    <tr>\n",
       "      <th>power_3</th>\n",
       "      <td>3.794127e-05</td>\n",
       "    </tr>\n",
       "    <tr>\n",
       "      <th>power_4</th>\n",
       "      <td>-9.897942e-09</td>\n",
       "    </tr>\n",
       "    <tr>\n",
       "      <th>power_5</th>\n",
       "      <td>1.060747e-12</td>\n",
       "    </tr>\n",
       "    <tr>\n",
       "      <th>power_6</th>\n",
       "      <td>-3.908743e-17</td>\n",
       "    </tr>\n",
       "  </tbody>\n",
       "</table>\n",
       "</div>"
      ],
      "text/plain": [
       "          Coefficient\n",
       "power_1  8.500633e-12\n",
       "power_2  1.432643e-08\n",
       "power_3  3.794127e-05\n",
       "power_4 -9.897942e-09\n",
       "power_5  1.060747e-12\n",
       "power_6 -3.908743e-17"
      ]
     },
     "execution_count": 45,
     "metadata": {},
     "output_type": "execute_result"
    }
   ],
   "source": [
    "feats=poly6.columns\n",
    "poly6['price']=Train_Set['price']\n",
    "x=poly6[feats]\n",
    "y=poly6['price']\n",
    "Model=LinearRegression()\n",
    "Model.fit(x,y)\n",
    "coef=pd.DataFrame(Model.coef_,x.columns,columns=['Coefficient'])\n",
    "coef"
   ]
  },
  {
   "cell_type": "code",
   "execution_count": 46,
   "metadata": {},
   "outputs": [
    {
     "name": "stdout",
     "output_type": "stream",
     "text": [
      "RSS: 566268592707004.8\n"
     ]
    }
   ],
   "source": [
    "feats=Vpoly6.columns\n",
    "Vpoly6['price']=Validation_Set['price']\n",
    "x=Vpoly6[feats]\n",
    "y=Vpoly6['price']\n",
    "RSS=((Model.predict(x)-y)**2).sum()\n",
    "RSS_List.append(RSS)\n",
    "print('RSS: {}'.format(RSS))"
   ]
  },
  {
   "cell_type": "markdown",
   "metadata": {},
   "source": [
    "### 7th Order"
   ]
  },
  {
   "cell_type": "code",
   "execution_count": 47,
   "metadata": {},
   "outputs": [
    {
     "data": {
      "text/html": [
       "<div>\n",
       "<style scoped>\n",
       "    .dataframe tbody tr th:only-of-type {\n",
       "        vertical-align: middle;\n",
       "    }\n",
       "\n",
       "    .dataframe tbody tr th {\n",
       "        vertical-align: top;\n",
       "    }\n",
       "\n",
       "    .dataframe thead th {\n",
       "        text-align: right;\n",
       "    }\n",
       "</style>\n",
       "<table border=\"1\" class=\"dataframe\">\n",
       "  <thead>\n",
       "    <tr style=\"text-align: right;\">\n",
       "      <th></th>\n",
       "      <th>Coefficient</th>\n",
       "    </tr>\n",
       "  </thead>\n",
       "  <tbody>\n",
       "    <tr>\n",
       "      <th>power_1</th>\n",
       "      <td>8.802096e-19</td>\n",
       "    </tr>\n",
       "    <tr>\n",
       "      <th>power_2</th>\n",
       "      <td>1.067352e-12</td>\n",
       "    </tr>\n",
       "    <tr>\n",
       "      <th>power_3</th>\n",
       "      <td>8.652398e-12</td>\n",
       "    </tr>\n",
       "    <tr>\n",
       "      <th>power_4</th>\n",
       "      <td>1.402825e-08</td>\n",
       "    </tr>\n",
       "    <tr>\n",
       "      <th>power_5</th>\n",
       "      <td>-4.304799e-12</td>\n",
       "    </tr>\n",
       "    <tr>\n",
       "      <th>power_6</th>\n",
       "      <td>4.647962e-16</td>\n",
       "    </tr>\n",
       "    <tr>\n",
       "      <th>power_7</th>\n",
       "      <td>-1.674478e-20</td>\n",
       "    </tr>\n",
       "  </tbody>\n",
       "</table>\n",
       "</div>"
      ],
      "text/plain": [
       "          Coefficient\n",
       "power_1  8.802096e-19\n",
       "power_2  1.067352e-12\n",
       "power_3  8.652398e-12\n",
       "power_4  1.402825e-08\n",
       "power_5 -4.304799e-12\n",
       "power_6  4.647962e-16\n",
       "power_7 -1.674478e-20"
      ]
     },
     "execution_count": 47,
     "metadata": {},
     "output_type": "execute_result"
    }
   ],
   "source": [
    "feats=poly7.columns\n",
    "poly7['price']=Train_Set['price']\n",
    "x=poly7[feats]\n",
    "y=poly7['price']\n",
    "Model=LinearRegression()\n",
    "Model.fit(x,y)\n",
    "coef=pd.DataFrame(Model.coef_,x.columns,columns=['Coefficient'])\n",
    "coef"
   ]
  },
  {
   "cell_type": "code",
   "execution_count": 48,
   "metadata": {},
   "outputs": [
    {
     "name": "stdout",
     "output_type": "stream",
     "text": [
      "RSS: 1073845511105917.1\n"
     ]
    }
   ],
   "source": [
    "feats=Vpoly7.columns\n",
    "Vpoly7['price']=Validation_Set['price']\n",
    "x=Vpoly7[feats]\n",
    "y=Vpoly7['price']\n",
    "RSS=((Model.predict(x)-y)**2).sum()\n",
    "RSS_List.append(RSS)\n",
    "print('RSS: {}'.format(RSS))"
   ]
  },
  {
   "cell_type": "markdown",
   "metadata": {},
   "source": [
    "### 8th Order"
   ]
  },
  {
   "cell_type": "code",
   "execution_count": 49,
   "metadata": {},
   "outputs": [
    {
     "data": {
      "text/html": [
       "<div>\n",
       "<style scoped>\n",
       "    .dataframe tbody tr th:only-of-type {\n",
       "        vertical-align: middle;\n",
       "    }\n",
       "\n",
       "    .dataframe tbody tr th {\n",
       "        vertical-align: top;\n",
       "    }\n",
       "\n",
       "    .dataframe thead th {\n",
       "        text-align: right;\n",
       "    }\n",
       "</style>\n",
       "<table border=\"1\" class=\"dataframe\">\n",
       "  <thead>\n",
       "    <tr style=\"text-align: right;\">\n",
       "      <th></th>\n",
       "      <th>Coefficient</th>\n",
       "    </tr>\n",
       "  </thead>\n",
       "  <tbody>\n",
       "    <tr>\n",
       "      <th>power_1</th>\n",
       "      <td>5.376768e-26</td>\n",
       "    </tr>\n",
       "    <tr>\n",
       "      <th>power_2</th>\n",
       "      <td>-5.008549e-15</td>\n",
       "    </tr>\n",
       "    <tr>\n",
       "      <th>power_3</th>\n",
       "      <td>7.202572e-19</td>\n",
       "    </tr>\n",
       "    <tr>\n",
       "      <th>power_4</th>\n",
       "      <td>2.174759e-15</td>\n",
       "    </tr>\n",
       "    <tr>\n",
       "      <th>power_5</th>\n",
       "      <td>3.747184e-12</td>\n",
       "    </tr>\n",
       "    <tr>\n",
       "      <th>power_6</th>\n",
       "      <td>-1.178195e-15</td>\n",
       "    </tr>\n",
       "    <tr>\n",
       "      <th>power_7</th>\n",
       "      <td>1.249868e-19</td>\n",
       "    </tr>\n",
       "    <tr>\n",
       "      <th>power_8</th>\n",
       "      <td>-4.383612e-24</td>\n",
       "    </tr>\n",
       "  </tbody>\n",
       "</table>\n",
       "</div>"
      ],
      "text/plain": [
       "          Coefficient\n",
       "power_1  5.376768e-26\n",
       "power_2 -5.008549e-15\n",
       "power_3  7.202572e-19\n",
       "power_4  2.174759e-15\n",
       "power_5  3.747184e-12\n",
       "power_6 -1.178195e-15\n",
       "power_7  1.249868e-19\n",
       "power_8 -4.383612e-24"
      ]
     },
     "execution_count": 49,
     "metadata": {},
     "output_type": "execute_result"
    }
   ],
   "source": [
    "feats=poly8.columns\n",
    "poly8['price']=Train_Set['price']\n",
    "x=poly8[feats]\n",
    "y=poly8['price']\n",
    "Model=LinearRegression()\n",
    "Model.fit(x,y)\n",
    "coef=pd.DataFrame(Model.coef_,x.columns,columns=['Coefficient'])\n",
    "coef"
   ]
  },
  {
   "cell_type": "code",
   "execution_count": 50,
   "metadata": {},
   "outputs": [
    {
     "name": "stdout",
     "output_type": "stream",
     "text": [
      "RSS: 7087929449716431.0\n"
     ]
    }
   ],
   "source": [
    "feats=Vpoly8.columns\n",
    "Vpoly8['price']=Validation_Set['price']\n",
    "x=Vpoly8[feats]\n",
    "y=Vpoly8['price']\n",
    "RSS=((Model.predict(x)-y)**2).sum()\n",
    "RSS_List.append(RSS)\n",
    "print('RSS: {}'.format(RSS))"
   ]
  },
  {
   "cell_type": "markdown",
   "metadata": {},
   "source": [
    "### 9th Order"
   ]
  },
  {
   "cell_type": "code",
   "execution_count": 51,
   "metadata": {},
   "outputs": [
    {
     "data": {
      "text/html": [
       "<div>\n",
       "<style scoped>\n",
       "    .dataframe tbody tr th:only-of-type {\n",
       "        vertical-align: middle;\n",
       "    }\n",
       "\n",
       "    .dataframe tbody tr th {\n",
       "        vertical-align: top;\n",
       "    }\n",
       "\n",
       "    .dataframe thead th {\n",
       "        text-align: right;\n",
       "    }\n",
       "</style>\n",
       "<table border=\"1\" class=\"dataframe\">\n",
       "  <thead>\n",
       "    <tr style=\"text-align: right;\">\n",
       "      <th></th>\n",
       "      <th>Coefficient</th>\n",
       "    </tr>\n",
       "  </thead>\n",
       "  <tbody>\n",
       "    <tr>\n",
       "      <th>power_1</th>\n",
       "      <td>2.354408e-33</td>\n",
       "    </tr>\n",
       "    <tr>\n",
       "      <th>power_2</th>\n",
       "      <td>5.553250e-18</td>\n",
       "    </tr>\n",
       "    <tr>\n",
       "      <th>power_3</th>\n",
       "      <td>2.620954e-23</td>\n",
       "    </tr>\n",
       "    <tr>\n",
       "      <th>power_4</th>\n",
       "      <td>1.613515e-22</td>\n",
       "    </tr>\n",
       "    <tr>\n",
       "      <th>power_5</th>\n",
       "      <td>4.530064e-19</td>\n",
       "    </tr>\n",
       "    <tr>\n",
       "      <th>power_6</th>\n",
       "      <td>8.235231e-16</td>\n",
       "    </tr>\n",
       "    <tr>\n",
       "      <th>power_7</th>\n",
       "      <td>-2.585760e-19</td>\n",
       "    </tr>\n",
       "    <tr>\n",
       "      <th>power_8</th>\n",
       "      <td>2.699144e-23</td>\n",
       "    </tr>\n",
       "    <tr>\n",
       "      <th>power_9</th>\n",
       "      <td>-9.284855e-28</td>\n",
       "    </tr>\n",
       "  </tbody>\n",
       "</table>\n",
       "</div>"
      ],
      "text/plain": [
       "          Coefficient\n",
       "power_1  2.354408e-33\n",
       "power_2  5.553250e-18\n",
       "power_3  2.620954e-23\n",
       "power_4  1.613515e-22\n",
       "power_5  4.530064e-19\n",
       "power_6  8.235231e-16\n",
       "power_7 -2.585760e-19\n",
       "power_8  2.699144e-23\n",
       "power_9 -9.284855e-28"
      ]
     },
     "execution_count": 51,
     "metadata": {},
     "output_type": "execute_result"
    }
   ],
   "source": [
    "feats=poly9.columns\n",
    "poly9['price']=Train_Set['price']\n",
    "x=poly9[feats]\n",
    "y=poly9['price']\n",
    "Model=LinearRegression()\n",
    "Model.fit(x,y)\n",
    "coef=pd.DataFrame(Model.coef_,x.columns,columns=['Coefficient'])\n",
    "coef"
   ]
  },
  {
   "cell_type": "code",
   "execution_count": 52,
   "metadata": {},
   "outputs": [
    {
     "name": "stdout",
     "output_type": "stream",
     "text": [
      "RSS: 4.530319412629969e+16\n"
     ]
    }
   ],
   "source": [
    "feats=Vpoly9.columns\n",
    "Vpoly9['price']=Validation_Set['price']\n",
    "x=Vpoly9[feats]\n",
    "y=Vpoly9['price']\n",
    "RSS=((Model.predict(x)-y)**2).sum()\n",
    "RSS_List.append(RSS)\n",
    "print('RSS: {}'.format(RSS))"
   ]
  },
  {
   "cell_type": "markdown",
   "metadata": {},
   "source": [
    "### 10th Order"
   ]
  },
  {
   "cell_type": "code",
   "execution_count": 53,
   "metadata": {},
   "outputs": [
    {
     "data": {
      "text/html": [
       "<div>\n",
       "<style scoped>\n",
       "    .dataframe tbody tr th:only-of-type {\n",
       "        vertical-align: middle;\n",
       "    }\n",
       "\n",
       "    .dataframe tbody tr th {\n",
       "        vertical-align: top;\n",
       "    }\n",
       "\n",
       "    .dataframe thead th {\n",
       "        text-align: right;\n",
       "    }\n",
       "</style>\n",
       "<table border=\"1\" class=\"dataframe\">\n",
       "  <thead>\n",
       "    <tr style=\"text-align: right;\">\n",
       "      <th></th>\n",
       "      <th>Coefficient</th>\n",
       "    </tr>\n",
       "  </thead>\n",
       "  <tbody>\n",
       "    <tr>\n",
       "      <th>power_1</th>\n",
       "      <td>8.101943e-41</td>\n",
       "    </tr>\n",
       "    <tr>\n",
       "      <th>power_2</th>\n",
       "      <td>1.718407e-21</td>\n",
       "    </tr>\n",
       "    <tr>\n",
       "      <th>power_3</th>\n",
       "      <td>7.503797e-27</td>\n",
       "    </tr>\n",
       "    <tr>\n",
       "      <th>power_4</th>\n",
       "      <td>8.376475e-30</td>\n",
       "    </tr>\n",
       "    <tr>\n",
       "      <th>power_5</th>\n",
       "      <td>2.829898e-26</td>\n",
       "    </tr>\n",
       "    <tr>\n",
       "      <th>power_6</th>\n",
       "      <td>8.325111e-23</td>\n",
       "    </tr>\n",
       "    <tr>\n",
       "      <th>power_7</th>\n",
       "      <td>1.580824e-19</td>\n",
       "    </tr>\n",
       "    <tr>\n",
       "      <th>power_8</th>\n",
       "      <td>-4.938712e-23</td>\n",
       "    </tr>\n",
       "    <tr>\n",
       "      <th>power_9</th>\n",
       "      <td>5.100073e-27</td>\n",
       "    </tr>\n",
       "    <tr>\n",
       "      <th>power_10</th>\n",
       "      <td>-1.733541e-31</td>\n",
       "    </tr>\n",
       "  </tbody>\n",
       "</table>\n",
       "</div>"
      ],
      "text/plain": [
       "           Coefficient\n",
       "power_1   8.101943e-41\n",
       "power_2   1.718407e-21\n",
       "power_3   7.503797e-27\n",
       "power_4   8.376475e-30\n",
       "power_5   2.829898e-26\n",
       "power_6   8.325111e-23\n",
       "power_7   1.580824e-19\n",
       "power_8  -4.938712e-23\n",
       "power_9   5.100073e-27\n",
       "power_10 -1.733541e-31"
      ]
     },
     "execution_count": 53,
     "metadata": {},
     "output_type": "execute_result"
    }
   ],
   "source": [
    "feats=poly10.columns\n",
    "poly10['price']=Train_Set['price']\n",
    "x=poly10[feats]\n",
    "y=poly10['price']\n",
    "Model=LinearRegression()\n",
    "Model.fit(x,y)\n",
    "coef=pd.DataFrame(Model.coef_,x.columns,columns=['Coefficient'])\n",
    "coef"
   ]
  },
  {
   "cell_type": "code",
   "execution_count": 54,
   "metadata": {},
   "outputs": [
    {
     "name": "stdout",
     "output_type": "stream",
     "text": [
      "RSS: 2.4755062713771638e+17\n"
     ]
    }
   ],
   "source": [
    "feats=Vpoly10.columns\n",
    "Vpoly10['price']=Validation_Set['price']\n",
    "x=Vpoly10[feats]\n",
    "y=Vpoly10['price']\n",
    "RSS=((Model.predict(x)-y)**2).sum()\n",
    "RSS_List.append(RSS)\n",
    "print('RSS: {}'.format(RSS))"
   ]
  },
  {
   "cell_type": "markdown",
   "metadata": {},
   "source": [
    "### 11th Order"
   ]
  },
  {
   "cell_type": "code",
   "execution_count": 55,
   "metadata": {},
   "outputs": [
    {
     "data": {
      "text/html": [
       "<div>\n",
       "<style scoped>\n",
       "    .dataframe tbody tr th:only-of-type {\n",
       "        vertical-align: middle;\n",
       "    }\n",
       "\n",
       "    .dataframe tbody tr th {\n",
       "        vertical-align: top;\n",
       "    }\n",
       "\n",
       "    .dataframe thead th {\n",
       "        text-align: right;\n",
       "    }\n",
       "</style>\n",
       "<table border=\"1\" class=\"dataframe\">\n",
       "  <thead>\n",
       "    <tr style=\"text-align: right;\">\n",
       "      <th></th>\n",
       "      <th>Coefficient</th>\n",
       "    </tr>\n",
       "  </thead>\n",
       "  <tbody>\n",
       "    <tr>\n",
       "      <th>power_1</th>\n",
       "      <td>2.320963e-48</td>\n",
       "    </tr>\n",
       "    <tr>\n",
       "      <th>power_2</th>\n",
       "      <td>2.393570e-25</td>\n",
       "    </tr>\n",
       "    <tr>\n",
       "      <th>power_3</th>\n",
       "      <td>-1.648216e-30</td>\n",
       "    </tr>\n",
       "    <tr>\n",
       "      <th>power_4</th>\n",
       "      <td>-9.330169e-35</td>\n",
       "    </tr>\n",
       "    <tr>\n",
       "      <th>power_5</th>\n",
       "      <td>1.228211e-33</td>\n",
       "    </tr>\n",
       "    <tr>\n",
       "      <th>power_6</th>\n",
       "      <td>4.564650e-30</td>\n",
       "    </tr>\n",
       "    <tr>\n",
       "      <th>power_7</th>\n",
       "      <td>1.396449e-26</td>\n",
       "    </tr>\n",
       "    <tr>\n",
       "      <th>power_8</th>\n",
       "      <td>2.744359e-23</td>\n",
       "    </tr>\n",
       "    <tr>\n",
       "      <th>power_9</th>\n",
       "      <td>-8.535311e-27</td>\n",
       "    </tr>\n",
       "    <tr>\n",
       "      <th>power_10</th>\n",
       "      <td>8.754003e-31</td>\n",
       "    </tr>\n",
       "    <tr>\n",
       "      <th>power_11</th>\n",
       "      <td>-2.954077e-35</td>\n",
       "    </tr>\n",
       "  </tbody>\n",
       "</table>\n",
       "</div>"
      ],
      "text/plain": [
       "           Coefficient\n",
       "power_1   2.320963e-48\n",
       "power_2   2.393570e-25\n",
       "power_3  -1.648216e-30\n",
       "power_4  -9.330169e-35\n",
       "power_5   1.228211e-33\n",
       "power_6   4.564650e-30\n",
       "power_7   1.396449e-26\n",
       "power_8   2.744359e-23\n",
       "power_9  -8.535311e-27\n",
       "power_10  8.754003e-31\n",
       "power_11 -2.954077e-35"
      ]
     },
     "execution_count": 55,
     "metadata": {},
     "output_type": "execute_result"
    }
   ],
   "source": [
    "feats=poly11.columns\n",
    "poly11['price']=Train_Set['price']\n",
    "x=poly11[feats]\n",
    "y=poly11['price']\n",
    "Model=LinearRegression()\n",
    "Model.fit(x,y)\n",
    "coef=pd.DataFrame(Model.coef_,x.columns,columns=['Coefficient'])\n",
    "coef"
   ]
  },
  {
   "cell_type": "code",
   "execution_count": 56,
   "metadata": {},
   "outputs": [
    {
     "name": "stdout",
     "output_type": "stream",
     "text": [
      "RSS: 1.1939091585420134e+18\n"
     ]
    }
   ],
   "source": [
    "feats=Vpoly11.columns\n",
    "Vpoly11['price']=Validation_Set['price']\n",
    "x=Vpoly11[feats]\n",
    "y=Vpoly11['price']\n",
    "RSS=((Model.predict(x)-y)**2).sum()\n",
    "RSS_List.append(RSS)\n",
    "print('RSS: {}'.format(RSS))"
   ]
  },
  {
   "cell_type": "markdown",
   "metadata": {},
   "source": [
    "### 12th Order"
   ]
  },
  {
   "cell_type": "code",
   "execution_count": 57,
   "metadata": {},
   "outputs": [
    {
     "data": {
      "text/html": [
       "<div>\n",
       "<style scoped>\n",
       "    .dataframe tbody tr th:only-of-type {\n",
       "        vertical-align: middle;\n",
       "    }\n",
       "\n",
       "    .dataframe tbody tr th {\n",
       "        vertical-align: top;\n",
       "    }\n",
       "\n",
       "    .dataframe thead th {\n",
       "        text-align: right;\n",
       "    }\n",
       "</style>\n",
       "<table border=\"1\" class=\"dataframe\">\n",
       "  <thead>\n",
       "    <tr style=\"text-align: right;\">\n",
       "      <th></th>\n",
       "      <th>Coefficient</th>\n",
       "    </tr>\n",
       "  </thead>\n",
       "  <tbody>\n",
       "    <tr>\n",
       "      <th>power_1</th>\n",
       "      <td>5.724777e-56</td>\n",
       "    </tr>\n",
       "    <tr>\n",
       "      <th>power_2</th>\n",
       "      <td>-5.431121e-28</td>\n",
       "    </tr>\n",
       "    <tr>\n",
       "      <th>power_3</th>\n",
       "      <td>1.908770e-34</td>\n",
       "    </tr>\n",
       "    <tr>\n",
       "      <th>power_4</th>\n",
       "      <td>-2.495934e-39</td>\n",
       "    </tr>\n",
       "    <tr>\n",
       "      <th>power_5</th>\n",
       "      <td>4.203541e-41</td>\n",
       "    </tr>\n",
       "    <tr>\n",
       "      <th>power_6</th>\n",
       "      <td>1.786355e-37</td>\n",
       "    </tr>\n",
       "    <tr>\n",
       "      <th>power_7</th>\n",
       "      <td>6.870608e-34</td>\n",
       "    </tr>\n",
       "    <tr>\n",
       "      <th>power_8</th>\n",
       "      <td>2.166753e-30</td>\n",
       "    </tr>\n",
       "    <tr>\n",
       "      <th>power_9</th>\n",
       "      <td>4.370854e-27</td>\n",
       "    </tr>\n",
       "    <tr>\n",
       "      <th>power_10</th>\n",
       "      <td>-1.354806e-30</td>\n",
       "    </tr>\n",
       "    <tr>\n",
       "      <th>power_11</th>\n",
       "      <td>1.383468e-34</td>\n",
       "    </tr>\n",
       "    <tr>\n",
       "      <th>power_12</th>\n",
       "      <td>-4.647956e-39</td>\n",
       "    </tr>\n",
       "  </tbody>\n",
       "</table>\n",
       "</div>"
      ],
      "text/plain": [
       "           Coefficient\n",
       "power_1   5.724777e-56\n",
       "power_2  -5.431121e-28\n",
       "power_3   1.908770e-34\n",
       "power_4  -2.495934e-39\n",
       "power_5   4.203541e-41\n",
       "power_6   1.786355e-37\n",
       "power_7   6.870608e-34\n",
       "power_8   2.166753e-30\n",
       "power_9   4.370854e-27\n",
       "power_10 -1.354806e-30\n",
       "power_11  1.383468e-34\n",
       "power_12 -4.647956e-39"
      ]
     },
     "execution_count": 57,
     "metadata": {},
     "output_type": "execute_result"
    }
   ],
   "source": [
    "feats=poly12.columns\n",
    "poly12['price']=Train_Set['price']\n",
    "x=poly12[feats]\n",
    "y=poly12['price']\n",
    "Model=LinearRegression()\n",
    "Model.fit(x,y)\n",
    "coef=pd.DataFrame(Model.coef_,x.columns,columns=['Coefficient'])\n",
    "coef"
   ]
  },
  {
   "cell_type": "code",
   "execution_count": 58,
   "metadata": {},
   "outputs": [
    {
     "name": "stdout",
     "output_type": "stream",
     "text": [
      "RSS: 5.102199157109975e+18\n"
     ]
    }
   ],
   "source": [
    "feats=Vpoly12.columns\n",
    "Vpoly12['price']=Validation_Set['price']\n",
    "x=Vpoly12[feats]\n",
    "y=Vpoly12['price']\n",
    "RSS=((Model.predict(x)-y)**2).sum()\n",
    "RSS_List.append(RSS)\n",
    "print('RSS: {}'.format(RSS))"
   ]
  },
  {
   "cell_type": "markdown",
   "metadata": {},
   "source": [
    "### 13th Order"
   ]
  },
  {
   "cell_type": "code",
   "execution_count": 59,
   "metadata": {},
   "outputs": [
    {
     "data": {
      "text/html": [
       "<div>\n",
       "<style scoped>\n",
       "    .dataframe tbody tr th:only-of-type {\n",
       "        vertical-align: middle;\n",
       "    }\n",
       "\n",
       "    .dataframe tbody tr th {\n",
       "        vertical-align: top;\n",
       "    }\n",
       "\n",
       "    .dataframe thead th {\n",
       "        text-align: right;\n",
       "    }\n",
       "</style>\n",
       "<table border=\"1\" class=\"dataframe\">\n",
       "  <thead>\n",
       "    <tr style=\"text-align: right;\">\n",
       "      <th></th>\n",
       "      <th>Coefficient</th>\n",
       "    </tr>\n",
       "  </thead>\n",
       "  <tbody>\n",
       "    <tr>\n",
       "      <th>power_1</th>\n",
       "      <td>1.515038e-73</td>\n",
       "    </tr>\n",
       "    <tr>\n",
       "      <th>power_2</th>\n",
       "      <td>-5.397498e-42</td>\n",
       "    </tr>\n",
       "    <tr>\n",
       "      <th>power_3</th>\n",
       "      <td>2.856971e-47</td>\n",
       "    </tr>\n",
       "    <tr>\n",
       "      <th>power_4</th>\n",
       "      <td>-1.336382e-51</td>\n",
       "    </tr>\n",
       "    <tr>\n",
       "      <th>power_5</th>\n",
       "      <td>8.664781e-58</td>\n",
       "    </tr>\n",
       "    <tr>\n",
       "      <th>power_6</th>\n",
       "      <td>2.619820e-54</td>\n",
       "    </tr>\n",
       "    <tr>\n",
       "      <th>power_7</th>\n",
       "      <td>1.650742e-50</td>\n",
       "    </tr>\n",
       "    <tr>\n",
       "      <th>power_8</th>\n",
       "      <td>9.866505e-47</td>\n",
       "    </tr>\n",
       "    <tr>\n",
       "      <th>power_9</th>\n",
       "      <td>5.388931e-43</td>\n",
       "    </tr>\n",
       "    <tr>\n",
       "      <th>power_10</th>\n",
       "      <td>2.487903e-39</td>\n",
       "    </tr>\n",
       "    <tr>\n",
       "      <th>power_11</th>\n",
       "      <td>7.759595e-36</td>\n",
       "    </tr>\n",
       "    <tr>\n",
       "      <th>power_12</th>\n",
       "      <td>-1.396188e-39</td>\n",
       "    </tr>\n",
       "    <tr>\n",
       "      <th>power_13</th>\n",
       "      <td>6.249013e-44</td>\n",
       "    </tr>\n",
       "  </tbody>\n",
       "</table>\n",
       "</div>"
      ],
      "text/plain": [
       "           Coefficient\n",
       "power_1   1.515038e-73\n",
       "power_2  -5.397498e-42\n",
       "power_3   2.856971e-47\n",
       "power_4  -1.336382e-51\n",
       "power_5   8.664781e-58\n",
       "power_6   2.619820e-54\n",
       "power_7   1.650742e-50\n",
       "power_8   9.866505e-47\n",
       "power_9   5.388931e-43\n",
       "power_10  2.487903e-39\n",
       "power_11  7.759595e-36\n",
       "power_12 -1.396188e-39\n",
       "power_13  6.249013e-44"
      ]
     },
     "execution_count": 59,
     "metadata": {},
     "output_type": "execute_result"
    }
   ],
   "source": [
    "feats=poly13.columns\n",
    "poly13['price']=Train_Set['price']\n",
    "x=poly13[feats]\n",
    "y=poly13['price']\n",
    "Model=LinearRegression()\n",
    "Model.fit(x,y)\n",
    "coef=pd.DataFrame(Model.coef_,x.columns,columns=['Coefficient'])\n",
    "coef"
   ]
  },
  {
   "cell_type": "code",
   "execution_count": 60,
   "metadata": {},
   "outputs": [
    {
     "name": "stdout",
     "output_type": "stream",
     "text": [
      "RSS: 7.616230021274707e+17\n"
     ]
    }
   ],
   "source": [
    "feats=Vpoly13.columns\n",
    "Vpoly13['price']=Validation_Set['price']\n",
    "x=Vpoly13[feats]\n",
    "y=Vpoly13['price']\n",
    "RSS=((Model.predict(x)-y)**2).sum()\n",
    "RSS_List.append(RSS)\n",
    "print('RSS: {}'.format(RSS))"
   ]
  },
  {
   "cell_type": "markdown",
   "metadata": {},
   "source": [
    "### 14th Order"
   ]
  },
  {
   "cell_type": "code",
   "execution_count": 61,
   "metadata": {},
   "outputs": [
    {
     "data": {
      "text/html": [
       "<div>\n",
       "<style scoped>\n",
       "    .dataframe tbody tr th:only-of-type {\n",
       "        vertical-align: middle;\n",
       "    }\n",
       "\n",
       "    .dataframe tbody tr th {\n",
       "        vertical-align: top;\n",
       "    }\n",
       "\n",
       "    .dataframe thead th {\n",
       "        text-align: right;\n",
       "    }\n",
       "</style>\n",
       "<table border=\"1\" class=\"dataframe\">\n",
       "  <thead>\n",
       "    <tr style=\"text-align: right;\">\n",
       "      <th></th>\n",
       "      <th>Coefficient</th>\n",
       "    </tr>\n",
       "  </thead>\n",
       "  <tbody>\n",
       "    <tr>\n",
       "      <th>power_1</th>\n",
       "      <td>2.350659e-81</td>\n",
       "    </tr>\n",
       "    <tr>\n",
       "      <th>power_2</th>\n",
       "      <td>8.246555e-46</td>\n",
       "    </tr>\n",
       "    <tr>\n",
       "      <th>power_3</th>\n",
       "      <td>-5.902762e-51</td>\n",
       "    </tr>\n",
       "    <tr>\n",
       "      <th>power_4</th>\n",
       "      <td>-3.262652e-55</td>\n",
       "    </tr>\n",
       "    <tr>\n",
       "      <th>power_5</th>\n",
       "      <td>1.650042e-65</td>\n",
       "    </tr>\n",
       "    <tr>\n",
       "      <th>power_6</th>\n",
       "      <td>4.760357e-62</td>\n",
       "    </tr>\n",
       "    <tr>\n",
       "      <th>power_7</th>\n",
       "      <td>3.149550e-58</td>\n",
       "    </tr>\n",
       "    <tr>\n",
       "      <th>power_8</th>\n",
       "      <td>2.013535e-54</td>\n",
       "    </tr>\n",
       "    <tr>\n",
       "      <th>power_9</th>\n",
       "      <td>1.218213e-50</td>\n",
       "    </tr>\n",
       "    <tr>\n",
       "      <th>power_10</th>\n",
       "      <td>6.721016e-47</td>\n",
       "    </tr>\n",
       "    <tr>\n",
       "      <th>power_11</th>\n",
       "      <td>3.128752e-43</td>\n",
       "    </tr>\n",
       "    <tr>\n",
       "      <th>power_12</th>\n",
       "      <td>9.825284e-40</td>\n",
       "    </tr>\n",
       "    <tr>\n",
       "      <th>power_13</th>\n",
       "      <td>-1.773912e-43</td>\n",
       "    </tr>\n",
       "    <tr>\n",
       "      <th>power_14</th>\n",
       "      <td>7.959928e-48</td>\n",
       "    </tr>\n",
       "  </tbody>\n",
       "</table>\n",
       "</div>"
      ],
      "text/plain": [
       "           Coefficient\n",
       "power_1   2.350659e-81\n",
       "power_2   8.246555e-46\n",
       "power_3  -5.902762e-51\n",
       "power_4  -3.262652e-55\n",
       "power_5   1.650042e-65\n",
       "power_6   4.760357e-62\n",
       "power_7   3.149550e-58\n",
       "power_8   2.013535e-54\n",
       "power_9   1.218213e-50\n",
       "power_10  6.721016e-47\n",
       "power_11  3.128752e-43\n",
       "power_12  9.825284e-40\n",
       "power_13 -1.773912e-43\n",
       "power_14  7.959928e-48"
      ]
     },
     "execution_count": 61,
     "metadata": {},
     "output_type": "execute_result"
    }
   ],
   "source": [
    "feats=poly14.columns\n",
    "poly14['price']=Train_Set['price']\n",
    "x=poly14[feats]\n",
    "y=poly14['price']\n",
    "Model=LinearRegression()\n",
    "Model.fit(x,y)\n",
    "coef=pd.DataFrame(Model.coef_,x.columns,columns=['Coefficient'])\n",
    "coef"
   ]
  },
  {
   "cell_type": "code",
   "execution_count": 62,
   "metadata": {},
   "outputs": [
    {
     "name": "stdout",
     "output_type": "stream",
     "text": [
      "RSS: 2.297560925113453e+18\n"
     ]
    }
   ],
   "source": [
    "feats=Vpoly14.columns\n",
    "Vpoly14['price']=Validation_Set['price']\n",
    "x=Vpoly14[feats]\n",
    "y=Vpoly14['price']\n",
    "RSS=((Model.predict(x)-y)**2).sum()\n",
    "RSS_List.append(RSS)\n",
    "print('RSS: {}'.format(RSS))"
   ]
  },
  {
   "cell_type": "markdown",
   "metadata": {},
   "source": [
    "### 15th Order"
   ]
  },
  {
   "cell_type": "code",
   "execution_count": 63,
   "metadata": {},
   "outputs": [
    {
     "data": {
      "text/html": [
       "<div>\n",
       "<style scoped>\n",
       "    .dataframe tbody tr th:only-of-type {\n",
       "        vertical-align: middle;\n",
       "    }\n",
       "\n",
       "    .dataframe tbody tr th {\n",
       "        vertical-align: top;\n",
       "    }\n",
       "\n",
       "    .dataframe thead th {\n",
       "        text-align: right;\n",
       "    }\n",
       "</style>\n",
       "<table border=\"1\" class=\"dataframe\">\n",
       "  <thead>\n",
       "    <tr style=\"text-align: right;\">\n",
       "      <th></th>\n",
       "      <th>Coefficient</th>\n",
       "    </tr>\n",
       "  </thead>\n",
       "  <tbody>\n",
       "    <tr>\n",
       "      <th>power_1</th>\n",
       "      <td>3.656497e-89</td>\n",
       "    </tr>\n",
       "    <tr>\n",
       "      <th>power_2</th>\n",
       "      <td>-3.490170e-49</td>\n",
       "    </tr>\n",
       "    <tr>\n",
       "      <th>power_3</th>\n",
       "      <td>-4.979006e-55</td>\n",
       "    </tr>\n",
       "    <tr>\n",
       "      <th>power_4</th>\n",
       "      <td>1.236316e-86</td>\n",
       "    </tr>\n",
       "    <tr>\n",
       "      <th>power_5</th>\n",
       "      <td>3.042936e-73</td>\n",
       "    </tr>\n",
       "    <tr>\n",
       "      <th>power_6</th>\n",
       "      <td>8.361826e-70</td>\n",
       "    </tr>\n",
       "    <tr>\n",
       "      <th>power_7</th>\n",
       "      <td>5.731335e-66</td>\n",
       "    </tr>\n",
       "    <tr>\n",
       "      <th>power_8</th>\n",
       "      <td>3.837865e-62</td>\n",
       "    </tr>\n",
       "    <tr>\n",
       "      <th>power_9</th>\n",
       "      <td>2.478850e-58</td>\n",
       "    </tr>\n",
       "    <tr>\n",
       "      <th>power_10</th>\n",
       "      <td>1.512697e-54</td>\n",
       "    </tr>\n",
       "    <tr>\n",
       "      <th>power_11</th>\n",
       "      <td>8.405941e-51</td>\n",
       "    </tr>\n",
       "    <tr>\n",
       "      <th>power_12</th>\n",
       "      <td>3.936631e-47</td>\n",
       "    </tr>\n",
       "    <tr>\n",
       "      <th>power_13</th>\n",
       "      <td>1.242410e-43</td>\n",
       "    </tr>\n",
       "    <tr>\n",
       "      <th>power_14</th>\n",
       "      <td>-2.250419e-47</td>\n",
       "    </tr>\n",
       "    <tr>\n",
       "      <th>power_15</th>\n",
       "      <td>1.012366e-51</td>\n",
       "    </tr>\n",
       "  </tbody>\n",
       "</table>\n",
       "</div>"
      ],
      "text/plain": [
       "           Coefficient\n",
       "power_1   3.656497e-89\n",
       "power_2  -3.490170e-49\n",
       "power_3  -4.979006e-55\n",
       "power_4   1.236316e-86\n",
       "power_5   3.042936e-73\n",
       "power_6   8.361826e-70\n",
       "power_7   5.731335e-66\n",
       "power_8   3.837865e-62\n",
       "power_9   2.478850e-58\n",
       "power_10  1.512697e-54\n",
       "power_11  8.405941e-51\n",
       "power_12  3.936631e-47\n",
       "power_13  1.242410e-43\n",
       "power_14 -2.250419e-47\n",
       "power_15  1.012366e-51"
      ]
     },
     "execution_count": 63,
     "metadata": {},
     "output_type": "execute_result"
    }
   ],
   "source": [
    "feats=poly15.columns\n",
    "poly15['price']=Train_Set['price']\n",
    "x=poly15[feats]\n",
    "y=poly15['price']\n",
    "Model=LinearRegression()\n",
    "Model.fit(x,y)\n",
    "coef=pd.DataFrame(Model.coef_,x.columns,columns=['Coefficient'])\n",
    "coef"
   ]
  },
  {
   "cell_type": "code",
   "execution_count": 64,
   "metadata": {},
   "outputs": [
    {
     "name": "stdout",
     "output_type": "stream",
     "text": [
      "RSS: 6.955038097227613e+18\n"
     ]
    }
   ],
   "source": [
    "feats=Vpoly15.columns\n",
    "Vpoly15['price']=Validation_Set['price']\n",
    "x=Vpoly15[feats]\n",
    "y=Vpoly15['price']\n",
    "RSS=((Model.predict(x)-y)**2).sum()\n",
    "RSS_List.append(RSS)\n",
    "print('RSS: {}'.format(RSS))"
   ]
  },
  {
   "cell_type": "code",
   "execution_count": 65,
   "metadata": {},
   "outputs": [
    {
     "name": "stdout",
     "output_type": "stream",
     "text": [
      "The Lower RSS is 566268592707004.8 from the polynomial of Order 6\n"
     ]
    }
   ],
   "source": [
    "i=1\n",
    "for rss in RSS_List:\n",
    "    if rss<RSS:\n",
    "        RSS=rss\n",
    "        order=i\n",
    "    i+=1\n",
    "\n",
    "print(\"The Lower RSS is {} from the polynomial of Order {}\".format(RSS,order))"
   ]
  },
  {
   "cell_type": "markdown",
   "metadata": {},
   "source": [
    "## Choosen Polynomial"
   ]
  },
  {
   "cell_type": "code",
   "execution_count": 66,
   "metadata": {},
   "outputs": [
    {
     "name": "stderr",
     "output_type": "stream",
     "text": [
      "<ipython-input-66-be4eda59b4bc>:5: SettingWithCopyWarning: \n",
      "A value is trying to be set on a copy of a slice from a DataFrame.\n",
      "Try using .loc[row_indexer,col_indexer] = value instead\n",
      "\n",
      "See the caveats in the documentation: https://pandas.pydata.org/pandas-docs/stable/user_guide/indexing.html#returning-a-view-versus-a-copy\n",
      "  poly6['price']=Train_Set['price']\n"
     ]
    },
    {
     "data": {
      "text/html": [
       "<div>\n",
       "<style scoped>\n",
       "    .dataframe tbody tr th:only-of-type {\n",
       "        vertical-align: middle;\n",
       "    }\n",
       "\n",
       "    .dataframe tbody tr th {\n",
       "        vertical-align: top;\n",
       "    }\n",
       "\n",
       "    .dataframe thead th {\n",
       "        text-align: right;\n",
       "    }\n",
       "</style>\n",
       "<table border=\"1\" class=\"dataframe\">\n",
       "  <thead>\n",
       "    <tr style=\"text-align: right;\">\n",
       "      <th></th>\n",
       "      <th>Coefficient</th>\n",
       "    </tr>\n",
       "  </thead>\n",
       "  <tbody>\n",
       "    <tr>\n",
       "      <th>power_1</th>\n",
       "      <td>8.500633e-12</td>\n",
       "    </tr>\n",
       "    <tr>\n",
       "      <th>power_2</th>\n",
       "      <td>1.432643e-08</td>\n",
       "    </tr>\n",
       "    <tr>\n",
       "      <th>power_3</th>\n",
       "      <td>3.794127e-05</td>\n",
       "    </tr>\n",
       "    <tr>\n",
       "      <th>power_4</th>\n",
       "      <td>-9.897942e-09</td>\n",
       "    </tr>\n",
       "    <tr>\n",
       "      <th>power_5</th>\n",
       "      <td>1.060747e-12</td>\n",
       "    </tr>\n",
       "    <tr>\n",
       "      <th>power_6</th>\n",
       "      <td>-3.908743e-17</td>\n",
       "    </tr>\n",
       "  </tbody>\n",
       "</table>\n",
       "</div>"
      ],
      "text/plain": [
       "          Coefficient\n",
       "power_1  8.500633e-12\n",
       "power_2  1.432643e-08\n",
       "power_3  3.794127e-05\n",
       "power_4 -9.897942e-09\n",
       "power_5  1.060747e-12\n",
       "power_6 -3.908743e-17"
      ]
     },
     "execution_count": 66,
     "metadata": {},
     "output_type": "execute_result"
    }
   ],
   "source": [
    "Tpoly6=polynomial_DF(Test_Set['sqft_living'],6)\n",
    "poly6=poly15.iloc[:,:6]\n",
    "\n",
    "feats=poly6.columns\n",
    "poly6['price']=Train_Set['price']\n",
    "x=poly6[feats]\n",
    "y=poly6['price']\n",
    "Model=LinearRegression()\n",
    "Model.fit(x,y)\n",
    "coef=pd.DataFrame(Model.coef_,x.columns,columns=['Coefficient'])\n",
    "coef"
   ]
  },
  {
   "cell_type": "code",
   "execution_count": 67,
   "metadata": {},
   "outputs": [
    {
     "name": "stdout",
     "output_type": "stream",
     "text": [
      "RSS: 135225114555012.02\n"
     ]
    }
   ],
   "source": [
    "feats=Tpoly6.columns\n",
    "Tpoly6['price']=Test_Set['price']\n",
    "x=Tpoly6[feats]\n",
    "y=Tpoly6['price']\n",
    "RSS=((Model.predict(x)-y)**2).sum()\n",
    "RSS_List.append(RSS)\n",
    "print('RSS: {}'.format(RSS))\n"
   ]
  }
 ],
 "metadata": {
  "kernelspec": {
   "display_name": "Python 3",
   "language": "python",
   "name": "python3"
  },
  "language_info": {
   "codemirror_mode": {
    "name": "ipython",
    "version": 3
   },
   "file_extension": ".py",
   "mimetype": "text/x-python",
   "name": "python",
   "nbconvert_exporter": "python",
   "pygments_lexer": "ipython3",
   "version": "3.8.5"
  }
 },
 "nbformat": 4,
 "nbformat_minor": 4
}
