{
 "cells": [
  {
   "cell_type": "markdown",
   "metadata": {},
   "source": [
    "# Programming Assignment 1"
   ]
  },
  {
   "cell_type": "markdown",
   "metadata": {},
   "source": [
    "## Import Pandas"
   ]
  },
  {
   "cell_type": "code",
   "execution_count": 1,
   "metadata": {},
   "outputs": [
    {
     "data": {
      "text/html": [
       "<div>\n",
       "<style scoped>\n",
       "    .dataframe tbody tr th:only-of-type {\n",
       "        vertical-align: middle;\n",
       "    }\n",
       "\n",
       "    .dataframe tbody tr th {\n",
       "        vertical-align: top;\n",
       "    }\n",
       "\n",
       "    .dataframe thead th {\n",
       "        text-align: right;\n",
       "    }\n",
       "</style>\n",
       "<table border=\"1\" class=\"dataframe\">\n",
       "  <thead>\n",
       "    <tr style=\"text-align: right;\">\n",
       "      <th></th>\n",
       "      <th>id</th>\n",
       "      <th>date</th>\n",
       "      <th>price</th>\n",
       "      <th>bedrooms</th>\n",
       "      <th>bathrooms</th>\n",
       "      <th>sqft_living</th>\n",
       "      <th>sqft_lot</th>\n",
       "      <th>floors</th>\n",
       "      <th>waterfront</th>\n",
       "      <th>view</th>\n",
       "      <th>...</th>\n",
       "      <th>grade</th>\n",
       "      <th>sqft_above</th>\n",
       "      <th>sqft_basement</th>\n",
       "      <th>yr_built</th>\n",
       "      <th>yr_renovated</th>\n",
       "      <th>zipcode</th>\n",
       "      <th>lat</th>\n",
       "      <th>long</th>\n",
       "      <th>sqft_living15</th>\n",
       "      <th>sqft_lot15</th>\n",
       "    </tr>\n",
       "  </thead>\n",
       "  <tbody>\n",
       "    <tr>\n",
       "      <th>0</th>\n",
       "      <td>7129300520</td>\n",
       "      <td>20141013T000000</td>\n",
       "      <td>221900.0</td>\n",
       "      <td>3.0</td>\n",
       "      <td>1.00</td>\n",
       "      <td>1180.0</td>\n",
       "      <td>5650</td>\n",
       "      <td>1.0</td>\n",
       "      <td>0</td>\n",
       "      <td>0</td>\n",
       "      <td>...</td>\n",
       "      <td>7</td>\n",
       "      <td>1180</td>\n",
       "      <td>0</td>\n",
       "      <td>1955</td>\n",
       "      <td>0</td>\n",
       "      <td>98178</td>\n",
       "      <td>47.5112</td>\n",
       "      <td>-122.257</td>\n",
       "      <td>1340.0</td>\n",
       "      <td>5650.0</td>\n",
       "    </tr>\n",
       "    <tr>\n",
       "      <th>1</th>\n",
       "      <td>6414100192</td>\n",
       "      <td>20141209T000000</td>\n",
       "      <td>538000.0</td>\n",
       "      <td>3.0</td>\n",
       "      <td>2.25</td>\n",
       "      <td>2570.0</td>\n",
       "      <td>7242</td>\n",
       "      <td>2.0</td>\n",
       "      <td>0</td>\n",
       "      <td>0</td>\n",
       "      <td>...</td>\n",
       "      <td>7</td>\n",
       "      <td>2170</td>\n",
       "      <td>400</td>\n",
       "      <td>1951</td>\n",
       "      <td>1991</td>\n",
       "      <td>98125</td>\n",
       "      <td>47.7210</td>\n",
       "      <td>-122.319</td>\n",
       "      <td>1690.0</td>\n",
       "      <td>7639.0</td>\n",
       "    </tr>\n",
       "    <tr>\n",
       "      <th>2</th>\n",
       "      <td>5631500400</td>\n",
       "      <td>20150225T000000</td>\n",
       "      <td>180000.0</td>\n",
       "      <td>2.0</td>\n",
       "      <td>1.00</td>\n",
       "      <td>770.0</td>\n",
       "      <td>10000</td>\n",
       "      <td>1.0</td>\n",
       "      <td>0</td>\n",
       "      <td>0</td>\n",
       "      <td>...</td>\n",
       "      <td>6</td>\n",
       "      <td>770</td>\n",
       "      <td>0</td>\n",
       "      <td>1933</td>\n",
       "      <td>0</td>\n",
       "      <td>98028</td>\n",
       "      <td>47.7379</td>\n",
       "      <td>-122.233</td>\n",
       "      <td>2720.0</td>\n",
       "      <td>8062.0</td>\n",
       "    </tr>\n",
       "    <tr>\n",
       "      <th>3</th>\n",
       "      <td>2487200875</td>\n",
       "      <td>20141209T000000</td>\n",
       "      <td>604000.0</td>\n",
       "      <td>4.0</td>\n",
       "      <td>3.00</td>\n",
       "      <td>1960.0</td>\n",
       "      <td>5000</td>\n",
       "      <td>1.0</td>\n",
       "      <td>0</td>\n",
       "      <td>0</td>\n",
       "      <td>...</td>\n",
       "      <td>7</td>\n",
       "      <td>1050</td>\n",
       "      <td>910</td>\n",
       "      <td>1965</td>\n",
       "      <td>0</td>\n",
       "      <td>98136</td>\n",
       "      <td>47.5208</td>\n",
       "      <td>-122.393</td>\n",
       "      <td>1360.0</td>\n",
       "      <td>5000.0</td>\n",
       "    </tr>\n",
       "    <tr>\n",
       "      <th>4</th>\n",
       "      <td>1954400510</td>\n",
       "      <td>20150218T000000</td>\n",
       "      <td>510000.0</td>\n",
       "      <td>3.0</td>\n",
       "      <td>2.00</td>\n",
       "      <td>1680.0</td>\n",
       "      <td>8080</td>\n",
       "      <td>1.0</td>\n",
       "      <td>0</td>\n",
       "      <td>0</td>\n",
       "      <td>...</td>\n",
       "      <td>8</td>\n",
       "      <td>1680</td>\n",
       "      <td>0</td>\n",
       "      <td>1987</td>\n",
       "      <td>0</td>\n",
       "      <td>98074</td>\n",
       "      <td>47.6168</td>\n",
       "      <td>-122.045</td>\n",
       "      <td>1800.0</td>\n",
       "      <td>7503.0</td>\n",
       "    </tr>\n",
       "    <tr>\n",
       "      <th>...</th>\n",
       "      <td>...</td>\n",
       "      <td>...</td>\n",
       "      <td>...</td>\n",
       "      <td>...</td>\n",
       "      <td>...</td>\n",
       "      <td>...</td>\n",
       "      <td>...</td>\n",
       "      <td>...</td>\n",
       "      <td>...</td>\n",
       "      <td>...</td>\n",
       "      <td>...</td>\n",
       "      <td>...</td>\n",
       "      <td>...</td>\n",
       "      <td>...</td>\n",
       "      <td>...</td>\n",
       "      <td>...</td>\n",
       "      <td>...</td>\n",
       "      <td>...</td>\n",
       "      <td>...</td>\n",
       "      <td>...</td>\n",
       "      <td>...</td>\n",
       "    </tr>\n",
       "    <tr>\n",
       "      <th>21608</th>\n",
       "      <td>0263000018</td>\n",
       "      <td>20140521T000000</td>\n",
       "      <td>360000.0</td>\n",
       "      <td>3.0</td>\n",
       "      <td>2.50</td>\n",
       "      <td>1530.0</td>\n",
       "      <td>1131</td>\n",
       "      <td>3.0</td>\n",
       "      <td>0</td>\n",
       "      <td>0</td>\n",
       "      <td>...</td>\n",
       "      <td>8</td>\n",
       "      <td>1530</td>\n",
       "      <td>0</td>\n",
       "      <td>2009</td>\n",
       "      <td>0</td>\n",
       "      <td>98103</td>\n",
       "      <td>47.6993</td>\n",
       "      <td>-122.346</td>\n",
       "      <td>1530.0</td>\n",
       "      <td>1509.0</td>\n",
       "    </tr>\n",
       "    <tr>\n",
       "      <th>21609</th>\n",
       "      <td>6600060120</td>\n",
       "      <td>20150223T000000</td>\n",
       "      <td>400000.0</td>\n",
       "      <td>4.0</td>\n",
       "      <td>2.50</td>\n",
       "      <td>2310.0</td>\n",
       "      <td>5813</td>\n",
       "      <td>2.0</td>\n",
       "      <td>0</td>\n",
       "      <td>0</td>\n",
       "      <td>...</td>\n",
       "      <td>8</td>\n",
       "      <td>2310</td>\n",
       "      <td>0</td>\n",
       "      <td>2014</td>\n",
       "      <td>0</td>\n",
       "      <td>98146</td>\n",
       "      <td>47.5107</td>\n",
       "      <td>-122.362</td>\n",
       "      <td>1830.0</td>\n",
       "      <td>7200.0</td>\n",
       "    </tr>\n",
       "    <tr>\n",
       "      <th>21610</th>\n",
       "      <td>1523300141</td>\n",
       "      <td>20140623T000000</td>\n",
       "      <td>402101.0</td>\n",
       "      <td>2.0</td>\n",
       "      <td>0.75</td>\n",
       "      <td>1020.0</td>\n",
       "      <td>1350</td>\n",
       "      <td>2.0</td>\n",
       "      <td>0</td>\n",
       "      <td>0</td>\n",
       "      <td>...</td>\n",
       "      <td>7</td>\n",
       "      <td>1020</td>\n",
       "      <td>0</td>\n",
       "      <td>2009</td>\n",
       "      <td>0</td>\n",
       "      <td>98144</td>\n",
       "      <td>47.5944</td>\n",
       "      <td>-122.299</td>\n",
       "      <td>1020.0</td>\n",
       "      <td>2007.0</td>\n",
       "    </tr>\n",
       "    <tr>\n",
       "      <th>21611</th>\n",
       "      <td>0291310100</td>\n",
       "      <td>20150116T000000</td>\n",
       "      <td>400000.0</td>\n",
       "      <td>3.0</td>\n",
       "      <td>2.50</td>\n",
       "      <td>1600.0</td>\n",
       "      <td>2388</td>\n",
       "      <td>2.0</td>\n",
       "      <td>0</td>\n",
       "      <td>0</td>\n",
       "      <td>...</td>\n",
       "      <td>8</td>\n",
       "      <td>1600</td>\n",
       "      <td>0</td>\n",
       "      <td>2004</td>\n",
       "      <td>0</td>\n",
       "      <td>98027</td>\n",
       "      <td>47.5345</td>\n",
       "      <td>-122.069</td>\n",
       "      <td>1410.0</td>\n",
       "      <td>1287.0</td>\n",
       "    </tr>\n",
       "    <tr>\n",
       "      <th>21612</th>\n",
       "      <td>1523300157</td>\n",
       "      <td>20141015T000000</td>\n",
       "      <td>325000.0</td>\n",
       "      <td>2.0</td>\n",
       "      <td>0.75</td>\n",
       "      <td>1020.0</td>\n",
       "      <td>1076</td>\n",
       "      <td>2.0</td>\n",
       "      <td>0</td>\n",
       "      <td>0</td>\n",
       "      <td>...</td>\n",
       "      <td>7</td>\n",
       "      <td>1020</td>\n",
       "      <td>0</td>\n",
       "      <td>2008</td>\n",
       "      <td>0</td>\n",
       "      <td>98144</td>\n",
       "      <td>47.5941</td>\n",
       "      <td>-122.299</td>\n",
       "      <td>1020.0</td>\n",
       "      <td>1357.0</td>\n",
       "    </tr>\n",
       "  </tbody>\n",
       "</table>\n",
       "<p>21613 rows × 21 columns</p>\n",
       "</div>"
      ],
      "text/plain": [
       "               id             date     price  bedrooms  bathrooms  \\\n",
       "0      7129300520  20141013T000000  221900.0       3.0       1.00   \n",
       "1      6414100192  20141209T000000  538000.0       3.0       2.25   \n",
       "2      5631500400  20150225T000000  180000.0       2.0       1.00   \n",
       "3      2487200875  20141209T000000  604000.0       4.0       3.00   \n",
       "4      1954400510  20150218T000000  510000.0       3.0       2.00   \n",
       "...           ...              ...       ...       ...        ...   \n",
       "21608  0263000018  20140521T000000  360000.0       3.0       2.50   \n",
       "21609  6600060120  20150223T000000  400000.0       4.0       2.50   \n",
       "21610  1523300141  20140623T000000  402101.0       2.0       0.75   \n",
       "21611  0291310100  20150116T000000  400000.0       3.0       2.50   \n",
       "21612  1523300157  20141015T000000  325000.0       2.0       0.75   \n",
       "\n",
       "       sqft_living  sqft_lot  floors  waterfront  view  ...  grade  \\\n",
       "0           1180.0      5650     1.0           0     0  ...      7   \n",
       "1           2570.0      7242     2.0           0     0  ...      7   \n",
       "2            770.0     10000     1.0           0     0  ...      6   \n",
       "3           1960.0      5000     1.0           0     0  ...      7   \n",
       "4           1680.0      8080     1.0           0     0  ...      8   \n",
       "...            ...       ...     ...         ...   ...  ...    ...   \n",
       "21608       1530.0      1131     3.0           0     0  ...      8   \n",
       "21609       2310.0      5813     2.0           0     0  ...      8   \n",
       "21610       1020.0      1350     2.0           0     0  ...      7   \n",
       "21611       1600.0      2388     2.0           0     0  ...      8   \n",
       "21612       1020.0      1076     2.0           0     0  ...      7   \n",
       "\n",
       "       sqft_above  sqft_basement  yr_built  yr_renovated  zipcode      lat  \\\n",
       "0            1180              0      1955             0    98178  47.5112   \n",
       "1            2170            400      1951          1991    98125  47.7210   \n",
       "2             770              0      1933             0    98028  47.7379   \n",
       "3            1050            910      1965             0    98136  47.5208   \n",
       "4            1680              0      1987             0    98074  47.6168   \n",
       "...           ...            ...       ...           ...      ...      ...   \n",
       "21608        1530              0      2009             0    98103  47.6993   \n",
       "21609        2310              0      2014             0    98146  47.5107   \n",
       "21610        1020              0      2009             0    98144  47.5944   \n",
       "21611        1600              0      2004             0    98027  47.5345   \n",
       "21612        1020              0      2008             0    98144  47.5941   \n",
       "\n",
       "          long  sqft_living15  sqft_lot15  \n",
       "0     -122.257         1340.0      5650.0  \n",
       "1     -122.319         1690.0      7639.0  \n",
       "2     -122.233         2720.0      8062.0  \n",
       "3     -122.393         1360.0      5000.0  \n",
       "4     -122.045         1800.0      7503.0  \n",
       "...        ...            ...         ...  \n",
       "21608 -122.346         1530.0      1509.0  \n",
       "21609 -122.362         1830.0      7200.0  \n",
       "21610 -122.299         1020.0      2007.0  \n",
       "21611 -122.069         1410.0      1287.0  \n",
       "21612 -122.299         1020.0      1357.0  \n",
       "\n",
       "[21613 rows x 21 columns]"
      ]
     },
     "execution_count": 1,
     "metadata": {},
     "output_type": "execute_result"
    }
   ],
   "source": [
    "import pandas as pd\n",
    "dtype_dict = {'bathrooms':float, 'waterfront':int, 'sqft_above':int, 'sqft_living15':float, 'grade':int, 'yr_renovated':int, 'price':float, 'bedrooms':float, 'zipcode':str, 'long':float, 'sqft_lot15':float, 'sqft_living':float, 'floors':float, 'condition':int, 'lat':float, 'date':str, 'sqft_basement':int, 'yr_built':int, 'id':str, 'sqft_lot':int, 'view':int}\n",
    "sales = pd.read_csv('kc_house_data.csv', dtype=dtype_dict)\n",
    "sales"
   ]
  },
  {
   "cell_type": "markdown",
   "metadata": {},
   "source": [
    "## Adding New Features"
   ]
  },
  {
   "cell_type": "code",
   "execution_count": 25,
   "metadata": {},
   "outputs": [],
   "source": [
    "from math import log, sqrt\n",
    "sales['sqft_living_sqrt'] = sales['sqft_living'].apply(sqrt)\n",
    "sales['sqft_lot_sqrt'] = sales['sqft_lot'].apply(sqrt)\n",
    "sales['bedrooms_square'] = sales['bedrooms']*sales['bedrooms']\n",
    "sales['floors_square'] = sales['floors']*sales['floors']"
   ]
  },
  {
   "cell_type": "code",
   "execution_count": 26,
   "metadata": {},
   "outputs": [
    {
     "data": {
      "text/html": [
       "<div>\n",
       "<style scoped>\n",
       "    .dataframe tbody tr th:only-of-type {\n",
       "        vertical-align: middle;\n",
       "    }\n",
       "\n",
       "    .dataframe tbody tr th {\n",
       "        vertical-align: top;\n",
       "    }\n",
       "\n",
       "    .dataframe thead th {\n",
       "        text-align: right;\n",
       "    }\n",
       "</style>\n",
       "<table border=\"1\" class=\"dataframe\">\n",
       "  <thead>\n",
       "    <tr style=\"text-align: right;\">\n",
       "      <th></th>\n",
       "      <th>id</th>\n",
       "      <th>date</th>\n",
       "      <th>price</th>\n",
       "      <th>bedrooms</th>\n",
       "      <th>bathrooms</th>\n",
       "      <th>sqft_living</th>\n",
       "      <th>sqft_lot</th>\n",
       "      <th>floors</th>\n",
       "      <th>waterfront</th>\n",
       "      <th>view</th>\n",
       "      <th>...</th>\n",
       "      <th>yr_renovated</th>\n",
       "      <th>zipcode</th>\n",
       "      <th>lat</th>\n",
       "      <th>long</th>\n",
       "      <th>sqft_living15</th>\n",
       "      <th>sqft_lot15</th>\n",
       "      <th>sqft_living_sqrt</th>\n",
       "      <th>sqft_lot_sqrt</th>\n",
       "      <th>bedrooms_square</th>\n",
       "      <th>floors_square</th>\n",
       "    </tr>\n",
       "  </thead>\n",
       "  <tbody>\n",
       "    <tr>\n",
       "      <th>0</th>\n",
       "      <td>7129300520</td>\n",
       "      <td>20141013T000000</td>\n",
       "      <td>221900.0</td>\n",
       "      <td>3.0</td>\n",
       "      <td>1.00</td>\n",
       "      <td>1180.0</td>\n",
       "      <td>5650</td>\n",
       "      <td>1.0</td>\n",
       "      <td>0</td>\n",
       "      <td>0</td>\n",
       "      <td>...</td>\n",
       "      <td>0</td>\n",
       "      <td>98178</td>\n",
       "      <td>47.5112</td>\n",
       "      <td>-122.257</td>\n",
       "      <td>1340.0</td>\n",
       "      <td>5650.0</td>\n",
       "      <td>34.351128</td>\n",
       "      <td>75.166482</td>\n",
       "      <td>9.0</td>\n",
       "      <td>1.0</td>\n",
       "    </tr>\n",
       "    <tr>\n",
       "      <th>1</th>\n",
       "      <td>6414100192</td>\n",
       "      <td>20141209T000000</td>\n",
       "      <td>538000.0</td>\n",
       "      <td>3.0</td>\n",
       "      <td>2.25</td>\n",
       "      <td>2570.0</td>\n",
       "      <td>7242</td>\n",
       "      <td>2.0</td>\n",
       "      <td>0</td>\n",
       "      <td>0</td>\n",
       "      <td>...</td>\n",
       "      <td>1991</td>\n",
       "      <td>98125</td>\n",
       "      <td>47.7210</td>\n",
       "      <td>-122.319</td>\n",
       "      <td>1690.0</td>\n",
       "      <td>7639.0</td>\n",
       "      <td>50.695167</td>\n",
       "      <td>85.099941</td>\n",
       "      <td>9.0</td>\n",
       "      <td>4.0</td>\n",
       "    </tr>\n",
       "    <tr>\n",
       "      <th>2</th>\n",
       "      <td>5631500400</td>\n",
       "      <td>20150225T000000</td>\n",
       "      <td>180000.0</td>\n",
       "      <td>2.0</td>\n",
       "      <td>1.00</td>\n",
       "      <td>770.0</td>\n",
       "      <td>10000</td>\n",
       "      <td>1.0</td>\n",
       "      <td>0</td>\n",
       "      <td>0</td>\n",
       "      <td>...</td>\n",
       "      <td>0</td>\n",
       "      <td>98028</td>\n",
       "      <td>47.7379</td>\n",
       "      <td>-122.233</td>\n",
       "      <td>2720.0</td>\n",
       "      <td>8062.0</td>\n",
       "      <td>27.748874</td>\n",
       "      <td>100.000000</td>\n",
       "      <td>4.0</td>\n",
       "      <td>1.0</td>\n",
       "    </tr>\n",
       "    <tr>\n",
       "      <th>3</th>\n",
       "      <td>2487200875</td>\n",
       "      <td>20141209T000000</td>\n",
       "      <td>604000.0</td>\n",
       "      <td>4.0</td>\n",
       "      <td>3.00</td>\n",
       "      <td>1960.0</td>\n",
       "      <td>5000</td>\n",
       "      <td>1.0</td>\n",
       "      <td>0</td>\n",
       "      <td>0</td>\n",
       "      <td>...</td>\n",
       "      <td>0</td>\n",
       "      <td>98136</td>\n",
       "      <td>47.5208</td>\n",
       "      <td>-122.393</td>\n",
       "      <td>1360.0</td>\n",
       "      <td>5000.0</td>\n",
       "      <td>44.271887</td>\n",
       "      <td>70.710678</td>\n",
       "      <td>16.0</td>\n",
       "      <td>1.0</td>\n",
       "    </tr>\n",
       "    <tr>\n",
       "      <th>4</th>\n",
       "      <td>1954400510</td>\n",
       "      <td>20150218T000000</td>\n",
       "      <td>510000.0</td>\n",
       "      <td>3.0</td>\n",
       "      <td>2.00</td>\n",
       "      <td>1680.0</td>\n",
       "      <td>8080</td>\n",
       "      <td>1.0</td>\n",
       "      <td>0</td>\n",
       "      <td>0</td>\n",
       "      <td>...</td>\n",
       "      <td>0</td>\n",
       "      <td>98074</td>\n",
       "      <td>47.6168</td>\n",
       "      <td>-122.045</td>\n",
       "      <td>1800.0</td>\n",
       "      <td>7503.0</td>\n",
       "      <td>40.987803</td>\n",
       "      <td>89.888820</td>\n",
       "      <td>9.0</td>\n",
       "      <td>1.0</td>\n",
       "    </tr>\n",
       "    <tr>\n",
       "      <th>...</th>\n",
       "      <td>...</td>\n",
       "      <td>...</td>\n",
       "      <td>...</td>\n",
       "      <td>...</td>\n",
       "      <td>...</td>\n",
       "      <td>...</td>\n",
       "      <td>...</td>\n",
       "      <td>...</td>\n",
       "      <td>...</td>\n",
       "      <td>...</td>\n",
       "      <td>...</td>\n",
       "      <td>...</td>\n",
       "      <td>...</td>\n",
       "      <td>...</td>\n",
       "      <td>...</td>\n",
       "      <td>...</td>\n",
       "      <td>...</td>\n",
       "      <td>...</td>\n",
       "      <td>...</td>\n",
       "      <td>...</td>\n",
       "      <td>...</td>\n",
       "    </tr>\n",
       "    <tr>\n",
       "      <th>21608</th>\n",
       "      <td>0263000018</td>\n",
       "      <td>20140521T000000</td>\n",
       "      <td>360000.0</td>\n",
       "      <td>3.0</td>\n",
       "      <td>2.50</td>\n",
       "      <td>1530.0</td>\n",
       "      <td>1131</td>\n",
       "      <td>3.0</td>\n",
       "      <td>0</td>\n",
       "      <td>0</td>\n",
       "      <td>...</td>\n",
       "      <td>0</td>\n",
       "      <td>98103</td>\n",
       "      <td>47.6993</td>\n",
       "      <td>-122.346</td>\n",
       "      <td>1530.0</td>\n",
       "      <td>1509.0</td>\n",
       "      <td>39.115214</td>\n",
       "      <td>33.630343</td>\n",
       "      <td>9.0</td>\n",
       "      <td>9.0</td>\n",
       "    </tr>\n",
       "    <tr>\n",
       "      <th>21609</th>\n",
       "      <td>6600060120</td>\n",
       "      <td>20150223T000000</td>\n",
       "      <td>400000.0</td>\n",
       "      <td>4.0</td>\n",
       "      <td>2.50</td>\n",
       "      <td>2310.0</td>\n",
       "      <td>5813</td>\n",
       "      <td>2.0</td>\n",
       "      <td>0</td>\n",
       "      <td>0</td>\n",
       "      <td>...</td>\n",
       "      <td>0</td>\n",
       "      <td>98146</td>\n",
       "      <td>47.5107</td>\n",
       "      <td>-122.362</td>\n",
       "      <td>1830.0</td>\n",
       "      <td>7200.0</td>\n",
       "      <td>48.062459</td>\n",
       "      <td>76.243032</td>\n",
       "      <td>16.0</td>\n",
       "      <td>4.0</td>\n",
       "    </tr>\n",
       "    <tr>\n",
       "      <th>21610</th>\n",
       "      <td>1523300141</td>\n",
       "      <td>20140623T000000</td>\n",
       "      <td>402101.0</td>\n",
       "      <td>2.0</td>\n",
       "      <td>0.75</td>\n",
       "      <td>1020.0</td>\n",
       "      <td>1350</td>\n",
       "      <td>2.0</td>\n",
       "      <td>0</td>\n",
       "      <td>0</td>\n",
       "      <td>...</td>\n",
       "      <td>0</td>\n",
       "      <td>98144</td>\n",
       "      <td>47.5944</td>\n",
       "      <td>-122.299</td>\n",
       "      <td>1020.0</td>\n",
       "      <td>2007.0</td>\n",
       "      <td>31.937439</td>\n",
       "      <td>36.742346</td>\n",
       "      <td>4.0</td>\n",
       "      <td>4.0</td>\n",
       "    </tr>\n",
       "    <tr>\n",
       "      <th>21611</th>\n",
       "      <td>0291310100</td>\n",
       "      <td>20150116T000000</td>\n",
       "      <td>400000.0</td>\n",
       "      <td>3.0</td>\n",
       "      <td>2.50</td>\n",
       "      <td>1600.0</td>\n",
       "      <td>2388</td>\n",
       "      <td>2.0</td>\n",
       "      <td>0</td>\n",
       "      <td>0</td>\n",
       "      <td>...</td>\n",
       "      <td>0</td>\n",
       "      <td>98027</td>\n",
       "      <td>47.5345</td>\n",
       "      <td>-122.069</td>\n",
       "      <td>1410.0</td>\n",
       "      <td>1287.0</td>\n",
       "      <td>40.000000</td>\n",
       "      <td>48.867167</td>\n",
       "      <td>9.0</td>\n",
       "      <td>4.0</td>\n",
       "    </tr>\n",
       "    <tr>\n",
       "      <th>21612</th>\n",
       "      <td>1523300157</td>\n",
       "      <td>20141015T000000</td>\n",
       "      <td>325000.0</td>\n",
       "      <td>2.0</td>\n",
       "      <td>0.75</td>\n",
       "      <td>1020.0</td>\n",
       "      <td>1076</td>\n",
       "      <td>2.0</td>\n",
       "      <td>0</td>\n",
       "      <td>0</td>\n",
       "      <td>...</td>\n",
       "      <td>0</td>\n",
       "      <td>98144</td>\n",
       "      <td>47.5941</td>\n",
       "      <td>-122.299</td>\n",
       "      <td>1020.0</td>\n",
       "      <td>1357.0</td>\n",
       "      <td>31.937439</td>\n",
       "      <td>32.802439</td>\n",
       "      <td>4.0</td>\n",
       "      <td>4.0</td>\n",
       "    </tr>\n",
       "  </tbody>\n",
       "</table>\n",
       "<p>21613 rows × 25 columns</p>\n",
       "</div>"
      ],
      "text/plain": [
       "               id             date     price  bedrooms  bathrooms  \\\n",
       "0      7129300520  20141013T000000  221900.0       3.0       1.00   \n",
       "1      6414100192  20141209T000000  538000.0       3.0       2.25   \n",
       "2      5631500400  20150225T000000  180000.0       2.0       1.00   \n",
       "3      2487200875  20141209T000000  604000.0       4.0       3.00   \n",
       "4      1954400510  20150218T000000  510000.0       3.0       2.00   \n",
       "...           ...              ...       ...       ...        ...   \n",
       "21608  0263000018  20140521T000000  360000.0       3.0       2.50   \n",
       "21609  6600060120  20150223T000000  400000.0       4.0       2.50   \n",
       "21610  1523300141  20140623T000000  402101.0       2.0       0.75   \n",
       "21611  0291310100  20150116T000000  400000.0       3.0       2.50   \n",
       "21612  1523300157  20141015T000000  325000.0       2.0       0.75   \n",
       "\n",
       "       sqft_living  sqft_lot  floors  waterfront  view  ...  yr_renovated  \\\n",
       "0           1180.0      5650     1.0           0     0  ...             0   \n",
       "1           2570.0      7242     2.0           0     0  ...          1991   \n",
       "2            770.0     10000     1.0           0     0  ...             0   \n",
       "3           1960.0      5000     1.0           0     0  ...             0   \n",
       "4           1680.0      8080     1.0           0     0  ...             0   \n",
       "...            ...       ...     ...         ...   ...  ...           ...   \n",
       "21608       1530.0      1131     3.0           0     0  ...             0   \n",
       "21609       2310.0      5813     2.0           0     0  ...             0   \n",
       "21610       1020.0      1350     2.0           0     0  ...             0   \n",
       "21611       1600.0      2388     2.0           0     0  ...             0   \n",
       "21612       1020.0      1076     2.0           0     0  ...             0   \n",
       "\n",
       "       zipcode      lat     long  sqft_living15  sqft_lot15 sqft_living_sqrt  \\\n",
       "0        98178  47.5112 -122.257         1340.0      5650.0        34.351128   \n",
       "1        98125  47.7210 -122.319         1690.0      7639.0        50.695167   \n",
       "2        98028  47.7379 -122.233         2720.0      8062.0        27.748874   \n",
       "3        98136  47.5208 -122.393         1360.0      5000.0        44.271887   \n",
       "4        98074  47.6168 -122.045         1800.0      7503.0        40.987803   \n",
       "...        ...      ...      ...            ...         ...              ...   \n",
       "21608    98103  47.6993 -122.346         1530.0      1509.0        39.115214   \n",
       "21609    98146  47.5107 -122.362         1830.0      7200.0        48.062459   \n",
       "21610    98144  47.5944 -122.299         1020.0      2007.0        31.937439   \n",
       "21611    98027  47.5345 -122.069         1410.0      1287.0        40.000000   \n",
       "21612    98144  47.5941 -122.299         1020.0      1357.0        31.937439   \n",
       "\n",
       "       sqft_lot_sqrt  bedrooms_square  floors_square  \n",
       "0          75.166482              9.0            1.0  \n",
       "1          85.099941              9.0            4.0  \n",
       "2         100.000000              4.0            1.0  \n",
       "3          70.710678             16.0            1.0  \n",
       "4          89.888820              9.0            1.0  \n",
       "...              ...              ...            ...  \n",
       "21608      33.630343              9.0            9.0  \n",
       "21609      76.243032             16.0            4.0  \n",
       "21610      36.742346              4.0            4.0  \n",
       "21611      48.867167              9.0            4.0  \n",
       "21612      32.802439              4.0            4.0  \n",
       "\n",
       "[21613 rows x 25 columns]"
      ]
     },
     "execution_count": 26,
     "metadata": {},
     "output_type": "execute_result"
    }
   ],
   "source": [
    "sales"
   ]
  },
  {
   "cell_type": "markdown",
   "metadata": {},
   "source": [
    "## Making a Lasso Regression with All Features"
   ]
  },
  {
   "cell_type": "code",
   "execution_count": 27,
   "metadata": {},
   "outputs": [
    {
     "data": {
      "text/plain": [
       "Lasso(alpha=500.0, normalize=True)"
      ]
     },
     "execution_count": 27,
     "metadata": {},
     "output_type": "execute_result"
    }
   ],
   "source": [
    "from sklearn.linear_model import Lasso\n",
    "all_features = ['bedrooms', 'bedrooms_square',\n",
    "            'bathrooms',\n",
    "            'sqft_living', 'sqft_living_sqrt',\n",
    "            'sqft_lot', 'sqft_lot_sqrt',\n",
    "            'floors', 'floors_square',\n",
    "            'waterfront', 'view', 'condition', 'grade',\n",
    "            'sqft_above',\n",
    "            'sqft_basement',\n",
    "            'yr_built', 'yr_renovated']\n",
    "\n",
    "model_all = Lasso(alpha=5e2, normalize=True)\n",
    "model_all.fit(sales[all_features], sales['price'])"
   ]
  },
  {
   "cell_type": "markdown",
   "metadata": {},
   "source": [
    "## Features Chosen by Lasso Regression"
   ]
  },
  {
   "cell_type": "code",
   "execution_count": 4,
   "metadata": {},
   "outputs": [],
   "source": [
    "import numpy as np\n",
    "def PCoeff(model):\n",
    "    deg=len(model.coef_)\n",
    "    w=list(model.coef_)\n",
    "    print('Learned polynomial for degree '+str(deg)+':')\n",
    "    w.reverse()\n",
    "    w.append(model.intercept_)\n",
    "    print(np.poly1d(w))\n",
    "    coef=list(model.coef_)\n",
    "    return coef"
   ]
  },
  {
   "cell_type": "code",
   "execution_count": 32,
   "metadata": {},
   "outputs": [
    {
     "name": "stdout",
     "output_type": "stream",
     "text": [
      "Learned polynomial for degree 17:\n",
      "           13             11         4\n",
      "6.175e+04 x  + 2.475e+04 x  + 134.4 x - 2.181e+05\n"
     ]
    }
   ],
   "source": [
    "coef_list=PCoeff(model_all)"
   ]
  },
  {
   "cell_type": "code",
   "execution_count": 33,
   "metadata": {},
   "outputs": [
    {
     "data": {
      "text/plain": [
       "['sqft_living', 'view', 'grade']"
      ]
     },
     "execution_count": 33,
     "metadata": {},
     "output_type": "execute_result"
    }
   ],
   "source": [
    "chosen_fts=[]\n",
    "for c in range(len(coef_list)):\n",
    "    if coef_list[c]!=0.0:\n",
    "        chosen_fts.append(all_features[c])\n",
    "chosen_fts"
   ]
  },
  {
   "cell_type": "markdown",
   "metadata": {},
   "source": [
    "## Import train, test and validation sets"
   ]
  },
  {
   "cell_type": "code",
   "execution_count": 8,
   "metadata": {},
   "outputs": [],
   "source": [
    "testing = pd.read_csv('wk3_kc_house_test_data.csv', dtype=dtype_dict)\n",
    "training = pd.read_csv('wk3_kc_house_train_data.csv', dtype=dtype_dict)\n",
    "validation = pd.read_csv('wk3_kc_house_valid_data.csv', dtype=dtype_dict)"
   ]
  },
  {
   "cell_type": "code",
   "execution_count": 9,
   "metadata": {},
   "outputs": [],
   "source": [
    "testing['sqft_living_sqrt'] = testing['sqft_living'].apply(sqrt)\n",
    "testing['sqft_lot_sqrt'] = testing['sqft_lot'].apply(sqrt)\n",
    "testing['bedrooms_square'] = testing['bedrooms']*testing['bedrooms']\n",
    "testing['floors_square'] = testing['floors']*testing['floors']\n",
    "\n",
    "training['sqft_living_sqrt'] = training['sqft_living'].apply(sqrt)\n",
    "training['sqft_lot_sqrt'] = training['sqft_lot'].apply(sqrt)\n",
    "training['bedrooms_square'] = training['bedrooms']*training['bedrooms']\n",
    "training['floors_square'] = training['floors']*training['floors']\n",
    "\n",
    "validation['sqft_living_sqrt'] = validation['sqft_living'].apply(sqrt)\n",
    "validation['sqft_lot_sqrt'] = validation['sqft_lot'].apply(sqrt)\n",
    "validation['bedrooms_square'] = validation['bedrooms']*validation['bedrooms']\n",
    "validation['floors_square'] = validation['floors']*validation['floors']"
   ]
  },
  {
   "cell_type": "code",
   "execution_count": 10,
   "metadata": {},
   "outputs": [
    {
     "name": "stdout",
     "output_type": "stream",
     "text": [
      "______________________________________________________________\n",
      "\n",
      "ALPHA: 10.0\n",
      "Learned polynomial for degree 17:\n",
      "       17        16             13           12             11\n",
      "10.06 x  - 3294 x  + 1.287e+05 x  + 2.5e+04 x  + 3.804e+04 x \n",
      "              10        9     8         7          6             5\n",
      " + 6.195e+05 x  + 5014 x - 0 x - 701.2 x + 0.7856 x - 4.441e+04 x\n",
      "          4             3         2\n",
      " + 617.9 x + 5.084e+04 x + 373.2 x - 1.614e+04 x + 6.63e+06\n",
      "Residual Sum of Squares: 398213327300134.9\n",
      "\n",
      "______________________________________________________________\n",
      "\n",
      "ALPHA: 31.622776601683793\n",
      "Learned polynomial for degree 17:\n",
      "       17        16             13             12             11\n",
      "4.309 x  - 3336 x  + 1.252e+05 x  + 1.741e+04 x  + 4.051e+04 x \n",
      "              10        9         7          6            5         4\n",
      " + 5.987e+05 x  + 5362 x - 355.8 x + 0.2398 x - 2.46e+04 x + 419.2 x\n",
      "              3         2\n",
      " + 4.265e+04 x + 119.3 x - 1.738e+04 x + 6.293e+06\n",
      "Residual Sum of Squares: 399041900253346.9\n",
      "\n",
      "______________________________________________________________\n",
      "\n",
      "ALPHA: 100.0\n",
      "Learned polynomial for degree 17:\n",
      "       16             13        12             11             10\n",
      "-3040 x  + 1.194e+05 x  + 2856 x  + 4.254e+04 x  + 5.483e+05 x \n",
      "         9        7     6     5         4            3\n",
      " + 2010 x - 98.9 x - 0 x - 0 x + 169.6 x + 2.21e+04 x - 1.006e+04 x + 5.232e+06\n",
      "Residual Sum of Squares: 429791604072559.6\n",
      "\n",
      "______________________________________________________________\n",
      "\n",
      "ALPHA: 316.22776601683796\n",
      "Learned polynomial for degree 17:\n",
      "       16             13             11             10     7     6\n",
      "-1611 x  + 9.853e+04 x  + 3.916e+04 x  + 3.786e+05 x  - 0 x - 0 x\n",
      "          4\n",
      " + 162.1 x - 0 x + 2.612e+06\n",
      "Residual Sum of Squares: 463739831045121.1\n",
      "\n",
      "______________________________________________________________\n",
      "\n",
      "ALPHA: 1000.0\n",
      "Learned polynomial for degree 17:\n",
      "           13        11         4\n",
      "5.012e+04 x  + 3185 x  + 132.4 x - 1.183e+05\n",
      "Residual Sum of Squares: 645898733633800.8\n",
      "\n",
      "______________________________________________________________\n",
      "\n",
      "ALPHA: 3162.2776601683795\n",
      "Learned polynomial for degree 17:\n",
      " \n",
      "5.427e+05\n",
      "Residual Sum of Squares: 1222506859427163.0\n",
      "\n",
      "______________________________________________________________\n",
      "\n",
      "ALPHA: 10000.0\n",
      "Learned polynomial for degree 17:\n",
      " \n",
      "5.427e+05\n",
      "Residual Sum of Squares: 1222506859427163.0\n",
      "\n",
      "______________________________________________________________\n",
      "\n",
      "ALPHA: 31622.776601683792\n",
      "Learned polynomial for degree 17:\n",
      " \n",
      "5.427e+05\n",
      "Residual Sum of Squares: 1222506859427163.0\n",
      "\n",
      "______________________________________________________________\n",
      "\n",
      "ALPHA: 100000.0\n",
      "Learned polynomial for degree 17:\n",
      " \n",
      "5.427e+05\n",
      "Residual Sum of Squares: 1222506859427163.0\n",
      "\n",
      "______________________________________________________________\n",
      "\n",
      "ALPHA: 316227.7660168379\n",
      "Learned polynomial for degree 17:\n",
      " \n",
      "5.427e+05\n",
      "Residual Sum of Squares: 1222506859427163.0\n",
      "\n",
      "______________________________________________________________\n",
      "\n",
      "ALPHA: 1000000.0\n",
      "Learned polynomial for degree 17:\n",
      " \n",
      "5.427e+05\n",
      "Residual Sum of Squares: 1222506859427163.0\n",
      "\n",
      "______________________________________________________________\n",
      "\n",
      "ALPHA: 3162277.6601683795\n",
      "Learned polynomial for degree 17:\n",
      " \n",
      "5.427e+05\n",
      "Residual Sum of Squares: 1222506859427163.0\n",
      "\n",
      "______________________________________________________________\n",
      "\n",
      "ALPHA: 10000000.0\n",
      "Learned polynomial for degree 17:\n",
      " \n",
      "5.427e+05\n",
      "Residual Sum of Squares: 1222506859427163.0\n",
      "\n",
      "_______________________________________________________________\n"
     ]
    }
   ],
   "source": [
    "alpha_list=np.logspace(1,7,num=13)\n",
    "RSS_list=[]\n",
    "RSS_min=None\n",
    "best_alpha=None\n",
    "for alpha in alpha_list:\n",
    "    print('______________________________________________________________\\n')\n",
    "    print('ALPHA: {}'.format(alpha))\n",
    "    model=Lasso(alpha,normalize=True)\n",
    "    model.fit(training[all_features],training['price'])\n",
    "    PCoeff(model)\n",
    "    new_output=model.predict(validation[all_features])\n",
    "    RSS=((new_output-validation['price'])**2).sum()\n",
    "    print(\"Residual Sum of Squares: \"+str(RSS)+'\\n')\n",
    "    RSS_list.append(RSS)\n",
    "    if RSS_min==None or RSS_min>RSS:\n",
    "        RSS_min=RSS\n",
    "        best_alpha=alpha\n",
    "print('_______________________________________________________________')"
   ]
  },
  {
   "cell_type": "code",
   "execution_count": 11,
   "metadata": {},
   "outputs": [
    {
     "name": "stdout",
     "output_type": "stream",
     "text": [
      "The best alpha is 10.0 with an RSS of 398213327300134.9\n"
     ]
    }
   ],
   "source": [
    "print('The best alpha is {} with an RSS of {}'.format(best_alpha,RSS_min))"
   ]
  },
  {
   "cell_type": "code",
   "execution_count": 12,
   "metadata": {},
   "outputs": [
    {
     "name": "stdout",
     "output_type": "stream",
     "text": [
      "Learned polynomial for degree 17:\n",
      "       17        16             13           12             11\n",
      "10.06 x  - 3294 x  + 1.287e+05 x  + 2.5e+04 x  + 3.804e+04 x \n",
      "              10        9     8         7          6             5\n",
      " + 6.195e+05 x  + 5014 x - 0 x - 701.2 x + 0.7856 x - 4.441e+04 x\n",
      "          4             3         2\n",
      " + 617.9 x + 5.084e+04 x + 373.2 x - 1.614e+04 x + 6.63e+06\n"
     ]
    },
    {
     "data": {
      "text/plain": [
       "98467402552698.75"
      ]
     },
     "execution_count": 12,
     "metadata": {},
     "output_type": "execute_result"
    }
   ],
   "source": [
    "model=Lasso(alpha=best_alpha,normalize=True)\n",
    "model.fit(training[all_features],training['price'])\n",
    "PCoeff(model)\n",
    "output=model.predict(testing[all_features])\n",
    "RSS=((output-testing['price'])**2).sum()\n",
    "RSS"
   ]
  },
  {
   "cell_type": "code",
   "execution_count": 13,
   "metadata": {},
   "outputs": [
    {
     "data": {
      "text/plain": [
       "15"
      ]
     },
     "execution_count": 13,
     "metadata": {},
     "output_type": "execute_result"
    }
   ],
   "source": [
    "non_zeros=np.count_nonzero(model.coef_)+np.count_nonzero(model.intercept_)\n",
    "non_zeros"
   ]
  },
  {
   "cell_type": "markdown",
   "metadata": {},
   "source": [
    "## Maximum Coefficients Equal to 7"
   ]
  },
  {
   "cell_type": "code",
   "execution_count": 16,
   "metadata": {},
   "outputs": [
    {
     "name": "stdout",
     "output_type": "stream",
     "text": [
      "______________________________________________________________\n",
      "\n",
      "ALPHA: 10.0\n",
      "______________________________________________________________\n",
      "\n",
      "ALPHA: 14.38449888287663\n",
      "______________________________________________________________\n",
      "\n",
      "ALPHA: 20.6913808111479\n",
      "______________________________________________________________\n",
      "\n",
      "ALPHA: 29.76351441631318\n",
      "______________________________________________________________\n",
      "\n",
      "ALPHA: 42.81332398719393\n",
      "______________________________________________________________\n",
      "\n",
      "ALPHA: 61.58482110660264\n",
      "______________________________________________________________\n",
      "\n",
      "ALPHA: 88.58667904100822\n",
      "______________________________________________________________\n",
      "\n",
      "ALPHA: 127.42749857031335\n",
      "______________________________________________________________\n",
      "\n",
      "ALPHA: 183.29807108324357\n",
      "Learned polynomial for degree 17:\n",
      "       16             13            11             10     7     6\n",
      "-2414 x  + 1.134e+05 x  + 4.15e+04 x  + 4.848e+05 x  - 0 x - 0 x\n",
      "          4        3     2\n",
      " + 165.2 x + 4850 x - 0 x - 0 x + 4.062e+06\n",
      "Non-Zero Coeff: 7\n",
      "______________________________________________________________\n",
      "\n",
      "ALPHA: 263.6650898730358\n",
      "Learned polynomial for degree 17:\n",
      "       16             13             11             10     7     6\n",
      "-1915 x  + 1.045e+05 x  + 4.009e+04 x  + 4.206e+05 x  - 0 x - 0 x\n",
      "          4     2\n",
      " + 164.3 x - 0 x - 0 x + 3.16e+06\n",
      "Non-Zero Coeff: 6\n",
      "______________________________________________________________\n",
      "\n",
      "ALPHA: 379.26901907322497\n",
      "Learned polynomial for degree 17:\n",
      "       16             13             11             10     7     6\n",
      "-1247 x  + 9.139e+04 x  + 3.805e+04 x  + 3.282e+05 x  - 0 x - 0 x\n",
      "          4\n",
      " + 159.4 x - 0 x + 1.956e+06\n",
      "Non-Zero Coeff: 6\n",
      "______________________________________________________________\n",
      "\n",
      "ALPHA: 545.5594781168514\n",
      "Learned polynomial for degree 17:\n",
      "        16             13            11             10     7         4\n",
      "-286.8 x  + 7.255e+04 x  + 3.51e+04 x  + 1.953e+05 x  - 0 x + 152.2 x + 2.241e+05\n",
      "Non-Zero Coeff: 6\n",
      "______________________________________________________________\n",
      "\n",
      "ALPHA: 784.7599703514607\n",
      "Learned polynomial for degree 17:\n",
      "           13             11        10         4\n",
      "5.902e+04 x  + 2.334e+04 x  + 5531 x  + 141.7 x - 2.109e+05\n",
      "Non-Zero Coeff: 5\n",
      "______________________________________________________________\n",
      "\n",
      "ALPHA: 1128.8378916846884\n",
      "Learned polynomial for degree 17:\n",
      "           13         4\n",
      "4.423e+04 x  + 125.2 x - 5.733e+04\n",
      "Non-Zero Coeff: 3\n",
      "______________________________________________________________\n",
      "\n",
      "ALPHA: 1623.776739188721\n",
      "Learned polynomial for degree 17:\n",
      "          13         4\n",
      "2.08e+04 x  + 95.27 x + 1.845e+05\n",
      "Non-Zero Coeff: 3\n",
      "______________________________________________________________\n",
      "\n",
      "ALPHA: 2335.7214690901214\n",
      "Learned polynomial for degree 17:\n",
      "      4\n",
      "39.7 x + 4.599e+05\n",
      "Non-Zero Coeff: 2\n",
      "______________________________________________________________\n",
      "\n",
      "ALPHA: 3359.818286283781\n",
      "Learned polynomial for degree 17:\n",
      " \n",
      "5.427e+05\n",
      "Non-Zero Coeff: 1\n",
      "______________________________________________________________\n",
      "\n",
      "ALPHA: 4832.930238571752\n",
      "Learned polynomial for degree 17:\n",
      " \n",
      "5.427e+05\n",
      "Non-Zero Coeff: 1\n",
      "______________________________________________________________\n",
      "\n",
      "ALPHA: 6951.927961775606\n",
      "Learned polynomial for degree 17:\n",
      " \n",
      "5.427e+05\n",
      "Non-Zero Coeff: 1\n",
      "______________________________________________________________\n",
      "\n",
      "ALPHA: 10000.0\n",
      "Learned polynomial for degree 17:\n",
      " \n",
      "5.427e+05\n",
      "Non-Zero Coeff: 1\n",
      "______________________________________________________________\n",
      "\n",
      "Boundary: (127.42749857031335,183.29807108324357)\n"
     ]
    }
   ],
   "source": [
    "max_nonzeros=7\n",
    "alpha_list=np.logspace(1,4,num=20)\n",
    "alpha_M7=[]\n",
    "alpha_L7=[]\n",
    "alpha_max=None\n",
    "for alpha in alpha_list:\n",
    "    print('______________________________________________________________\\n')\n",
    "    print('ALPHA: {}'.format(alpha))\n",
    "    model=Lasso(alpha,normalize=True)\n",
    "    model.fit(training[all_features],training['price'])\n",
    "    non_zeros=np.count_nonzero(model.coef_)+np.count_nonzero(model.intercept_)\n",
    "    if non_zeros>max_nonzeros:\n",
    "        alpha_M7.append(alpha)\n",
    "        alpha_min=alpha\n",
    "        continue\n",
    "    if alpha_max==None:\n",
    "        alpha_max=alpha\n",
    "    alpha_L7.append(alpha)\n",
    "    PCoeff(model)\n",
    "    print('Non-Zero Coeff: {}'.format(non_zeros))\n",
    "\n",
    "print('______________________________________________________________\\n')\n",
    "print('Boundary: ({},{})'.format(alpha_min,alpha_max))"
   ]
  },
  {
   "cell_type": "markdown",
   "metadata": {},
   "source": [
    "## Exploring inside the boundary"
   ]
  },
  {
   "cell_type": "code",
   "execution_count": 20,
   "metadata": {},
   "outputs": [
    {
     "name": "stdout",
     "output_type": "stream",
     "text": [
      "______________________________________________________________\n",
      "\n",
      "ALPHA: 127.42749857031335\n",
      "______________________________________________________________\n",
      "\n",
      "ALPHA: 130.3680550183623\n",
      "______________________________________________________________\n",
      "\n",
      "ALPHA: 133.30861146641126\n",
      "______________________________________________________________\n",
      "\n",
      "ALPHA: 136.24916791446023\n",
      "______________________________________________________________\n",
      "\n",
      "ALPHA: 139.1897243625092\n",
      "______________________________________________________________\n",
      "\n",
      "ALPHA: 142.13028081055813\n",
      "______________________________________________________________\n",
      "\n",
      "ALPHA: 145.0708372586071\n",
      "______________________________________________________________\n",
      "\n",
      "ALPHA: 148.01139370665607\n",
      "______________________________________________________________\n",
      "\n",
      "ALPHA: 150.95195015470503\n",
      "______________________________________________________________\n",
      "\n",
      "ALPHA: 153.89250660275397\n",
      "Learned polynomial for degree 17:\n",
      "       16             13           11             10     7     6\n",
      "-2628 x  + 1.165e+05 x  + 4.2e+04 x  + 5.082e+05 x  - 0 x - 0 x\n",
      "          4             3     2\n",
      " + 163.2 x + 1.107e+04 x - 0 x - 0 x + 4.451e+06\n",
      "Non-Zero Coeff: 7\n",
      "The Residual Sum of Squares is 439820045609415.8\n",
      "______________________________________________________________\n",
      "\n",
      "ALPHA: 156.83306305080293\n",
      "Learned polynomial for degree 17:\n",
      "       16             13             11             10     7     6\n",
      "-2607 x  + 1.162e+05 x  + 4.195e+04 x  + 5.059e+05 x  - 0 x - 0 x\n",
      "          4             3     2\n",
      " + 163.4 x + 1.045e+04 x - 0 x - 0 x + 4.412e+06\n",
      "Non-Zero Coeff: 7\n",
      "The Residual Sum of Squares is 440111359799050.5\n",
      "______________________________________________________________\n",
      "\n",
      "ALPHA: 159.7736194988519\n",
      "Learned polynomial for degree 17:\n",
      "       16             13            11             10     7     6\n",
      "-2585 x  + 1.159e+05 x  + 4.19e+04 x  + 5.035e+05 x  - 0 x - 0 x\n",
      "          4        3     2\n",
      " + 163.6 x + 9825 x - 0 x - 0 x + 4.373e+06\n",
      "Non-Zero Coeff: 7\n",
      "The Residual Sum of Squares is 440410061320655.8\n",
      "______________________________________________________________\n",
      "\n",
      "ALPHA: 162.71417594690087\n",
      "Learned polynomial for degree 17:\n",
      "       16             13             11             10     7     6\n",
      "-2564 x  + 1.156e+05 x  + 4.185e+04 x  + 5.012e+05 x  - 0 x - 0 x\n",
      "          4        3     2\n",
      " + 163.8 x + 9204 x - 0 x - 0 x + 4.335e+06\n",
      "Non-Zero Coeff: 7\n",
      "The Residual Sum of Squares is 440717413935876.7\n",
      "______________________________________________________________\n",
      "\n",
      "ALPHA: 165.6547323949498\n",
      "Learned polynomial for degree 17:\n",
      "       16             13            11             10     7     6\n",
      "-2543 x  + 1.153e+05 x  + 4.18e+04 x  + 4.988e+05 x  - 0 x - 0 x\n",
      "        4        3     2\n",
      " + 164 x + 8581 x - 0 x - 0 x + 4.296e+06\n",
      "Non-Zero Coeff: 7\n",
      "The Residual Sum of Squares is 441033335417589.9\n",
      "______________________________________________________________\n",
      "\n",
      "ALPHA: 168.59528884299877\n",
      "Learned polynomial for degree 17:\n",
      "       16             13             11             10     7     6\n",
      "-2521 x  + 1.149e+05 x  + 4.175e+04 x  + 4.965e+05 x  - 0 x - 0 x\n",
      "          4        3     2\n",
      " + 164.2 x + 7960 x - 0 x - 0 x + 4.257e+06\n",
      "Non-Zero Coeff: 7\n",
      "The Residual Sum of Squares is 441357732859062.7\n",
      "______________________________________________________________\n",
      "\n",
      "ALPHA: 171.53584529104774\n",
      "Learned polynomial for degree 17:\n",
      "       16             13            11             10     7     6\n",
      "-2500 x  + 1.146e+05 x  + 4.17e+04 x  + 4.942e+05 x  - 0 x - 0 x\n",
      "          4        3     2\n",
      " + 164.4 x + 7338 x - 0 x - 0 x + 4.218e+06\n",
      "Non-Zero Coeff: 7\n",
      "The Residual Sum of Squares is 441690625343939.6\n",
      "______________________________________________________________\n",
      "\n",
      "ALPHA: 174.4764017390967\n",
      "Learned polynomial for degree 17:\n",
      "       16             13             11             10     7     6\n",
      "-2478 x  + 1.143e+05 x  + 4.165e+04 x  + 4.918e+05 x  - 0 x - 0 x\n",
      "          4        3     2\n",
      " + 164.6 x + 6716 x - 0 x - 0 x + 4.179e+06\n",
      "Non-Zero Coeff: 7\n",
      "The Residual Sum of Squares is 442032017277921.0\n",
      "______________________________________________________________\n",
      "\n",
      "ALPHA: 177.41695818714567\n",
      "Learned polynomial for degree 17:\n",
      "       16            13            11             10     7     6\n",
      "-2457 x  + 1.14e+05 x  + 4.16e+04 x  + 4.895e+05 x  - 0 x - 0 x\n",
      "          4        3     2\n",
      " + 164.8 x + 6094 x - 0 x - 0 x + 4.14e+06\n",
      "Non-Zero Coeff: 7\n",
      "The Residual Sum of Squares is 442381906049291.6\n",
      "______________________________________________________________\n",
      "\n",
      "ALPHA: 180.3575146351946\n",
      "Learned polynomial for degree 17:\n",
      "       16             13             11             10     7     6\n",
      "-2435 x  + 1.137e+05 x  + 4.155e+04 x  + 4.871e+05 x  - 0 x - 0 x\n",
      "        4        3     2\n",
      " + 165 x + 5472 x - 0 x - 0 x + 4.101e+06\n",
      "Non-Zero Coeff: 7\n",
      "The Residual Sum of Squares is 442740296603435.25\n",
      "______________________________________________________________\n",
      "\n",
      "ALPHA: 183.29807108324357\n",
      "Learned polynomial for degree 17:\n",
      "       16             13            11             10     7     6\n",
      "-2414 x  + 1.134e+05 x  + 4.15e+04 x  + 4.848e+05 x  - 0 x - 0 x\n",
      "          4        3     2\n",
      " + 165.2 x + 4850 x - 0 x - 0 x + 4.062e+06\n",
      "Non-Zero Coeff: 7\n",
      "The Residual Sum of Squares is 443107216261395.44\n",
      "_______________________________________________________________\n",
      "\n",
      "The Best Alpha is 153.89250660275397 with a RSS of 439820045609415.8\n"
     ]
    }
   ],
   "source": [
    "alpha_list=np.linspace(alpha_min,alpha_max,20)\n",
    "RSS_min=None\n",
    "best_alpha=None\n",
    "for alpha in alpha_list:\n",
    "    print('______________________________________________________________\\n')\n",
    "    print('ALPHA: {}'.format(alpha))\n",
    "    model=Lasso(alpha,normalize=True)\n",
    "    model.fit(training[all_features],training['price'])\n",
    "    non_zeros=np.count_nonzero(model.coef_)+np.count_nonzero(model.intercept_)\n",
    "    if non_zeros>max_nonzeros:\n",
    "        continue\n",
    "    PCoeff(model)\n",
    "    print('Non-Zero Coeff: {}'.format(non_zeros))\n",
    "    output=model.predict(validation[all_features])\n",
    "    RSS=((output-validation['price'])**2).sum()\n",
    "    print('The Residual Sum of Squares is {}'.format(RSS))\n",
    "    if RSS_min==None or RSS_min>RSS:\n",
    "        RSS_min=RSS\n",
    "        best_alpha=alpha\n",
    "print('_______________________________________________________________\\n')\n",
    "print('The Best Alpha is {} with a RSS of {}'.format(best_alpha,RSS_min))"
   ]
  },
  {
   "cell_type": "code",
   "execution_count": 34,
   "metadata": {},
   "outputs": [
    {
     "name": "stdout",
     "output_type": "stream",
     "text": [
      "Learned polynomial for degree 17:\n",
      "       16             13           11             10     7     6\n",
      "-2628 x  + 1.165e+05 x  + 4.2e+04 x  + 5.082e+05 x  - 0 x - 0 x\n",
      "          4             3     2\n",
      " + 163.2 x + 1.107e+04 x - 0 x - 0 x + 4.451e+06\n"
     ]
    },
    {
     "data": {
      "text/plain": [
       "['bathrooms', 'sqft_living', 'waterfront', 'view', 'grade', 'yr_built']"
      ]
     },
     "execution_count": 34,
     "metadata": {},
     "output_type": "execute_result"
    }
   ],
   "source": [
    "model=Lasso(best_alpha,normalize=True)\n",
    "model.fit(training[all_features],training['price'])\n",
    "coef=PCoeff(model)\n",
    "\n",
    "\n",
    "chosen_fts=[]\n",
    "for c in range(len(coef)):\n",
    "    if coef[c]!=0.0:\n",
    "        chosen_fts.append(all_features[c])\n",
    "chosen_fts"
   ]
  },
  {
   "cell_type": "markdown",
   "metadata": {},
   "source": [
    "# Programming Assignment 2"
   ]
  },
  {
   "cell_type": "markdown",
   "metadata": {},
   "source": [
    "## Get Numpy Data"
   ]
  },
  {
   "cell_type": "code",
   "execution_count": 2,
   "metadata": {},
   "outputs": [],
   "source": [
    "def get_numpy_data(dataframe, features, output):\n",
    "    dataframe['constant'] = 1 # add a constant column to a DataFrame\n",
    "    # prepend variable 'constant' to the features list\n",
    "    features = ['constant'] + features\n",
    "    # select the columns of DataFrame given by the ‘features’ list into the DataFrame ‘features_Dataframe’\n",
    "    features_Dataframe=dataframe[features]\n",
    "    # this will convert the features_sframe into a numpy matrix:\n",
    "    features_matrix = features_Dataframe.to_numpy()\n",
    "    # assign the column of data_sframe associated with the target to the variable ‘output_sarray’\n",
    "    output_darray = dataframe[output]\n",
    "    # this will convert the SArray into a numpy array:\n",
    "    output_array = output_darray.to_numpy()\n",
    "    return(features_matrix, output_array)"
   ]
  },
  {
   "cell_type": "markdown",
   "metadata": {},
   "source": [
    "## Predict Output"
   ]
  },
  {
   "cell_type": "code",
   "execution_count": 3,
   "metadata": {},
   "outputs": [],
   "source": [
    "def predict_output(feature_matrix, weights):\n",
    "    predictions = np.dot(feature_matrix, weights)\n",
    "    predictions=np.around(predictions, decimals=2)\n",
    "    return(predictions)"
   ]
  },
  {
   "cell_type": "markdown",
   "metadata": {},
   "source": [
    "## Normalize Features Function"
   ]
  },
  {
   "cell_type": "code",
   "execution_count": 6,
   "metadata": {},
   "outputs": [],
   "source": [
    "def normalize_features(features):\n",
    "    norms=np.linalg.norm(features,axis=0)\n",
    "    normalized_features=features/norms\n",
    "    return normalized_features, norms"
   ]
  },
  {
   "cell_type": "markdown",
   "metadata": {},
   "source": [
    "## Simple Features"
   ]
  },
  {
   "cell_type": "code",
   "execution_count": 7,
   "metadata": {},
   "outputs": [],
   "source": [
    "features=['sqft_living','bedrooms']\n",
    "output='price'\n",
    "(features_matrix,output_m)=get_numpy_data(sales,features,output)"
   ]
  },
  {
   "cell_type": "markdown",
   "metadata": {},
   "source": [
    "## Normalizing Features"
   ]
  },
  {
   "cell_type": "code",
   "execution_count": 8,
   "metadata": {},
   "outputs": [
    {
     "data": {
      "text/plain": [
       "array([[0.00680209, 0.00353021, 0.00583571],\n",
       "       [0.00680209, 0.00768869, 0.00583571],\n",
       "       [0.00680209, 0.00230361, 0.00389048],\n",
       "       ...,\n",
       "       [0.00680209, 0.00305154, 0.00389048],\n",
       "       [0.00680209, 0.00478673, 0.00583571],\n",
       "       [0.00680209, 0.00305154, 0.00389048]])"
      ]
     },
     "execution_count": 8,
     "metadata": {},
     "output_type": "execute_result"
    }
   ],
   "source": [
    "normalized_features,norms=normalize_features(features_matrix)\n",
    "normalized_features"
   ]
  },
  {
   "cell_type": "code",
   "execution_count": 9,
   "metadata": {},
   "outputs": [
    {
     "data": {
      "text/plain": [
       "array([0.02, 0.02, 0.01, ..., 0.01, 0.02, 0.01])"
      ]
     },
     "execution_count": 9,
     "metadata": {},
     "output_type": "execute_result"
    }
   ],
   "source": [
    "w=np.array([1.,1.,1.])\n",
    "prediction=predict_output(normalized_features,w)\n",
    "prediction"
   ]
  },
  {
   "cell_type": "code",
   "execution_count": 11,
   "metadata": {},
   "outputs": [
    {
     "name": "stdout",
     "output_type": "stream",
     "text": [
      "[79400302.70948024, 87939470.80740559, 80966701.45724028]\n"
     ]
    }
   ],
   "source": [
    "ro=[0 for i in range((normalized_features.shape)[1])]\n",
    "for j in range((normalized_features.shape)[1]):\n",
    "    ro[j]=(normalized_features[:,j]*\n",
    "           (output_m-prediction+(w[j]*normalized_features[:,j]))).sum()\n",
    "print(ro)"
   ]
  },
  {
   "cell_type": "code",
   "execution_count": 12,
   "metadata": {},
   "outputs": [
    {
     "name": "stdout",
     "output_type": "stream",
     "text": [
      "175878941.61481118\n",
      "161933402.91448057\n"
     ]
    }
   ],
   "source": [
    "print(2*ro[1])\n",
    "print(2*ro[2])"
   ]
  },
  {
   "cell_type": "code",
   "execution_count": 13,
   "metadata": {},
   "outputs": [],
   "source": [
    "def in_range(value,alpha):\n",
    "    return((value>=-alpha/2.) and (value<=alpha/2.))"
   ]
  },
  {
   "cell_type": "code",
   "execution_count": 14,
   "metadata": {},
   "outputs": [
    {
     "name": "stdout",
     "output_type": "stream",
     "text": [
      "False False\n",
      "False True\n",
      "False True\n",
      "True True\n",
      "True True\n"
     ]
    }
   ],
   "source": [
    "for alpha in [1.4e8,1.64e8,1.73e8,1.9e8,2.3e8]:\n",
    "    print(in_range(ro[1],alpha),in_range(ro[2],alpha))"
   ]
  },
  {
   "cell_type": "markdown",
   "metadata": {},
   "source": [
    "## Single Coordinate Descent Step"
   ]
  },
  {
   "cell_type": "code",
   "execution_count": 15,
   "metadata": {},
   "outputs": [],
   "source": [
    "def LCDS(i,features,output, weights,alpha):\n",
    "    prediction=predict_output(features,weights)\n",
    "    ro=(features[:,i]*(output-prediction+\n",
    "                       (weights[i]*features[:,i]))).sum()\n",
    "    \n",
    "    if i==0:\n",
    "        new_weight=ro\n",
    "    elif ro<-alpha/2:\n",
    "        new_weight=(ro+alpha/2.)\n",
    "    elif ro>alpha/2:\n",
    "        new_weight=(ro-alpha/2.)\n",
    "    else:\n",
    "        new_weight=0.\n",
    "        \n",
    "    return new_weight"
   ]
  },
  {
   "cell_type": "markdown",
   "metadata": {},
   "source": [
    "## Cyclical Coordinate Descent"
   ]
  },
  {
   "cell_type": "code",
   "execution_count": 19,
   "metadata": {},
   "outputs": [],
   "source": [
    "def LCCD(features,output, weights,alpha,tolerance):\n",
    "    D=features.shape[1]\n",
    "    change=np.array(weights)*0.0\n",
    "    weights=np.array(weights)\n",
    "    converged=False\n",
    "    \n",
    "    while not converged:\n",
    "        for idx in range(D):\n",
    "            new_weight=LCDS(idx,features, output, weights, alpha)\n",
    "            change[idx]=np.abs(new_weight-weights[idx])\n",
    "            weights[idx]=new_weight\n",
    "        max_change=max(change)\n",
    "        if max_change<tolerance:\n",
    "            converged=True\n",
    "    return weights"
   ]
  },
  {
   "cell_type": "code",
   "execution_count": 17,
   "metadata": {},
   "outputs": [],
   "source": [
    "features=['sqft_living','bedrooms']\n",
    "output='price'\n",
    "weights=np.zeros(3)\n",
    "alpha=1e7\n",
    "tolerance=1.0\n",
    "\n",
    "features_matrix,output=get_numpy_data(sales, features,output)\n",
    "normalized_features,norms=normalize_features(features_matrix)"
   ]
  },
  {
   "cell_type": "code",
   "execution_count": 20,
   "metadata": {},
   "outputs": [
    {
     "name": "stdout",
     "output_type": "stream",
     "text": [
      "[21624998.40856287 63157246.79338413        0.        ]\n"
     ]
    }
   ],
   "source": [
    "weights=LCCD(normalized_features,output,weights,alpha,tolerance)\n",
    "print(weights)"
   ]
  },
  {
   "cell_type": "code",
   "execution_count": 21,
   "metadata": {},
   "outputs": [
    {
     "name": "stdout",
     "output_type": "stream",
     "text": [
      "1630492480924661.5\n"
     ]
    }
   ],
   "source": [
    "prediction=predict_output(normalized_features,weights)\n",
    "RSS=np.dot(output-prediction,output-prediction)\n",
    "print(RSS)"
   ]
  },
  {
   "cell_type": "markdown",
   "metadata": {},
   "source": [
    "## Implement All Features with Alpha=1e7"
   ]
  },
  {
   "cell_type": "code",
   "execution_count": 41,
   "metadata": {},
   "outputs": [],
   "source": [
    "train_data=pd.read_csv('kc_house_train_data.csv', dtype=dtype_dict)\n",
    "test_data=pd.read_csv('kc_house_test_data.csv', dtype=dtype_dict)"
   ]
  },
  {
   "cell_type": "code",
   "execution_count": 42,
   "metadata": {},
   "outputs": [],
   "source": [
    "all_features = ['bedrooms',\n",
    "                'bathrooms',\n",
    "                'sqft_living',\n",
    "                'sqft_lot',\n",
    "                'floors',\n",
    "                'waterfront', \n",
    "                'view', \n",
    "                'condition', \n",
    "                'grade',\n",
    "                'sqft_above',\n",
    "                'sqft_basement',\n",
    "                'yr_built', \n",
    "                'yr_renovated']"
   ]
  },
  {
   "cell_type": "code",
   "execution_count": 43,
   "metadata": {},
   "outputs": [],
   "source": [
    "output='price'\n",
    "feature_matrix,output=get_numpy_data(train_data,all_features,output)\n",
    "normalized_features,norms=normalize_features(feature_matrix)"
   ]
  },
  {
   "cell_type": "code",
   "execution_count": 44,
   "metadata": {},
   "outputs": [],
   "source": [
    "weights=np.zeros(len(all_features)+1)\n",
    "alpha=1e7\n",
    "tolerance=1.0\n",
    "\n",
    "weights1e7=LCCD(normalized_features,output,weights,alpha,tolerance)"
   ]
  },
  {
   "cell_type": "code",
   "execution_count": 26,
   "metadata": {},
   "outputs": [
    {
     "name": "stdout",
     "output_type": "stream",
     "text": [
      "[24429600.22412123        0.                0.         48389174.77911449\n",
      "        0.                0.          3317511.21695702  7329961.80994682\n",
      "        0.                0.                0.                0.\n",
      "        0.                0.        ]\n"
     ]
    }
   ],
   "source": [
    "print(weights)"
   ]
  },
  {
   "cell_type": "code",
   "execution_count": 27,
   "metadata": {},
   "outputs": [],
   "source": [
    "feature_list=['constant']+all_features"
   ]
  },
  {
   "cell_type": "code",
   "execution_count": 31,
   "metadata": {},
   "outputs": [
    {
     "name": "stdout",
     "output_type": "stream",
     "text": [
      "constant: 24429600.224121228\n",
      "sqft_living: 48389174.77911449\n",
      "waterfront: 3317511.2169570224\n",
      "view: 7329961.809946818\n"
     ]
    }
   ],
   "source": [
    "feature_weights=dict(zip(feature_list,weights))\n",
    "for k,v in feature_weights.items():\n",
    "    if v!=0.0:\n",
    "        print('{}: {}'.format(k,v))"
   ]
  },
  {
   "cell_type": "markdown",
   "metadata": {},
   "source": [
    "## Implement All Features with Alpha=1e8"
   ]
  },
  {
   "cell_type": "code",
   "execution_count": 45,
   "metadata": {},
   "outputs": [],
   "source": [
    "weights=np.zeros(len(all_features)+1)\n",
    "alpha=1e8\n",
    "tolerance=1.0\n",
    "\n",
    "weights1e8=LCCD(normalized_features,output,weights,alpha,tolerance)"
   ]
  },
  {
   "cell_type": "code",
   "execution_count": 33,
   "metadata": {},
   "outputs": [
    {
     "name": "stdout",
     "output_type": "stream",
     "text": [
      "[71114625.44245294        0.                0.                0.\n",
      "        0.                0.                0.                0.\n",
      "        0.                0.                0.                0.\n",
      "        0.                0.        ]\n"
     ]
    }
   ],
   "source": [
    "print(weights)"
   ]
  },
  {
   "cell_type": "code",
   "execution_count": 34,
   "metadata": {},
   "outputs": [
    {
     "name": "stdout",
     "output_type": "stream",
     "text": [
      "constant: 71114625.44245294\n"
     ]
    }
   ],
   "source": [
    "feature_weights=dict(zip(feature_list,weights))\n",
    "for k,v in feature_weights.items():\n",
    "    if v!=0.0:\n",
    "        print('{}: {}'.format(k,v))"
   ]
  },
  {
   "cell_type": "markdown",
   "metadata": {},
   "source": [
    "## Implement All Features with Alpha=1e4"
   ]
  },
  {
   "cell_type": "code",
   "execution_count": 46,
   "metadata": {},
   "outputs": [
    {
     "name": "stdout",
     "output_type": "stream",
     "text": [
      "[ 78564738.29523672 -22097398.93634444  12791071.86332412\n",
      "  93808088.07059932  -2013172.7573526   -4219184.92886309\n",
      "   6482842.81994237   7127408.53578179   5001664.86045633\n",
      "  14327518.46234902 -15770959.11984699  -5159591.21106849\n",
      " -84495341.75138019   2824439.49663285]\n"
     ]
    }
   ],
   "source": [
    "weights=np.zeros(len(all_features)+1)\n",
    "alpha=1e4\n",
    "tolerance=5e5\n",
    "\n",
    "weights1e4=LCCD(normalized_features,output,weights,alpha,tolerance)\n",
    "print(weights1e4)"
   ]
  },
  {
   "cell_type": "code",
   "execution_count": 39,
   "metadata": {},
   "outputs": [
    {
     "name": "stdout",
     "output_type": "stream",
     "text": [
      "constant: 78564738.29523672\n",
      "bedrooms: -22097398.93634444\n",
      "bathrooms: 12791071.863324124\n",
      "sqft_living: 93808088.07059932\n",
      "sqft_lot: -2013172.7573525999\n",
      "floors: -4219184.928863086\n",
      "waterfront: 6482842.819942369\n",
      "view: 7127408.535781788\n",
      "condition: 5001664.860456327\n",
      "grade: 14327518.46234902\n",
      "sqft_above: -15770959.119846987\n",
      "sqft_basement: -5159591.211068489\n",
      "yr_built: -84495341.75138019\n",
      "yr_renovated: 2824439.496632851\n"
     ]
    }
   ],
   "source": [
    "feature_weights=dict(zip(feature_list,weights))\n",
    "for k,v in feature_weights.items():\n",
    "    if v!=0.0:\n",
    "        print('{}: {}'.format(k,v))"
   ]
  },
  {
   "cell_type": "markdown",
   "metadata": {},
   "source": [
    "## Rescaling Learned Weights"
   ]
  },
  {
   "cell_type": "code",
   "execution_count": 40,
   "metadata": {},
   "outputs": [],
   "source": [
    "output='price'\n",
    "feature_matrix,output=get_numpy_data(train_data,all_features,output)\n",
    "normalized_features,norms=normalize_features(feature_matrix)"
   ]
  },
  {
   "cell_type": "code",
   "execution_count": 47,
   "metadata": {},
   "outputs": [
    {
     "name": "stdout",
     "output_type": "stream",
     "text": [
      "161.3174576713392\n"
     ]
    }
   ],
   "source": [
    "normalized_weights1e7=weights1e7/norms\n",
    "normalized_weights1e8=weights1e8/norms\n",
    "normalized_weights1e4=weights1e4/norms\n",
    "print(normalized_weights1e7[3])"
   ]
  },
  {
   "cell_type": "markdown",
   "metadata": {},
   "source": [
    "## Evaluating each of the Learned Models on the Test Data"
   ]
  },
  {
   "cell_type": "code",
   "execution_count": 48,
   "metadata": {},
   "outputs": [
    {
     "name": "stdout",
     "output_type": "stream",
     "text": [
      "RSS for Model with Weights1e7: 275962076023826.72\n"
     ]
    }
   ],
   "source": [
    "(test_features,test_output)=get_numpy_data(test_data,all_features,'price')\n",
    "prediction=predict_output(test_features,normalized_weights1e7)\n",
    "RSS=np.dot(test_output-prediction,test_output-prediction)\n",
    "print('RSS for Model with Weights1e7: {}'.format(RSS))"
   ]
  },
  {
   "cell_type": "code",
   "execution_count": 49,
   "metadata": {},
   "outputs": [
    {
     "name": "stdout",
     "output_type": "stream",
     "text": [
      "RSS for Model with Weights1e8: 537166151432879.7\n"
     ]
    }
   ],
   "source": [
    "(test_features,test_output)=get_numpy_data(test_data,all_features,'price')\n",
    "prediction=predict_output(test_features,normalized_weights1e8)\n",
    "RSS=np.dot(test_output-prediction,test_output-prediction)\n",
    "print('RSS for Model with Weights1e8: {}'.format(RSS))"
   ]
  },
  {
   "cell_type": "code",
   "execution_count": 50,
   "metadata": {},
   "outputs": [
    {
     "name": "stdout",
     "output_type": "stream",
     "text": [
      "RSS for Model with Weights1e4: 228459959002315.94\n"
     ]
    }
   ],
   "source": [
    "(test_features,test_output)=get_numpy_data(test_data,all_features,'price')\n",
    "prediction=predict_output(test_features,normalized_weights1e4)\n",
    "RSS=np.dot(test_output-prediction,test_output-prediction)\n",
    "print('RSS for Model with Weights1e4: {}'.format(RSS))"
   ]
  }
 ],
 "metadata": {
  "kernelspec": {
   "display_name": "Python 3",
   "language": "python",
   "name": "python3"
  },
  "language_info": {
   "codemirror_mode": {
    "name": "ipython",
    "version": 3
   },
   "file_extension": ".py",
   "mimetype": "text/x-python",
   "name": "python",
   "nbconvert_exporter": "python",
   "pygments_lexer": "ipython3",
   "version": "3.8.5"
  }
 },
 "nbformat": 4,
 "nbformat_minor": 4
}
